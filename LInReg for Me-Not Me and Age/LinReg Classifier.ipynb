{
 "cells": [
  {
   "cell_type": "code",
   "execution_count": 154,
   "id": "47ba6964",
   "metadata": {},
   "outputs": [],
   "source": [
    "import pandas as pd\n",
    "import numpy as np\n",
    "from PIL import Image\n",
    "from sklearn.model_selection import train_test_split\n",
    "import cv2\n",
    "import pickle"
   ]
  },
  {
   "cell_type": "code",
   "execution_count": 155,
   "id": "d5b07c99",
   "metadata": {},
   "outputs": [],
   "source": [
    "celebDf  = pd.read_csv(\"Celeb.csv\")\n",
    "usDf = pd.read_csv(\"Hamza.csv\")"
   ]
  },
  {
   "cell_type": "code",
   "execution_count": 156,
   "id": "b3c1f948",
   "metadata": {},
   "outputs": [],
   "source": [
    "#Get Celeb data and then your image data\n",
    "#Concatnate the two dataframes to get a joint train, test split\n",
    "celeb_train, celeb_test = train_test_split(celebDf, test_size=0.3, random_state = 8)\n",
    "us_train, us_test = train_test_split(usDf, test_size=0.3, random_state = 8)\n",
    "\n",
    "frames = [celeb_train, us_train]\n",
    "train = pd.concat(frames)\n",
    "\n",
    "frames = [celeb_test, us_test]\n",
    "test = pd.concat(frames)"
   ]
  },
  {
   "cell_type": "code",
   "execution_count": 157,
   "id": "595a03df",
   "metadata": {},
   "outputs": [],
   "source": [
    "#Seperate the y_train and y_test. \n",
    "#We can have different objectives/y\n",
    "y1_train = train[\"Identity\"].to_numpy()\n",
    "y2_train = train[\"Expression\"].to_numpy()\n",
    "y3_train = train[\"Age\"].to_numpy()\n",
    "y1_test = test[\"Identity\"].to_numpy()\n",
    "y2_test = test[\"Expression\"].to_numpy()\n",
    "y3_test = test[\"Age\"].to_numpy()"
   ]
  },
  {
   "cell_type": "code",
   "execution_count": 158,
   "id": "ed386ddc",
   "metadata": {},
   "outputs": [],
   "source": [
    "#Get the train set image paths and convert it into a numpy array\n",
    "#train_paths = train[\"Path\"].to_numpy()\n",
    "#Iterate over each image path, open the image, convert to numpy array, resize the image, \n",
    "#and reshape it into a row vector\n",
    "#Append to a list\n",
    "#Convert it back to numpy array\n",
    "\n",
    "train_paths = train[\"Path\"]\n",
    "X_train = []\n",
    "for path in train_paths:\n",
    "    image = cv2.imread(path)\n",
    "    new_image = cv2.resize(image, (32, 32)) \n",
    "    rows, columns, channels = new_image.shape\n",
    "    new_image = new_image.reshape(rows * columns * channels)\n",
    "    \n",
    "    X_train.append(new_image / 255)\n",
    "    \n",
    "X_train = np.array(X_train)"
   ]
  },
  {
   "cell_type": "code",
   "execution_count": 159,
   "id": "47bf5cd0",
   "metadata": {},
   "outputs": [],
   "source": [
    "#Do the same as the train split path\n",
    "test_paths = test[\"Path\"].to_numpy()\n",
    "\n",
    "X_test = []\n",
    "for path in test_paths:\n",
    "    image = cv2.imread(path)\n",
    "    new_image = cv2.resize(image, (32, 32)) \n",
    "    rows, columns, channels = new_image.shape\n",
    "    new_image = new_image.reshape(rows * columns * channels)\n",
    "    \n",
    "    X_test.append(new_image / 255)\n",
    "        \n",
    "X_test = np.array(X_test)"
   ]
  },
  {
   "cell_type": "code",
   "execution_count": 160,
   "id": "4cd23b9d",
   "metadata": {},
   "outputs": [
    {
     "data": {
      "text/plain": [
       "(140, 3072)"
      ]
     },
     "execution_count": 160,
     "metadata": {},
     "output_type": "execute_result"
    }
   ],
   "source": [
    "X_train.shape"
   ]
  },
  {
   "cell_type": "code",
   "execution_count": 161,
   "id": "4ad79d73",
   "metadata": {},
   "outputs": [
    {
     "data": {
      "text/plain": [
       "(60, 3072)"
      ]
     },
     "execution_count": 161,
     "metadata": {},
     "output_type": "execute_result"
    }
   ],
   "source": [
    "X_test.shape"
   ]
  },
  {
   "cell_type": "markdown",
   "id": "17caf06f",
   "metadata": {},
   "source": [
    "# Linear Regression\n"
   ]
  },
  {
   "cell_type": "code",
   "execution_count": 162,
   "id": "60f341f0",
   "metadata": {},
   "outputs": [],
   "source": [
    "from sklearn.linear_model import LinearRegression\n",
    "from sklearn.metrics import r2_score\n",
    "from sklearn.metrics import mean_squared_error\n",
    "\n",
    "model1 = LinearRegression()\n",
    "model1 = model1.fit(X_train, y3_train)"
   ]
  },
  {
   "cell_type": "code",
   "execution_count": 163,
   "id": "aa890d39",
   "metadata": {},
   "outputs": [
    {
     "name": "stdout",
     "output_type": "stream",
     "text": [
      "The coefficients are: [-0.48741445 -0.56560441 -0.61233362 ...  0.28530772  0.12465966\n",
      " -0.45250063]\n",
      "The coefficients are: 21.61918866166709\n"
     ]
    }
   ],
   "source": [
    "print(\"The coefficients are:\",model1.coef_)\n",
    "print(\"The coefficients are:\",model1.intercept_)"
   ]
  },
  {
   "cell_type": "code",
   "execution_count": 164,
   "id": "862b7387",
   "metadata": {},
   "outputs": [
    {
     "name": "stdout",
     "output_type": "stream",
     "text": [
      "The MSE for the test set is: 432.4553090201663\n",
      "The R2 score for the test set is: 0.19873476951202773\n"
     ]
    }
   ],
   "source": [
    "preds = model1.predict(X_test)\n",
    "print(\"The MSE for the test set is:\", mean_squared_error(y3_test, preds))\n",
    "print(\"The R2 score for the test set is:\", r2_score(y3_test, preds))\n"
   ]
  },
  {
   "cell_type": "code",
   "execution_count": 165,
   "id": "0f7e5a5f",
   "metadata": {},
   "outputs": [
    {
     "name": "stdout",
     "output_type": "stream",
     "text": [
      "The MSE for the test set is: 6.348684948569684e-27\n",
      "The R2 score for the test set is: 1.0\n"
     ]
    }
   ],
   "source": [
    "#Overfitting on training\n",
    "preds = model1.predict(X_train)\n",
    "print(\"The MSE for the test set is:\", mean_squared_error(y3_train, preds))\n",
    "print(\"The R2 score for the test set is:\", r2_score(y3_train, preds))\n"
   ]
  },
  {
   "cell_type": "markdown",
   "id": "c88e6682",
   "metadata": {},
   "source": [
    "# SGD regression\n"
   ]
  },
  {
   "cell_type": "code",
   "execution_count": 166,
   "id": "6b81b418",
   "metadata": {},
   "outputs": [
    {
     "name": "stdout",
     "output_type": "stream",
     "text": [
      "The coefficients are: [-9.62535302e+07 -1.33575036e+06 -1.11179278e+06 ...  8.10098171e+08\n",
      "  5.36910240e+08  3.75841381e+08]\n",
      "The coefficients are: [-5.76129076e+08]\n"
     ]
    }
   ],
   "source": [
    "from sklearn.linear_model import SGDRegressor\n",
    "\n",
    "model2 = SGDRegressor(max_iter = 2000)\n",
    "model2 = model2.fit(X_train, y3_train)\n",
    "\n",
    "print(\"The coefficients are:\",model2.coef_)\n",
    "print(\"The coefficients are:\",model2.intercept_)"
   ]
  },
  {
   "cell_type": "code",
   "execution_count": 167,
   "id": "f5b85638",
   "metadata": {},
   "outputs": [
    {
     "name": "stdout",
     "output_type": "stream",
     "text": [
      "The MSE for the test set is: 4.438849514426494e+20\n",
      "The R2 score for the test set is: -8.22442390021049e+17\n"
     ]
    }
   ],
   "source": [
    "preds = model2.predict(X_test)\n",
    "print(\"The MSE for the test set is:\", mean_squared_error(y3_test, preds))\n",
    "print(\"The R2 score for the test set is:\", r2_score(y3_test, preds))"
   ]
  },
  {
   "cell_type": "code",
   "execution_count": 168,
   "id": "03d4486d",
   "metadata": {},
   "outputs": [
    {
     "name": "stdout",
     "output_type": "stream",
     "text": [
      "The MSE for the test set is: 4.1049207343000447e+20\n",
      "The R2 score for the test set is: -9.022775090420236e+17\n"
     ]
    }
   ],
   "source": [
    "#Overfitting on training\n",
    "preds = model2.predict(X_train)\n",
    "print(\"The MSE for the test set is:\", mean_squared_error(y3_train, preds))\n",
    "print(\"The R2 score for the test set is:\", r2_score(y3_train, preds))\n"
   ]
  },
  {
   "cell_type": "markdown",
   "id": "75883881",
   "metadata": {},
   "source": [
    "# Pickling the models"
   ]
  },
  {
   "cell_type": "code",
   "execution_count": 169,
   "id": "572089d5",
   "metadata": {},
   "outputs": [],
   "source": [
    "#pickle converts the data into serialized format. You can convert it \n",
    "#into any language and web app\n",
    "#You can also store it into AWS cloud as well. You can store it in AWS buckets as well"
   ]
  },
  {
   "cell_type": "code",
   "execution_count": 170,
   "id": "62c583a4",
   "metadata": {},
   "outputs": [],
   "source": [
    "pickle.dump(model1, open(\"models/linModel.pkl\", \"wb\")) #wb is write byte mode\n",
    "pickle.dump(model2, open(\"models/sdgModel.pkl\", \"wb\")) "
   ]
  },
  {
   "cell_type": "code",
   "execution_count": 171,
   "id": "c8e5998f",
   "metadata": {},
   "outputs": [],
   "source": [
    "model1 = pickle.load(open(\"models/linModel.pkl\", \"rb\")) #rb is write byte mode\n",
    "model2 = pickle.load(open(\"models/sdgModel.pkl\", \"rb\")) #rb is write byte mode"
   ]
  },
  {
   "cell_type": "code",
   "execution_count": 172,
   "id": "ee40a487",
   "metadata": {},
   "outputs": [
    {
     "name": "stdout",
     "output_type": "stream",
     "text": [
      "The MSE for the test set is: 432.4553090201663\n",
      "The R2 score for the test set is: 0.19873476951202773\n"
     ]
    }
   ],
   "source": [
    "preds = model1.predict(X_test)\n",
    "print(\"The MSE for the test set is:\", mean_squared_error(y3_test, preds))\n",
    "print(\"The R2 score for the test set is:\", r2_score(y3_test, preds))"
   ]
  },
  {
   "cell_type": "code",
   "execution_count": 173,
   "id": "83e0a0c3",
   "metadata": {},
   "outputs": [
    {
     "name": "stdout",
     "output_type": "stream",
     "text": [
      "The MSE for the test set is: 4.438849514426494e+20\n",
      "The R2 score for the test set is: -8.22442390021049e+17\n"
     ]
    }
   ],
   "source": [
    "preds = model2.predict(X_test)\n",
    "print(\"The MSE for the test set is:\", mean_squared_error(y3_test, preds))\n",
    "print(\"The R2 score for the test set is:\", r2_score(y3_test, preds))"
   ]
  }
 ],
 "metadata": {
  "kernelspec": {
   "display_name": "Python 3 (ipykernel)",
   "language": "python",
   "name": "python3"
  },
  "language_info": {
   "codemirror_mode": {
    "name": "ipython",
    "version": 3
   },
   "file_extension": ".py",
   "mimetype": "text/x-python",
   "name": "python",
   "nbconvert_exporter": "python",
   "pygments_lexer": "ipython3",
   "version": "3.9.13"
  }
 },
 "nbformat": 4,
 "nbformat_minor": 5
}
