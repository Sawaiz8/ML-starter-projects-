{
 "cells": [
  {
   "cell_type": "code",
   "execution_count": 40,
   "id": "dd44d4fb",
   "metadata": {},
   "outputs": [],
   "source": [
    "import pandas as pd\n",
    "import numpy as np\n",
    "from PIL import Image\n",
    "from sklearn.model_selection import train_test_split\n",
    "import cv2\n",
    "import pickle\n",
    "from sklearn.metrics import accuracy_score, f1_score, recall_score, precision_score,precision_recall_curve"
   ]
  },
  {
   "cell_type": "code",
   "execution_count": 41,
   "id": "d913ee1e",
   "metadata": {},
   "outputs": [],
   "source": [
    "celebDf  = pd.read_csv(\"Celeb.csv\")\n",
    "usDf = pd.read_csv(\"Hamza.csv\")"
   ]
  },
  {
   "cell_type": "code",
   "execution_count": 42,
   "id": "2d63b6cd",
   "metadata": {},
   "outputs": [],
   "source": [
    "#Get Celeb data and then your image data\n",
    "#Concatnate the two dataframes to get a joint train, test split\n",
    "celeb_train, celeb_test = train_test_split(celebDf, test_size=0.3, random_state = 8)\n",
    "us_train, us_test = train_test_split(usDf, test_size=0.3, random_state = 8)\n",
    "\n",
    "frames = [celeb_train, us_train]\n",
    "train = pd.concat(frames)\n",
    "\n",
    "frames = [celeb_test, us_test]\n",
    "test = pd.concat(frames)"
   ]
  },
  {
   "cell_type": "code",
   "execution_count": 43,
   "id": "9b6423e8",
   "metadata": {},
   "outputs": [],
   "source": [
    "#Seperate the y_train and y_test. \n",
    "#We can have different objectives/y\n",
    "y1_train = train[\"Identity\"].to_numpy()\n",
    "y2_train = train[\"Expression\"].to_numpy()\n",
    "y3_train = train[\"Age\"].to_numpy()\n",
    "y1_test = test[\"Identity\"].to_numpy()\n",
    "y2_test = test[\"Expression\"].to_numpy()\n",
    "y3_test = test[\"Age\"].to_numpy()"
   ]
  },
  {
   "cell_type": "code",
   "execution_count": 44,
   "id": "ee084315",
   "metadata": {},
   "outputs": [],
   "source": [
    "#Get the train set image paths and convert it into a numpy array\n",
    "#train_paths = train[\"Path\"].to_numpy()\n",
    "#Iterate over each image path, open the image, convert to numpy array, resize the image, \n",
    "#and reshape it into a row vector\n",
    "#Append to a list\n",
    "#Convert it back to numpy array\n",
    "\n",
    "train_paths = train[\"Path\"]\n",
    "X_train = []\n",
    "for path in train_paths:\n",
    "    image = cv2.imread(path)\n",
    "    new_image = cv2.resize(image, (224, 224)) \n",
    "    \n",
    "    X_train.append(new_image)\n",
    "    \n",
    "X_train = np.array(X_train)"
   ]
  },
  {
   "cell_type": "code",
   "execution_count": 45,
   "id": "db1121d3",
   "metadata": {},
   "outputs": [],
   "source": [
    "#Do the same as the train split path\n",
    "test_paths = test[\"Path\"].to_numpy()\n",
    "\n",
    "X_test = []\n",
    "for path in test_paths:\n",
    "    image = cv2.imread(path)\n",
    "    new_image = cv2.resize(image, (224, 224)) \n",
    "    \n",
    "    X_test.append(new_image)\n",
    "        \n",
    "X_test = np.array(X_test)"
   ]
  },
  {
   "cell_type": "code",
   "execution_count": 46,
   "id": "eb4d28b2",
   "metadata": {},
   "outputs": [
    {
     "data": {
      "text/plain": [
       "(140, 224, 224, 3)"
      ]
     },
     "execution_count": 46,
     "metadata": {},
     "output_type": "execute_result"
    }
   ],
   "source": [
    "X_train.shape"
   ]
  },
  {
   "cell_type": "code",
   "execution_count": 47,
   "id": "7b0f64b0",
   "metadata": {},
   "outputs": [
    {
     "data": {
      "text/plain": [
       "(60, 224, 224, 3)"
      ]
     },
     "execution_count": 47,
     "metadata": {},
     "output_type": "execute_result"
    }
   ],
   "source": [
    "X_test.shape"
   ]
  },
  {
   "cell_type": "code",
   "execution_count": 48,
   "id": "9c9bc149",
   "metadata": {},
   "outputs": [],
   "source": [
    "from sklearn.preprocessing import LabelEncoder\n",
    "encoder = LabelEncoder()\n",
    "encoder.fit(y1_train)\n",
    "y1_train_encoded = encoder.transform(y1_train)\n",
    "y1_test_encoded = encoder.transform(y1_test)"
   ]
  },
  {
   "cell_type": "code",
   "execution_count": 49,
   "id": "f09d78c4",
   "metadata": {},
   "outputs": [],
   "source": [
    "encoder = LabelEncoder()\n",
    "encoder.fit(y2_train)\n",
    "y2_train_encoded = encoder.transform(y2_train)\n",
    "y2_test_encoded = encoder.transform(y2_test)"
   ]
  },
  {
   "cell_type": "code",
   "execution_count": 51,
   "id": "06ccbce9",
   "metadata": {},
   "outputs": [],
   "source": [
    "import tensorflow as tf"
   ]
  },
  {
   "cell_type": "code",
   "execution_count": 52,
   "id": "ced79a3f",
   "metadata": {},
   "outputs": [],
   "source": [
    "from tensorflow.keras.layers import Conv2D, GlobalAveragePooling2D, MaxPooling2D\n",
    "from tensorflow.keras import Model"
   ]
  },
  {
   "cell_type": "code",
   "execution_count": 53,
   "id": "8737c2ad",
   "metadata": {},
   "outputs": [],
   "source": [
    "inputs = tf.keras.layers.Input(shape = (224,224,3))\n",
    "x = Conv2D(8, 3, strides = 1,  padding = \"valid\", activation = \"relu\")(inputs)\n",
    "x = MaxPooling2D(2, strides = 2, padding = \"valid\")(x)\n",
    "x = Conv2D(16, 3, strides = 2,  padding = \"valid\", activation = \"relu\")(x)\n",
    "x = MaxPooling2D(2, strides = 2, padding = \"valid\")(x)\n",
    "x = Conv2D(32, 3, strides = 2,  padding = \"valid\", activation = \"relu\")(x)\n",
    "x = Conv2D(64, 3, strides = 1,  padding = \"valid\", activation = \"relu\")(x)\n",
    "x = Conv2D(128, 3, strides = 1,  padding = \"valid\", activation = \"relu\")(x)\n",
    "\n",
    "x = GlobalAveragePooling2D()(x)\n",
    "x = tf.keras.layers.Dense(256, activation = \"relu\")(x)\n",
    "x = tf.keras.layers.Dense(1, activation = \"sigmoid\")(x)\n",
    "model = Model(inputs = inputs, outputs = x)\n"
   ]
  },
  {
   "cell_type": "code",
   "execution_count": 54,
   "id": "59c923f2",
   "metadata": {},
   "outputs": [
    {
     "name": "stdout",
     "output_type": "stream",
     "text": [
      "Model: \"model_5\"\n",
      "_________________________________________________________________\n",
      " Layer (type)                Output Shape              Param #   \n",
      "=================================================================\n",
      " input_6 (InputLayer)        [(None, 224, 224, 3)]     0         \n",
      "                                                                 \n",
      " conv2d_27 (Conv2D)          (None, 222, 222, 8)       224       \n",
      "                                                                 \n",
      " max_pooling2d_7 (MaxPooling  (None, 111, 111, 8)      0         \n",
      " 2D)                                                             \n",
      "                                                                 \n",
      " conv2d_28 (Conv2D)          (None, 55, 55, 16)        1168      \n",
      "                                                                 \n",
      " max_pooling2d_8 (MaxPooling  (None, 27, 27, 16)       0         \n",
      " 2D)                                                             \n",
      "                                                                 \n",
      " conv2d_29 (Conv2D)          (None, 13, 13, 32)        4640      \n",
      "                                                                 \n",
      " conv2d_30 (Conv2D)          (None, 11, 11, 64)        18496     \n",
      "                                                                 \n",
      " conv2d_31 (Conv2D)          (None, 9, 9, 128)         73856     \n",
      "                                                                 \n",
      " global_average_pooling2d_3   (None, 128)              0         \n",
      " (GlobalAveragePooling2D)                                        \n",
      "                                                                 \n",
      " dense_12 (Dense)            (None, 256)               33024     \n",
      "                                                                 \n",
      " dense_13 (Dense)            (None, 1)                 257       \n",
      "                                                                 \n",
      "=================================================================\n",
      "Total params: 131,665\n",
      "Trainable params: 131,665\n",
      "Non-trainable params: 0\n",
      "_________________________________________________________________\n"
     ]
    }
   ],
   "source": [
    "model.summary()"
   ]
  },
  {
   "cell_type": "code",
   "execution_count": 55,
   "id": "edc56a35",
   "metadata": {},
   "outputs": [],
   "source": [
    "model.compile(optimizer = tf.keras.optimizers.Adam(0.00001), loss = tf.keras.losses.BinaryCrossentropy(), metrics = [\"accuracy\"])"
   ]
  },
  {
   "cell_type": "code",
   "execution_count": 56,
   "id": "8ee7d1c4",
   "metadata": {},
   "outputs": [
    {
     "name": "stdout",
     "output_type": "stream",
     "text": [
      "Epoch 1/500\n",
      "5/5 [==============================] - 2s 48ms/step - loss: 7.6970 - accuracy: 0.5000 - val_loss: 6.8113 - val_accuracy: 0.5000\n",
      "Epoch 2/500\n",
      "5/5 [==============================] - 0s 19ms/step - loss: 6.4446 - accuracy: 0.5000 - val_loss: 5.5345 - val_accuracy: 0.5000\n",
      "Epoch 3/500\n",
      "5/5 [==============================] - 0s 19ms/step - loss: 5.1110 - accuracy: 0.5000 - val_loss: 4.2576 - val_accuracy: 0.5000\n",
      "Epoch 4/500\n",
      "5/5 [==============================] - 0s 19ms/step - loss: 3.8220 - accuracy: 0.5000 - val_loss: 2.9968 - val_accuracy: 0.5000\n",
      "Epoch 5/500\n",
      "5/5 [==============================] - 0s 18ms/step - loss: 2.5640 - accuracy: 0.5000 - val_loss: 1.8469 - val_accuracy: 0.5000\n",
      "Epoch 6/500\n",
      "5/5 [==============================] - 0s 18ms/step - loss: 1.3858 - accuracy: 0.5000 - val_loss: 1.0156 - val_accuracy: 0.5333\n",
      "Epoch 7/500\n",
      "5/5 [==============================] - 0s 18ms/step - loss: 0.8386 - accuracy: 0.4857 - val_loss: 0.9503 - val_accuracy: 0.3833\n",
      "Epoch 8/500\n",
      "5/5 [==============================] - 0s 19ms/step - loss: 1.0058 - accuracy: 0.4571 - val_loss: 1.1379 - val_accuracy: 0.4833\n",
      "Epoch 9/500\n",
      "5/5 [==============================] - 0s 19ms/step - loss: 1.0754 - accuracy: 0.4786 - val_loss: 1.0023 - val_accuracy: 0.4667\n",
      "Epoch 10/500\n",
      "5/5 [==============================] - 0s 19ms/step - loss: 0.9002 - accuracy: 0.4500 - val_loss: 0.8057 - val_accuracy: 0.3000\n",
      "Epoch 11/500\n",
      "5/5 [==============================] - 0s 19ms/step - loss: 0.7440 - accuracy: 0.5214 - val_loss: 0.7824 - val_accuracy: 0.4667\n",
      "Epoch 12/500\n",
      "5/5 [==============================] - 0s 19ms/step - loss: 0.7479 - accuracy: 0.5786 - val_loss: 0.7862 - val_accuracy: 0.5500\n",
      "Epoch 13/500\n",
      "5/5 [==============================] - 0s 19ms/step - loss: 0.7408 - accuracy: 0.5786 - val_loss: 0.7434 - val_accuracy: 0.5167\n",
      "Epoch 14/500\n",
      "5/5 [==============================] - 0s 18ms/step - loss: 0.6991 - accuracy: 0.6500 - val_loss: 0.7141 - val_accuracy: 0.5333\n",
      "Epoch 15/500\n",
      "5/5 [==============================] - 0s 19ms/step - loss: 0.6848 - accuracy: 0.6571 - val_loss: 0.7015 - val_accuracy: 0.5000\n",
      "Epoch 16/500\n",
      "5/5 [==============================] - 0s 19ms/step - loss: 0.6727 - accuracy: 0.6571 - val_loss: 0.6858 - val_accuracy: 0.5167\n",
      "Epoch 17/500\n",
      "5/5 [==============================] - 0s 18ms/step - loss: 0.6565 - accuracy: 0.6857 - val_loss: 0.6733 - val_accuracy: 0.5333\n",
      "Epoch 18/500\n",
      "5/5 [==============================] - 0s 18ms/step - loss: 0.6449 - accuracy: 0.6857 - val_loss: 0.6627 - val_accuracy: 0.5667\n",
      "Epoch 19/500\n",
      "5/5 [==============================] - 0s 18ms/step - loss: 0.6345 - accuracy: 0.6786 - val_loss: 0.6510 - val_accuracy: 0.5667\n",
      "Epoch 20/500\n",
      "5/5 [==============================] - 0s 19ms/step - loss: 0.6221 - accuracy: 0.7071 - val_loss: 0.6370 - val_accuracy: 0.6500\n",
      "Epoch 21/500\n",
      "5/5 [==============================] - 0s 18ms/step - loss: 0.6098 - accuracy: 0.7214 - val_loss: 0.6218 - val_accuracy: 0.6667\n",
      "Epoch 22/500\n",
      "5/5 [==============================] - 0s 19ms/step - loss: 0.5989 - accuracy: 0.7214 - val_loss: 0.6096 - val_accuracy: 0.6667\n",
      "Epoch 23/500\n",
      "5/5 [==============================] - 0s 18ms/step - loss: 0.5855 - accuracy: 0.7143 - val_loss: 0.5975 - val_accuracy: 0.6833\n",
      "Epoch 24/500\n",
      "5/5 [==============================] - 0s 20ms/step - loss: 0.5743 - accuracy: 0.7143 - val_loss: 0.5823 - val_accuracy: 0.7000\n",
      "Epoch 25/500\n",
      "5/5 [==============================] - 0s 19ms/step - loss: 0.5617 - accuracy: 0.7500 - val_loss: 0.5696 - val_accuracy: 0.7000\n",
      "Epoch 26/500\n",
      "5/5 [==============================] - 0s 19ms/step - loss: 0.5517 - accuracy: 0.7500 - val_loss: 0.5593 - val_accuracy: 0.7333\n",
      "Epoch 27/500\n",
      "5/5 [==============================] - 0s 19ms/step - loss: 0.5435 - accuracy: 0.7429 - val_loss: 0.5494 - val_accuracy: 0.7333\n",
      "Epoch 28/500\n",
      "5/5 [==============================] - 0s 19ms/step - loss: 0.5339 - accuracy: 0.7500 - val_loss: 0.5394 - val_accuracy: 0.7500\n",
      "Epoch 29/500\n",
      "5/5 [==============================] - 0s 19ms/step - loss: 0.5236 - accuracy: 0.7429 - val_loss: 0.5307 - val_accuracy: 0.7667\n",
      "Epoch 30/500\n",
      "5/5 [==============================] - 0s 19ms/step - loss: 0.5157 - accuracy: 0.7429 - val_loss: 0.5205 - val_accuracy: 0.7833\n",
      "Epoch 31/500\n",
      "5/5 [==============================] - 0s 19ms/step - loss: 0.5054 - accuracy: 0.7643 - val_loss: 0.5108 - val_accuracy: 0.7833\n",
      "Epoch 32/500\n",
      "5/5 [==============================] - 0s 19ms/step - loss: 0.4956 - accuracy: 0.7714 - val_loss: 0.5015 - val_accuracy: 0.8000\n",
      "Epoch 33/500\n",
      "5/5 [==============================] - 0s 19ms/step - loss: 0.4865 - accuracy: 0.7500 - val_loss: 0.4913 - val_accuracy: 0.8167\n",
      "Epoch 34/500\n",
      "5/5 [==============================] - 0s 19ms/step - loss: 0.4772 - accuracy: 0.7571 - val_loss: 0.4816 - val_accuracy: 0.8333\n",
      "Epoch 35/500\n",
      "5/5 [==============================] - 0s 19ms/step - loss: 0.4667 - accuracy: 0.7643 - val_loss: 0.4727 - val_accuracy: 0.8500\n",
      "Epoch 36/500\n",
      "5/5 [==============================] - 0s 19ms/step - loss: 0.4607 - accuracy: 0.7643 - val_loss: 0.4668 - val_accuracy: 0.8167\n",
      "Epoch 37/500\n",
      "5/5 [==============================] - 0s 19ms/step - loss: 0.4491 - accuracy: 0.7714 - val_loss: 0.4537 - val_accuracy: 0.8667\n",
      "Epoch 38/500\n",
      "5/5 [==============================] - 0s 18ms/step - loss: 0.4401 - accuracy: 0.7857 - val_loss: 0.4447 - val_accuracy: 0.8667\n",
      "Epoch 39/500\n",
      "5/5 [==============================] - 0s 18ms/step - loss: 0.4307 - accuracy: 0.7929 - val_loss: 0.4372 - val_accuracy: 0.8500\n",
      "Epoch 40/500\n",
      "5/5 [==============================] - 0s 19ms/step - loss: 0.4221 - accuracy: 0.8000 - val_loss: 0.4292 - val_accuracy: 0.8500\n",
      "Epoch 41/500\n",
      "5/5 [==============================] - 0s 19ms/step - loss: 0.4128 - accuracy: 0.8000 - val_loss: 0.4186 - val_accuracy: 0.8667\n",
      "Epoch 42/500\n",
      "5/5 [==============================] - 0s 19ms/step - loss: 0.4107 - accuracy: 0.8071 - val_loss: 0.4120 - val_accuracy: 0.8667\n",
      "Epoch 43/500\n",
      "5/5 [==============================] - 0s 19ms/step - loss: 0.3999 - accuracy: 0.8143 - val_loss: 0.4042 - val_accuracy: 0.8833\n",
      "Epoch 44/500\n",
      "5/5 [==============================] - 0s 19ms/step - loss: 0.3925 - accuracy: 0.8143 - val_loss: 0.4016 - val_accuracy: 0.8333\n",
      "Epoch 45/500\n",
      "5/5 [==============================] - 0s 18ms/step - loss: 0.3869 - accuracy: 0.8286 - val_loss: 0.3937 - val_accuracy: 0.8500\n",
      "Epoch 46/500\n",
      "5/5 [==============================] - 0s 19ms/step - loss: 0.3787 - accuracy: 0.8286 - val_loss: 0.3832 - val_accuracy: 0.8833\n",
      "Epoch 47/500\n",
      "5/5 [==============================] - 0s 19ms/step - loss: 0.3725 - accuracy: 0.8286 - val_loss: 0.3782 - val_accuracy: 0.8667\n",
      "Epoch 48/500\n",
      "5/5 [==============================] - 0s 19ms/step - loss: 0.3658 - accuracy: 0.8429 - val_loss: 0.3751 - val_accuracy: 0.8500\n",
      "Epoch 49/500\n",
      "5/5 [==============================] - 0s 18ms/step - loss: 0.3625 - accuracy: 0.8357 - val_loss: 0.3712 - val_accuracy: 0.8500\n",
      "Epoch 50/500\n",
      "5/5 [==============================] - 0s 19ms/step - loss: 0.3574 - accuracy: 0.8500 - val_loss: 0.3603 - val_accuracy: 0.8667\n",
      "Epoch 51/500\n",
      "5/5 [==============================] - 0s 19ms/step - loss: 0.3506 - accuracy: 0.8643 - val_loss: 0.3565 - val_accuracy: 0.8667\n",
      "Epoch 52/500\n",
      "5/5 [==============================] - 0s 18ms/step - loss: 0.3467 - accuracy: 0.8500 - val_loss: 0.3578 - val_accuracy: 0.8500\n",
      "Epoch 53/500\n",
      "5/5 [==============================] - 0s 19ms/step - loss: 0.3428 - accuracy: 0.8500 - val_loss: 0.3484 - val_accuracy: 0.8500\n",
      "Epoch 54/500\n",
      "5/5 [==============================] - 0s 19ms/step - loss: 0.3365 - accuracy: 0.8571 - val_loss: 0.3407 - val_accuracy: 0.8667\n",
      "Epoch 55/500\n",
      "5/5 [==============================] - 0s 19ms/step - loss: 0.3320 - accuracy: 0.8643 - val_loss: 0.3359 - val_accuracy: 0.8667\n",
      "Epoch 56/500\n",
      "5/5 [==============================] - 0s 18ms/step - loss: 0.3267 - accuracy: 0.8786 - val_loss: 0.3301 - val_accuracy: 0.8667\n",
      "Epoch 57/500\n",
      "5/5 [==============================] - 0s 20ms/step - loss: 0.3262 - accuracy: 0.8714 - val_loss: 0.3230 - val_accuracy: 0.9000\n",
      "Epoch 58/500\n",
      "5/5 [==============================] - 0s 17ms/step - loss: 0.3175 - accuracy: 0.8786 - val_loss: 0.3209 - val_accuracy: 0.8667\n",
      "Epoch 59/500\n"
     ]
    },
    {
     "name": "stdout",
     "output_type": "stream",
     "text": [
      "5/5 [==============================] - 0s 18ms/step - loss: 0.3121 - accuracy: 0.8857 - val_loss: 0.3207 - val_accuracy: 0.8833\n",
      "Epoch 60/500\n",
      "5/5 [==============================] - 0s 18ms/step - loss: 0.3085 - accuracy: 0.8857 - val_loss: 0.3156 - val_accuracy: 0.8667\n",
      "Epoch 61/500\n",
      "5/5 [==============================] - 0s 18ms/step - loss: 0.3025 - accuracy: 0.8857 - val_loss: 0.3078 - val_accuracy: 0.9000\n",
      "Epoch 62/500\n",
      "5/5 [==============================] - 0s 19ms/step - loss: 0.3013 - accuracy: 0.8929 - val_loss: 0.3046 - val_accuracy: 0.8833\n",
      "Epoch 63/500\n",
      "5/5 [==============================] - 0s 19ms/step - loss: 0.2981 - accuracy: 0.9000 - val_loss: 0.3052 - val_accuracy: 0.9000\n",
      "Epoch 64/500\n",
      "5/5 [==============================] - 0s 20ms/step - loss: 0.2945 - accuracy: 0.8929 - val_loss: 0.3004 - val_accuracy: 0.8833\n",
      "Epoch 65/500\n",
      "5/5 [==============================] - 0s 19ms/step - loss: 0.2917 - accuracy: 0.9000 - val_loss: 0.2977 - val_accuracy: 0.8833\n",
      "Epoch 66/500\n",
      "5/5 [==============================] - 0s 18ms/step - loss: 0.2908 - accuracy: 0.9000 - val_loss: 0.2936 - val_accuracy: 0.8833\n",
      "Epoch 67/500\n",
      "5/5 [==============================] - 0s 18ms/step - loss: 0.2853 - accuracy: 0.9000 - val_loss: 0.2984 - val_accuracy: 0.8833\n",
      "Epoch 68/500\n",
      "5/5 [==============================] - 0s 18ms/step - loss: 0.2855 - accuracy: 0.9000 - val_loss: 0.2946 - val_accuracy: 0.8833\n",
      "Epoch 69/500\n",
      "5/5 [==============================] - 0s 18ms/step - loss: 0.2815 - accuracy: 0.8857 - val_loss: 0.2863 - val_accuracy: 0.8833\n",
      "Epoch 70/500\n",
      "5/5 [==============================] - 0s 19ms/step - loss: 0.2799 - accuracy: 0.9000 - val_loss: 0.2830 - val_accuracy: 0.8833\n",
      "Epoch 71/500\n",
      "5/5 [==============================] - 0s 18ms/step - loss: 0.2775 - accuracy: 0.9000 - val_loss: 0.2825 - val_accuracy: 0.8833\n",
      "Epoch 72/500\n",
      "5/5 [==============================] - 0s 20ms/step - loss: 0.2761 - accuracy: 0.9071 - val_loss: 0.2830 - val_accuracy: 0.9000\n",
      "Epoch 73/500\n",
      "5/5 [==============================] - 0s 19ms/step - loss: 0.2743 - accuracy: 0.9214 - val_loss: 0.2792 - val_accuracy: 0.9167\n",
      "Epoch 74/500\n",
      "5/5 [==============================] - 0s 18ms/step - loss: 0.2716 - accuracy: 0.9071 - val_loss: 0.2775 - val_accuracy: 0.9000\n",
      "Epoch 75/500\n",
      "5/5 [==============================] - 0s 18ms/step - loss: 0.2693 - accuracy: 0.9143 - val_loss: 0.2828 - val_accuracy: 0.8833\n",
      "Epoch 76/500\n",
      "5/5 [==============================] - 0s 18ms/step - loss: 0.2671 - accuracy: 0.9071 - val_loss: 0.2825 - val_accuracy: 0.8833\n",
      "Epoch 77/500\n",
      "5/5 [==============================] - 0s 18ms/step - loss: 0.2653 - accuracy: 0.9143 - val_loss: 0.2724 - val_accuracy: 0.9000\n",
      "Epoch 78/500\n",
      "5/5 [==============================] - 0s 19ms/step - loss: 0.2605 - accuracy: 0.9214 - val_loss: 0.2690 - val_accuracy: 0.9167\n",
      "Epoch 79/500\n",
      "5/5 [==============================] - 0s 18ms/step - loss: 0.2599 - accuracy: 0.9214 - val_loss: 0.2668 - val_accuracy: 0.9167\n",
      "Epoch 80/500\n",
      "5/5 [==============================] - 0s 19ms/step - loss: 0.2569 - accuracy: 0.9143 - val_loss: 0.2719 - val_accuracy: 0.8833\n",
      "Epoch 81/500\n",
      "5/5 [==============================] - 0s 18ms/step - loss: 0.2554 - accuracy: 0.9143 - val_loss: 0.2658 - val_accuracy: 0.9000\n",
      "Epoch 82/500\n",
      "5/5 [==============================] - 0s 19ms/step - loss: 0.2515 - accuracy: 0.9143 - val_loss: 0.2603 - val_accuracy: 0.9167\n",
      "Epoch 83/500\n",
      "5/5 [==============================] - 0s 18ms/step - loss: 0.2502 - accuracy: 0.9286 - val_loss: 0.2581 - val_accuracy: 0.9167\n",
      "Epoch 84/500\n",
      "5/5 [==============================] - 0s 19ms/step - loss: 0.2506 - accuracy: 0.9286 - val_loss: 0.2567 - val_accuracy: 0.9167\n",
      "Epoch 85/500\n",
      "5/5 [==============================] - 0s 18ms/step - loss: 0.2443 - accuracy: 0.9214 - val_loss: 0.2648 - val_accuracy: 0.8833\n",
      "Epoch 86/500\n",
      "5/5 [==============================] - 0s 18ms/step - loss: 0.2496 - accuracy: 0.9143 - val_loss: 0.2644 - val_accuracy: 0.8833\n",
      "Epoch 87/500\n",
      "5/5 [==============================] - 0s 18ms/step - loss: 0.2458 - accuracy: 0.9214 - val_loss: 0.2502 - val_accuracy: 0.9167\n",
      "Epoch 88/500\n",
      "5/5 [==============================] - 0s 18ms/step - loss: 0.2433 - accuracy: 0.9286 - val_loss: 0.2489 - val_accuracy: 0.9167\n",
      "Epoch 89/500\n",
      "5/5 [==============================] - 0s 18ms/step - loss: 0.2390 - accuracy: 0.9286 - val_loss: 0.2503 - val_accuracy: 0.9167\n",
      "Epoch 90/500\n",
      "5/5 [==============================] - 0s 19ms/step - loss: 0.2379 - accuracy: 0.9286 - val_loss: 0.2516 - val_accuracy: 0.9167\n",
      "Epoch 91/500\n",
      "5/5 [==============================] - 0s 19ms/step - loss: 0.2374 - accuracy: 0.9286 - val_loss: 0.2513 - val_accuracy: 0.9167\n",
      "Epoch 92/500\n",
      "5/5 [==============================] - 0s 18ms/step - loss: 0.2356 - accuracy: 0.9214 - val_loss: 0.2489 - val_accuracy: 0.9167\n",
      "Epoch 93/500\n",
      "5/5 [==============================] - 0s 18ms/step - loss: 0.2325 - accuracy: 0.9286 - val_loss: 0.2433 - val_accuracy: 0.9167\n",
      "Epoch 94/500\n",
      "5/5 [==============================] - 0s 19ms/step - loss: 0.2315 - accuracy: 0.9357 - val_loss: 0.2394 - val_accuracy: 0.9167\n",
      "Epoch 95/500\n",
      "5/5 [==============================] - 0s 18ms/step - loss: 0.2311 - accuracy: 0.9357 - val_loss: 0.2381 - val_accuracy: 0.9167\n",
      "Epoch 96/500\n",
      "5/5 [==============================] - 0s 18ms/step - loss: 0.2283 - accuracy: 0.9286 - val_loss: 0.2451 - val_accuracy: 0.9000\n",
      "Epoch 97/500\n",
      "5/5 [==============================] - 0s 18ms/step - loss: 0.2271 - accuracy: 0.9286 - val_loss: 0.2360 - val_accuracy: 0.9167\n",
      "Epoch 98/500\n",
      "5/5 [==============================] - 0s 19ms/step - loss: 0.2242 - accuracy: 0.9357 - val_loss: 0.2353 - val_accuracy: 0.9167\n",
      "Epoch 99/500\n",
      "5/5 [==============================] - 0s 18ms/step - loss: 0.2221 - accuracy: 0.9357 - val_loss: 0.2331 - val_accuracy: 0.9167\n",
      "Epoch 100/500\n",
      "5/5 [==============================] - 0s 18ms/step - loss: 0.2208 - accuracy: 0.9357 - val_loss: 0.2300 - val_accuracy: 0.9167\n",
      "Epoch 101/500\n",
      "5/5 [==============================] - 0s 18ms/step - loss: 0.2203 - accuracy: 0.9357 - val_loss: 0.2297 - val_accuracy: 0.9167\n",
      "Epoch 102/500\n",
      "5/5 [==============================] - 0s 19ms/step - loss: 0.2160 - accuracy: 0.9357 - val_loss: 0.2335 - val_accuracy: 0.9167\n",
      "Epoch 103/500\n",
      "5/5 [==============================] - 0s 18ms/step - loss: 0.2179 - accuracy: 0.9429 - val_loss: 0.2334 - val_accuracy: 0.9167\n",
      "Epoch 104/500\n",
      "5/5 [==============================] - 0s 19ms/step - loss: 0.2147 - accuracy: 0.9429 - val_loss: 0.2241 - val_accuracy: 0.9167\n",
      "Epoch 105/500\n",
      "5/5 [==============================] - 0s 18ms/step - loss: 0.2132 - accuracy: 0.9357 - val_loss: 0.2230 - val_accuracy: 0.9167\n",
      "Epoch 106/500\n",
      "5/5 [==============================] - 0s 20ms/step - loss: 0.2105 - accuracy: 0.9357 - val_loss: 0.2247 - val_accuracy: 0.9167\n",
      "Epoch 107/500\n",
      "5/5 [==============================] - 0s 18ms/step - loss: 0.2096 - accuracy: 0.9429 - val_loss: 0.2285 - val_accuracy: 0.9167\n",
      "Epoch 108/500\n",
      "5/5 [==============================] - 0s 19ms/step - loss: 0.2073 - accuracy: 0.9429 - val_loss: 0.2180 - val_accuracy: 0.9500\n",
      "Epoch 109/500\n",
      "5/5 [==============================] - 0s 18ms/step - loss: 0.2056 - accuracy: 0.9357 - val_loss: 0.2151 - val_accuracy: 0.9500\n",
      "Epoch 110/500\n",
      "5/5 [==============================] - 0s 18ms/step - loss: 0.2049 - accuracy: 0.9357 - val_loss: 0.2146 - val_accuracy: 0.9500\n",
      "Epoch 111/500\n",
      "5/5 [==============================] - 0s 18ms/step - loss: 0.2007 - accuracy: 0.9357 - val_loss: 0.2225 - val_accuracy: 0.9167\n",
      "Epoch 112/500\n",
      "5/5 [==============================] - 0s 18ms/step - loss: 0.2014 - accuracy: 0.9429 - val_loss: 0.2139 - val_accuracy: 0.9500\n",
      "Epoch 113/500\n",
      "5/5 [==============================] - 0s 19ms/step - loss: 0.1993 - accuracy: 0.9357 - val_loss: 0.2135 - val_accuracy: 0.9500\n",
      "Epoch 114/500\n",
      "5/5 [==============================] - 0s 18ms/step - loss: 0.2027 - accuracy: 0.9286 - val_loss: 0.2114 - val_accuracy: 0.9500\n",
      "Epoch 115/500\n",
      "5/5 [==============================] - 0s 18ms/step - loss: 0.2035 - accuracy: 0.9357 - val_loss: 0.2427 - val_accuracy: 0.8833\n",
      "Epoch 116/500\n",
      "5/5 [==============================] - 0s 18ms/step - loss: 0.2012 - accuracy: 0.9429 - val_loss: 0.2087 - val_accuracy: 0.9667\n",
      "Epoch 117/500\n"
     ]
    },
    {
     "name": "stdout",
     "output_type": "stream",
     "text": [
      "5/5 [==============================] - 0s 18ms/step - loss: 0.2001 - accuracy: 0.9286 - val_loss: 0.2095 - val_accuracy: 0.9667\n",
      "Epoch 118/500\n",
      "5/5 [==============================] - 0s 18ms/step - loss: 0.1959 - accuracy: 0.9429 - val_loss: 0.2199 - val_accuracy: 0.9167\n",
      "Epoch 119/500\n",
      "5/5 [==============================] - 0s 18ms/step - loss: 0.1917 - accuracy: 0.9429 - val_loss: 0.2064 - val_accuracy: 0.9667\n",
      "Epoch 120/500\n",
      "5/5 [==============================] - 0s 18ms/step - loss: 0.1932 - accuracy: 0.9429 - val_loss: 0.2039 - val_accuracy: 0.9667\n",
      "Epoch 121/500\n",
      "5/5 [==============================] - 0s 19ms/step - loss: 0.1860 - accuracy: 0.9429 - val_loss: 0.2111 - val_accuracy: 0.9167\n",
      "Epoch 122/500\n",
      "5/5 [==============================] - 0s 19ms/step - loss: 0.1860 - accuracy: 0.9429 - val_loss: 0.2048 - val_accuracy: 0.9333\n",
      "Epoch 123/500\n",
      "5/5 [==============================] - 0s 18ms/step - loss: 0.1851 - accuracy: 0.9429 - val_loss: 0.1987 - val_accuracy: 0.9667\n",
      "Epoch 124/500\n",
      "5/5 [==============================] - 0s 19ms/step - loss: 0.1827 - accuracy: 0.9429 - val_loss: 0.2000 - val_accuracy: 0.9667\n",
      "Epoch 125/500\n",
      "5/5 [==============================] - 0s 19ms/step - loss: 0.1819 - accuracy: 0.9429 - val_loss: 0.1986 - val_accuracy: 0.9333\n",
      "Epoch 126/500\n",
      "5/5 [==============================] - 0s 17ms/step - loss: 0.1790 - accuracy: 0.9429 - val_loss: 0.2008 - val_accuracy: 0.9333\n",
      "Epoch 127/500\n",
      "5/5 [==============================] - 0s 18ms/step - loss: 0.1847 - accuracy: 0.9429 - val_loss: 0.2043 - val_accuracy: 0.9333\n",
      "Epoch 128/500\n",
      "5/5 [==============================] - 0s 19ms/step - loss: 0.1756 - accuracy: 0.9429 - val_loss: 0.1926 - val_accuracy: 0.9667\n",
      "Epoch 129/500\n",
      "5/5 [==============================] - 0s 19ms/step - loss: 0.1772 - accuracy: 0.9429 - val_loss: 0.1913 - val_accuracy: 0.9667\n",
      "Epoch 130/500\n",
      "5/5 [==============================] - 0s 18ms/step - loss: 0.1756 - accuracy: 0.9357 - val_loss: 0.1953 - val_accuracy: 0.9333\n",
      "Epoch 131/500\n",
      "5/5 [==============================] - 0s 18ms/step - loss: 0.1751 - accuracy: 0.9429 - val_loss: 0.1936 - val_accuracy: 0.9333\n",
      "Epoch 132/500\n",
      "5/5 [==============================] - 0s 18ms/step - loss: 0.1715 - accuracy: 0.9429 - val_loss: 0.1913 - val_accuracy: 0.9667\n",
      "Epoch 133/500\n",
      "5/5 [==============================] - 0s 18ms/step - loss: 0.1718 - accuracy: 0.9429 - val_loss: 0.1912 - val_accuracy: 0.9667\n",
      "Epoch 134/500\n",
      "5/5 [==============================] - 0s 19ms/step - loss: 0.1698 - accuracy: 0.9429 - val_loss: 0.1993 - val_accuracy: 0.9333\n",
      "Epoch 135/500\n",
      "5/5 [==============================] - 0s 18ms/step - loss: 0.1693 - accuracy: 0.9429 - val_loss: 0.1909 - val_accuracy: 0.9667\n",
      "Epoch 136/500\n",
      "5/5 [==============================] - 0s 19ms/step - loss: 0.1678 - accuracy: 0.9429 - val_loss: 0.1898 - val_accuracy: 0.9667\n",
      "Epoch 137/500\n",
      "5/5 [==============================] - 0s 18ms/step - loss: 0.1662 - accuracy: 0.9429 - val_loss: 0.1923 - val_accuracy: 0.9667\n",
      "Epoch 138/500\n",
      "5/5 [==============================] - 0s 19ms/step - loss: 0.1666 - accuracy: 0.9429 - val_loss: 0.1982 - val_accuracy: 0.9333\n",
      "Epoch 139/500\n",
      "5/5 [==============================] - 0s 18ms/step - loss: 0.1693 - accuracy: 0.9429 - val_loss: 0.1880 - val_accuracy: 0.9667\n",
      "Epoch 140/500\n",
      "5/5 [==============================] - 0s 18ms/step - loss: 0.1628 - accuracy: 0.9429 - val_loss: 0.1939 - val_accuracy: 0.9333\n",
      "Epoch 141/500\n",
      "5/5 [==============================] - 0s 18ms/step - loss: 0.1656 - accuracy: 0.9429 - val_loss: 0.1937 - val_accuracy: 0.9333\n",
      "Epoch 142/500\n",
      "5/5 [==============================] - 0s 19ms/step - loss: 0.1610 - accuracy: 0.9429 - val_loss: 0.1852 - val_accuracy: 0.9667\n",
      "Epoch 143/500\n",
      "5/5 [==============================] - 0s 18ms/step - loss: 0.1622 - accuracy: 0.9571 - val_loss: 0.1879 - val_accuracy: 0.9667\n",
      "Epoch 144/500\n",
      "5/5 [==============================] - 0s 19ms/step - loss: 0.1597 - accuracy: 0.9429 - val_loss: 0.1898 - val_accuracy: 0.9333\n",
      "Epoch 145/500\n",
      "5/5 [==============================] - 0s 20ms/step - loss: 0.1590 - accuracy: 0.9429 - val_loss: 0.1851 - val_accuracy: 0.9667\n",
      "Epoch 146/500\n",
      "5/5 [==============================] - 0s 18ms/step - loss: 0.1591 - accuracy: 0.9429 - val_loss: 0.1854 - val_accuracy: 0.9667\n",
      "Epoch 147/500\n",
      "5/5 [==============================] - 0s 17ms/step - loss: 0.1578 - accuracy: 0.9500 - val_loss: 0.1811 - val_accuracy: 0.9667\n",
      "Epoch 148/500\n",
      "5/5 [==============================] - 0s 18ms/step - loss: 0.1565 - accuracy: 0.9500 - val_loss: 0.1847 - val_accuracy: 0.9667\n",
      "Epoch 149/500\n",
      "5/5 [==============================] - 0s 18ms/step - loss: 0.1546 - accuracy: 0.9429 - val_loss: 0.1906 - val_accuracy: 0.9333\n",
      "Epoch 150/500\n",
      "5/5 [==============================] - 0s 19ms/step - loss: 0.1570 - accuracy: 0.9429 - val_loss: 0.1835 - val_accuracy: 0.9667\n",
      "Epoch 151/500\n",
      "5/5 [==============================] - 0s 19ms/step - loss: 0.1601 - accuracy: 0.9500 - val_loss: 0.1806 - val_accuracy: 0.9667\n",
      "Epoch 152/500\n",
      "5/5 [==============================] - 0s 18ms/step - loss: 0.1573 - accuracy: 0.9500 - val_loss: 0.1930 - val_accuracy: 0.9167\n",
      "Epoch 153/500\n",
      "5/5 [==============================] - 0s 18ms/step - loss: 0.1565 - accuracy: 0.9500 - val_loss: 0.1882 - val_accuracy: 0.9167\n",
      "Epoch 154/500\n",
      "5/5 [==============================] - 0s 18ms/step - loss: 0.1491 - accuracy: 0.9429 - val_loss: 0.1768 - val_accuracy: 0.9667\n",
      "Epoch 155/500\n",
      "5/5 [==============================] - 0s 18ms/step - loss: 0.1550 - accuracy: 0.9571 - val_loss: 0.1766 - val_accuracy: 0.9667\n",
      "Epoch 156/500\n",
      "5/5 [==============================] - 0s 18ms/step - loss: 0.1495 - accuracy: 0.9571 - val_loss: 0.1833 - val_accuracy: 0.9500\n",
      "Epoch 157/500\n",
      "5/5 [==============================] - 0s 19ms/step - loss: 0.1557 - accuracy: 0.9429 - val_loss: 0.1887 - val_accuracy: 0.9167\n",
      "Epoch 158/500\n",
      "5/5 [==============================] - 0s 18ms/step - loss: 0.1489 - accuracy: 0.9429 - val_loss: 0.1765 - val_accuracy: 0.9667\n",
      "Epoch 159/500\n",
      "5/5 [==============================] - 0s 19ms/step - loss: 0.1539 - accuracy: 0.9571 - val_loss: 0.1757 - val_accuracy: 0.9667\n",
      "Epoch 160/500\n",
      "5/5 [==============================] - 0s 19ms/step - loss: 0.1447 - accuracy: 0.9500 - val_loss: 0.1826 - val_accuracy: 0.9500\n",
      "Epoch 161/500\n",
      "5/5 [==============================] - 0s 18ms/step - loss: 0.1458 - accuracy: 0.9429 - val_loss: 0.1751 - val_accuracy: 0.9667\n",
      "Epoch 162/500\n",
      "5/5 [==============================] - 0s 20ms/step - loss: 0.1447 - accuracy: 0.9429 - val_loss: 0.1759 - val_accuracy: 0.9500\n",
      "Epoch 163/500\n",
      "5/5 [==============================] - 0s 19ms/step - loss: 0.1446 - accuracy: 0.9429 - val_loss: 0.1848 - val_accuracy: 0.9167\n",
      "Epoch 164/500\n",
      "5/5 [==============================] - 0s 18ms/step - loss: 0.1424 - accuracy: 0.9429 - val_loss: 0.1715 - val_accuracy: 0.9667\n",
      "Epoch 165/500\n",
      "5/5 [==============================] - 0s 18ms/step - loss: 0.1425 - accuracy: 0.9571 - val_loss: 0.1713 - val_accuracy: 0.9667\n",
      "Epoch 166/500\n",
      "5/5 [==============================] - 0s 18ms/step - loss: 0.1405 - accuracy: 0.9500 - val_loss: 0.1753 - val_accuracy: 0.9500\n",
      "Epoch 167/500\n",
      "5/5 [==============================] - 0s 18ms/step - loss: 0.1398 - accuracy: 0.9429 - val_loss: 0.1731 - val_accuracy: 0.9500\n",
      "Epoch 168/500\n",
      "5/5 [==============================] - 0s 18ms/step - loss: 0.1383 - accuracy: 0.9571 - val_loss: 0.1696 - val_accuracy: 0.9667\n",
      "Epoch 169/500\n",
      "5/5 [==============================] - 0s 19ms/step - loss: 0.1391 - accuracy: 0.9500 - val_loss: 0.1789 - val_accuracy: 0.9500\n",
      "Epoch 170/500\n",
      "5/5 [==============================] - 0s 18ms/step - loss: 0.1377 - accuracy: 0.9429 - val_loss: 0.1753 - val_accuracy: 0.9500\n",
      "Epoch 171/500\n",
      "5/5 [==============================] - 0s 18ms/step - loss: 0.1354 - accuracy: 0.9500 - val_loss: 0.1740 - val_accuracy: 0.9500\n",
      "Epoch 172/500\n",
      "5/5 [==============================] - 0s 18ms/step - loss: 0.1347 - accuracy: 0.9500 - val_loss: 0.1762 - val_accuracy: 0.9500\n",
      "Epoch 173/500\n",
      "5/5 [==============================] - 0s 17ms/step - loss: 0.1390 - accuracy: 0.9429 - val_loss: 0.1767 - val_accuracy: 0.9500\n",
      "Epoch 174/500\n",
      "5/5 [==============================] - 0s 19ms/step - loss: 0.1324 - accuracy: 0.9500 - val_loss: 0.1687 - val_accuracy: 0.9500\n"
     ]
    },
    {
     "name": "stdout",
     "output_type": "stream",
     "text": [
      "Epoch 175/500\n",
      "5/5 [==============================] - 0s 18ms/step - loss: 0.1337 - accuracy: 0.9500 - val_loss: 0.1705 - val_accuracy: 0.9500\n",
      "Epoch 176/500\n",
      "5/5 [==============================] - 0s 19ms/step - loss: 0.1307 - accuracy: 0.9571 - val_loss: 0.1676 - val_accuracy: 0.9500\n",
      "Epoch 177/500\n",
      "5/5 [==============================] - 0s 18ms/step - loss: 0.1316 - accuracy: 0.9571 - val_loss: 0.1693 - val_accuracy: 0.9500\n",
      "Epoch 178/500\n",
      "5/5 [==============================] - 0s 18ms/step - loss: 0.1295 - accuracy: 0.9571 - val_loss: 0.1716 - val_accuracy: 0.9500\n",
      "Epoch 179/500\n",
      "5/5 [==============================] - 0s 17ms/step - loss: 0.1305 - accuracy: 0.9571 - val_loss: 0.1820 - val_accuracy: 0.9333\n",
      "Epoch 180/500\n",
      "5/5 [==============================] - 0s 19ms/step - loss: 0.1306 - accuracy: 0.9571 - val_loss: 0.1693 - val_accuracy: 0.9500\n",
      "Epoch 181/500\n",
      "5/5 [==============================] - 0s 18ms/step - loss: 0.1274 - accuracy: 0.9571 - val_loss: 0.1703 - val_accuracy: 0.9500\n",
      "Epoch 182/500\n",
      "5/5 [==============================] - 0s 18ms/step - loss: 0.1286 - accuracy: 0.9500 - val_loss: 0.1706 - val_accuracy: 0.9500\n",
      "Epoch 183/500\n",
      "5/5 [==============================] - 0s 18ms/step - loss: 0.1267 - accuracy: 0.9571 - val_loss: 0.1658 - val_accuracy: 0.9500\n",
      "Epoch 184/500\n",
      "5/5 [==============================] - 0s 19ms/step - loss: 0.1249 - accuracy: 0.9571 - val_loss: 0.1706 - val_accuracy: 0.9500\n",
      "Epoch 185/500\n",
      "5/5 [==============================] - 0s 19ms/step - loss: 0.1238 - accuracy: 0.9643 - val_loss: 0.1700 - val_accuracy: 0.9500\n",
      "Epoch 186/500\n",
      "5/5 [==============================] - 0s 18ms/step - loss: 0.1240 - accuracy: 0.9571 - val_loss: 0.1641 - val_accuracy: 0.9500\n",
      "Epoch 187/500\n",
      "5/5 [==============================] - 0s 18ms/step - loss: 0.1239 - accuracy: 0.9571 - val_loss: 0.1635 - val_accuracy: 0.9500\n",
      "Epoch 188/500\n",
      "5/5 [==============================] - 0s 18ms/step - loss: 0.1216 - accuracy: 0.9571 - val_loss: 0.1714 - val_accuracy: 0.9500\n",
      "Epoch 189/500\n",
      "5/5 [==============================] - 0s 18ms/step - loss: 0.1218 - accuracy: 0.9643 - val_loss: 0.1789 - val_accuracy: 0.9500\n",
      "Epoch 190/500\n",
      "5/5 [==============================] - 0s 18ms/step - loss: 0.1204 - accuracy: 0.9643 - val_loss: 0.1674 - val_accuracy: 0.9500\n",
      "Epoch 191/500\n",
      "5/5 [==============================] - 0s 19ms/step - loss: 0.1235 - accuracy: 0.9571 - val_loss: 0.1637 - val_accuracy: 0.9500\n",
      "Epoch 192/500\n",
      "5/5 [==============================] - 0s 19ms/step - loss: 0.1187 - accuracy: 0.9571 - val_loss: 0.1709 - val_accuracy: 0.9500\n",
      "Epoch 193/500\n",
      "5/5 [==============================] - 0s 18ms/step - loss: 0.1190 - accuracy: 0.9643 - val_loss: 0.1769 - val_accuracy: 0.9500\n",
      "Epoch 194/500\n",
      "5/5 [==============================] - 0s 18ms/step - loss: 0.1185 - accuracy: 0.9571 - val_loss: 0.1700 - val_accuracy: 0.9500\n",
      "Epoch 195/500\n",
      "5/5 [==============================] - 0s 18ms/step - loss: 0.1186 - accuracy: 0.9643 - val_loss: 0.1629 - val_accuracy: 0.9500\n",
      "Epoch 196/500\n",
      "5/5 [==============================] - 0s 18ms/step - loss: 0.1141 - accuracy: 0.9571 - val_loss: 0.1754 - val_accuracy: 0.9500\n",
      "Epoch 197/500\n",
      "5/5 [==============================] - 0s 18ms/step - loss: 0.1170 - accuracy: 0.9500 - val_loss: 0.1789 - val_accuracy: 0.9500\n",
      "Epoch 198/500\n",
      "5/5 [==============================] - 0s 18ms/step - loss: 0.1142 - accuracy: 0.9643 - val_loss: 0.1627 - val_accuracy: 0.9500\n",
      "Epoch 199/500\n",
      "5/5 [==============================] - 0s 17ms/step - loss: 0.1136 - accuracy: 0.9571 - val_loss: 0.1637 - val_accuracy: 0.9500\n",
      "Epoch 200/500\n",
      "5/5 [==============================] - 0s 19ms/step - loss: 0.1118 - accuracy: 0.9643 - val_loss: 0.1720 - val_accuracy: 0.9500\n",
      "Epoch 201/500\n",
      "5/5 [==============================] - 0s 18ms/step - loss: 0.1127 - accuracy: 0.9643 - val_loss: 0.1701 - val_accuracy: 0.9500\n",
      "Epoch 202/500\n",
      "5/5 [==============================] - 0s 18ms/step - loss: 0.1097 - accuracy: 0.9643 - val_loss: 0.1744 - val_accuracy: 0.9500\n",
      "Epoch 203/500\n",
      "5/5 [==============================] - 0s 18ms/step - loss: 0.1102 - accuracy: 0.9643 - val_loss: 0.1746 - val_accuracy: 0.9500\n",
      "Epoch 204/500\n",
      "5/5 [==============================] - 0s 18ms/step - loss: 0.1086 - accuracy: 0.9643 - val_loss: 0.1651 - val_accuracy: 0.9500\n",
      "Epoch 205/500\n",
      "5/5 [==============================] - 0s 19ms/step - loss: 0.1158 - accuracy: 0.9571 - val_loss: 0.1632 - val_accuracy: 0.9500\n",
      "Epoch 206/500\n",
      "5/5 [==============================] - 0s 18ms/step - loss: 0.1090 - accuracy: 0.9571 - val_loss: 0.1830 - val_accuracy: 0.9500\n",
      "Epoch 207/500\n",
      "5/5 [==============================] - 0s 18ms/step - loss: 0.1100 - accuracy: 0.9643 - val_loss: 0.1668 - val_accuracy: 0.9500\n",
      "Epoch 208/500\n",
      "5/5 [==============================] - 0s 19ms/step - loss: 0.1069 - accuracy: 0.9643 - val_loss: 0.1669 - val_accuracy: 0.9500\n",
      "Epoch 209/500\n",
      "5/5 [==============================] - 0s 18ms/step - loss: 0.1048 - accuracy: 0.9643 - val_loss: 0.1727 - val_accuracy: 0.9500\n",
      "Epoch 210/500\n",
      "5/5 [==============================] - 0s 19ms/step - loss: 0.1048 - accuracy: 0.9643 - val_loss: 0.1645 - val_accuracy: 0.9500\n",
      "Epoch 211/500\n",
      "5/5 [==============================] - 0s 18ms/step - loss: 0.1059 - accuracy: 0.9643 - val_loss: 0.1699 - val_accuracy: 0.9500\n",
      "Epoch 212/500\n",
      "5/5 [==============================] - 0s 19ms/step - loss: 0.1027 - accuracy: 0.9643 - val_loss: 0.1669 - val_accuracy: 0.9500\n",
      "Epoch 213/500\n",
      "5/5 [==============================] - 0s 18ms/step - loss: 0.1019 - accuracy: 0.9643 - val_loss: 0.1666 - val_accuracy: 0.9500\n",
      "Epoch 214/500\n",
      "5/5 [==============================] - 0s 19ms/step - loss: 0.1011 - accuracy: 0.9643 - val_loss: 0.1667 - val_accuracy: 0.9500\n",
      "Epoch 215/500\n",
      "5/5 [==============================] - 0s 18ms/step - loss: 0.1017 - accuracy: 0.9643 - val_loss: 0.1692 - val_accuracy: 0.9500\n",
      "Epoch 216/500\n",
      "5/5 [==============================] - 0s 19ms/step - loss: 0.1001 - accuracy: 0.9643 - val_loss: 0.1637 - val_accuracy: 0.9500\n",
      "Epoch 217/500\n",
      "5/5 [==============================] - 0s 18ms/step - loss: 0.1009 - accuracy: 0.9643 - val_loss: 0.1659 - val_accuracy: 0.9500\n",
      "Epoch 218/500\n",
      "5/5 [==============================] - 0s 19ms/step - loss: 0.0994 - accuracy: 0.9643 - val_loss: 0.1710 - val_accuracy: 0.9500\n",
      "Epoch 219/500\n",
      "5/5 [==============================] - 0s 18ms/step - loss: 0.1058 - accuracy: 0.9643 - val_loss: 0.1846 - val_accuracy: 0.9500\n",
      "Epoch 220/500\n",
      "5/5 [==============================] - 0s 18ms/step - loss: 0.1005 - accuracy: 0.9643 - val_loss: 0.1642 - val_accuracy: 0.9500\n",
      "Epoch 221/500\n",
      "5/5 [==============================] - 0s 18ms/step - loss: 0.0984 - accuracy: 0.9643 - val_loss: 0.1691 - val_accuracy: 0.9500\n",
      "Epoch 222/500\n",
      "5/5 [==============================] - 0s 18ms/step - loss: 0.0989 - accuracy: 0.9643 - val_loss: 0.1741 - val_accuracy: 0.9500\n",
      "Epoch 223/500\n",
      "5/5 [==============================] - 0s 18ms/step - loss: 0.0957 - accuracy: 0.9643 - val_loss: 0.1656 - val_accuracy: 0.9500\n",
      "Epoch 224/500\n",
      "5/5 [==============================] - 0s 18ms/step - loss: 0.0946 - accuracy: 0.9643 - val_loss: 0.1626 - val_accuracy: 0.9500\n",
      "Epoch 225/500\n",
      "5/5 [==============================] - 0s 18ms/step - loss: 0.0955 - accuracy: 0.9714 - val_loss: 0.1672 - val_accuracy: 0.9500\n",
      "Epoch 226/500\n",
      "5/5 [==============================] - 0s 18ms/step - loss: 0.0940 - accuracy: 0.9643 - val_loss: 0.1696 - val_accuracy: 0.9500\n",
      "Epoch 227/500\n",
      "5/5 [==============================] - 0s 20ms/step - loss: 0.0936 - accuracy: 0.9643 - val_loss: 0.1690 - val_accuracy: 0.9500\n",
      "Epoch 228/500\n",
      "5/5 [==============================] - 0s 17ms/step - loss: 0.0921 - accuracy: 0.9643 - val_loss: 0.1637 - val_accuracy: 0.9500\n",
      "Epoch 229/500\n",
      "5/5 [==============================] - 0s 19ms/step - loss: 0.0943 - accuracy: 0.9714 - val_loss: 0.1607 - val_accuracy: 0.9500\n",
      "Epoch 230/500\n",
      "5/5 [==============================] - 0s 18ms/step - loss: 0.0936 - accuracy: 0.9643 - val_loss: 0.1722 - val_accuracy: 0.9500\n",
      "Epoch 231/500\n",
      "5/5 [==============================] - 0s 18ms/step - loss: 0.0902 - accuracy: 0.9643 - val_loss: 0.1620 - val_accuracy: 0.9500\n",
      "Epoch 232/500\n",
      "5/5 [==============================] - 0s 19ms/step - loss: 0.0907 - accuracy: 0.9643 - val_loss: 0.1623 - val_accuracy: 0.9500\n"
     ]
    },
    {
     "name": "stdout",
     "output_type": "stream",
     "text": [
      "Epoch 233/500\n",
      "5/5 [==============================] - 0s 19ms/step - loss: 0.0897 - accuracy: 0.9714 - val_loss: 0.1639 - val_accuracy: 0.9500\n",
      "Epoch 234/500\n",
      "5/5 [==============================] - 0s 19ms/step - loss: 0.0894 - accuracy: 0.9714 - val_loss: 0.1744 - val_accuracy: 0.9500\n",
      "Epoch 235/500\n",
      "5/5 [==============================] - 0s 19ms/step - loss: 0.0886 - accuracy: 0.9643 - val_loss: 0.1633 - val_accuracy: 0.9500\n",
      "Epoch 236/500\n",
      "5/5 [==============================] - 0s 18ms/step - loss: 0.0881 - accuracy: 0.9643 - val_loss: 0.1661 - val_accuracy: 0.9500\n",
      "Epoch 237/500\n",
      "5/5 [==============================] - 0s 19ms/step - loss: 0.0865 - accuracy: 0.9643 - val_loss: 0.1657 - val_accuracy: 0.9500\n",
      "Epoch 238/500\n",
      "5/5 [==============================] - 0s 19ms/step - loss: 0.0864 - accuracy: 0.9643 - val_loss: 0.1622 - val_accuracy: 0.9500\n",
      "Epoch 239/500\n",
      "5/5 [==============================] - 0s 19ms/step - loss: 0.0849 - accuracy: 0.9714 - val_loss: 0.1691 - val_accuracy: 0.9500\n",
      "Epoch 240/500\n",
      "5/5 [==============================] - 0s 18ms/step - loss: 0.0874 - accuracy: 0.9643 - val_loss: 0.1665 - val_accuracy: 0.9500\n",
      "Epoch 241/500\n",
      "5/5 [==============================] - 0s 19ms/step - loss: 0.0838 - accuracy: 0.9714 - val_loss: 0.1716 - val_accuracy: 0.9500\n",
      "Epoch 242/500\n",
      "5/5 [==============================] - 0s 19ms/step - loss: 0.0845 - accuracy: 0.9714 - val_loss: 0.1715 - val_accuracy: 0.9500\n",
      "Epoch 243/500\n",
      "5/5 [==============================] - 0s 18ms/step - loss: 0.0829 - accuracy: 0.9714 - val_loss: 0.1655 - val_accuracy: 0.9500\n",
      "Epoch 244/500\n",
      "5/5 [==============================] - 0s 18ms/step - loss: 0.0829 - accuracy: 0.9714 - val_loss: 0.1637 - val_accuracy: 0.9500\n",
      "Epoch 245/500\n",
      "5/5 [==============================] - 0s 18ms/step - loss: 0.0820 - accuracy: 0.9714 - val_loss: 0.1717 - val_accuracy: 0.9500\n",
      "Epoch 246/500\n",
      "5/5 [==============================] - 0s 18ms/step - loss: 0.0830 - accuracy: 0.9714 - val_loss: 0.1725 - val_accuracy: 0.9500\n",
      "Epoch 247/500\n",
      "5/5 [==============================] - 0s 18ms/step - loss: 0.0809 - accuracy: 0.9714 - val_loss: 0.1666 - val_accuracy: 0.9500\n",
      "Epoch 248/500\n",
      "5/5 [==============================] - 0s 19ms/step - loss: 0.0812 - accuracy: 0.9714 - val_loss: 0.1651 - val_accuracy: 0.9500\n",
      "Epoch 249/500\n",
      "5/5 [==============================] - 0s 19ms/step - loss: 0.0792 - accuracy: 0.9714 - val_loss: 0.1714 - val_accuracy: 0.9500\n",
      "Epoch 250/500\n",
      "5/5 [==============================] - 0s 19ms/step - loss: 0.0807 - accuracy: 0.9714 - val_loss: 0.1655 - val_accuracy: 0.9500\n",
      "Epoch 251/500\n",
      "5/5 [==============================] - 0s 18ms/step - loss: 0.0881 - accuracy: 0.9786 - val_loss: 0.1628 - val_accuracy: 0.9500\n",
      "Epoch 252/500\n",
      "5/5 [==============================] - 0s 18ms/step - loss: 0.0809 - accuracy: 0.9857 - val_loss: 0.1802 - val_accuracy: 0.9500\n",
      "Epoch 253/500\n",
      "5/5 [==============================] - 0s 19ms/step - loss: 0.0802 - accuracy: 0.9714 - val_loss: 0.1742 - val_accuracy: 0.9500\n",
      "Epoch 254/500\n",
      "5/5 [==============================] - 0s 18ms/step - loss: 0.0791 - accuracy: 0.9786 - val_loss: 0.1638 - val_accuracy: 0.9500\n",
      "Epoch 255/500\n",
      "5/5 [==============================] - 0s 20ms/step - loss: 0.0782 - accuracy: 0.9714 - val_loss: 0.1655 - val_accuracy: 0.9500\n",
      "Epoch 256/500\n",
      "5/5 [==============================] - 0s 19ms/step - loss: 0.0771 - accuracy: 0.9786 - val_loss: 0.1716 - val_accuracy: 0.9500\n",
      "Epoch 257/500\n",
      "5/5 [==============================] - 0s 18ms/step - loss: 0.0764 - accuracy: 0.9714 - val_loss: 0.1646 - val_accuracy: 0.9500\n",
      "Epoch 258/500\n",
      "5/5 [==============================] - 0s 19ms/step - loss: 0.0781 - accuracy: 0.9714 - val_loss: 0.1783 - val_accuracy: 0.9500\n",
      "Epoch 259/500\n",
      "5/5 [==============================] - 0s 19ms/step - loss: 0.0772 - accuracy: 0.9714 - val_loss: 0.1660 - val_accuracy: 0.9500\n",
      "Epoch 260/500\n",
      "5/5 [==============================] - 0s 19ms/step - loss: 0.0740 - accuracy: 0.9786 - val_loss: 0.1733 - val_accuracy: 0.9500\n",
      "Epoch 261/500\n",
      "5/5 [==============================] - 0s 18ms/step - loss: 0.0767 - accuracy: 0.9786 - val_loss: 0.1672 - val_accuracy: 0.9500\n",
      "Epoch 262/500\n",
      "5/5 [==============================] - 0s 19ms/step - loss: 0.0732 - accuracy: 0.9714 - val_loss: 0.1798 - val_accuracy: 0.9500\n",
      "Epoch 263/500\n",
      "5/5 [==============================] - 0s 19ms/step - loss: 0.0734 - accuracy: 0.9786 - val_loss: 0.1684 - val_accuracy: 0.9500\n",
      "Epoch 264/500\n",
      "5/5 [==============================] - 0s 19ms/step - loss: 0.0738 - accuracy: 0.9929 - val_loss: 0.1638 - val_accuracy: 0.9500\n",
      "Epoch 265/500\n",
      "5/5 [==============================] - 0s 19ms/step - loss: 0.0726 - accuracy: 0.9786 - val_loss: 0.1711 - val_accuracy: 0.9500\n",
      "Epoch 266/500\n",
      "5/5 [==============================] - 0s 18ms/step - loss: 0.0716 - accuracy: 0.9786 - val_loss: 0.1741 - val_accuracy: 0.9500\n",
      "Epoch 267/500\n",
      "5/5 [==============================] - 0s 19ms/step - loss: 0.0716 - accuracy: 0.9786 - val_loss: 0.1720 - val_accuracy: 0.9500\n",
      "Epoch 268/500\n",
      "5/5 [==============================] - 0s 19ms/step - loss: 0.0703 - accuracy: 0.9786 - val_loss: 0.1770 - val_accuracy: 0.9500\n",
      "Epoch 269/500\n",
      "5/5 [==============================] - 0s 19ms/step - loss: 0.0708 - accuracy: 0.9786 - val_loss: 0.1722 - val_accuracy: 0.9500\n",
      "Epoch 270/500\n",
      "5/5 [==============================] - 0s 19ms/step - loss: 0.0750 - accuracy: 0.9786 - val_loss: 0.1663 - val_accuracy: 0.9500\n",
      "Epoch 271/500\n",
      "5/5 [==============================] - 0s 18ms/step - loss: 0.0725 - accuracy: 0.9714 - val_loss: 0.1811 - val_accuracy: 0.9500\n",
      "Epoch 272/500\n",
      "5/5 [==============================] - 0s 19ms/step - loss: 0.0705 - accuracy: 0.9786 - val_loss: 0.1623 - val_accuracy: 0.9500\n",
      "Epoch 273/500\n",
      "5/5 [==============================] - 0s 18ms/step - loss: 0.0691 - accuracy: 0.9857 - val_loss: 0.1698 - val_accuracy: 0.9500\n",
      "Epoch 274/500\n",
      "5/5 [==============================] - 0s 18ms/step - loss: 0.0736 - accuracy: 0.9714 - val_loss: 0.1846 - val_accuracy: 0.9500\n",
      "Epoch 275/500\n",
      "5/5 [==============================] - 0s 19ms/step - loss: 0.0718 - accuracy: 0.9786 - val_loss: 0.1642 - val_accuracy: 0.9500\n",
      "Epoch 276/500\n",
      "5/5 [==============================] - 0s 18ms/step - loss: 0.0690 - accuracy: 0.9857 - val_loss: 0.1823 - val_accuracy: 0.9500\n",
      "Epoch 277/500\n",
      "5/5 [==============================] - 0s 19ms/step - loss: 0.0715 - accuracy: 0.9714 - val_loss: 0.1753 - val_accuracy: 0.9500\n",
      "Epoch 278/500\n",
      "5/5 [==============================] - 0s 19ms/step - loss: 0.0731 - accuracy: 0.9857 - val_loss: 0.1621 - val_accuracy: 0.9500\n",
      "Epoch 279/500\n",
      "5/5 [==============================] - 0s 19ms/step - loss: 0.0642 - accuracy: 0.9929 - val_loss: 0.1888 - val_accuracy: 0.9500\n",
      "Epoch 280/500\n",
      "5/5 [==============================] - 0s 19ms/step - loss: 0.0712 - accuracy: 0.9714 - val_loss: 0.1757 - val_accuracy: 0.9500\n",
      "Epoch 281/500\n",
      "5/5 [==============================] - 0s 19ms/step - loss: 0.0650 - accuracy: 0.9786 - val_loss: 0.1603 - val_accuracy: 0.9500\n",
      "Epoch 282/500\n",
      "5/5 [==============================] - 0s 18ms/step - loss: 0.0671 - accuracy: 0.9929 - val_loss: 0.1627 - val_accuracy: 0.9500\n",
      "Epoch 283/500\n",
      "5/5 [==============================] - 0s 18ms/step - loss: 0.0640 - accuracy: 0.9857 - val_loss: 0.1780 - val_accuracy: 0.9500\n",
      "Epoch 284/500\n",
      "5/5 [==============================] - 0s 18ms/step - loss: 0.0660 - accuracy: 0.9786 - val_loss: 0.1682 - val_accuracy: 0.9500\n",
      "Epoch 285/500\n",
      "5/5 [==============================] - 0s 19ms/step - loss: 0.0734 - accuracy: 0.9786 - val_loss: 0.1607 - val_accuracy: 0.9500\n",
      "Epoch 286/500\n",
      "5/5 [==============================] - 0s 19ms/step - loss: 0.0687 - accuracy: 0.9786 - val_loss: 0.1886 - val_accuracy: 0.9500\n",
      "Epoch 287/500\n",
      "5/5 [==============================] - 0s 19ms/step - loss: 0.0674 - accuracy: 0.9786 - val_loss: 0.1717 - val_accuracy: 0.9500\n",
      "Epoch 288/500\n",
      "5/5 [==============================] - 0s 19ms/step - loss: 0.0625 - accuracy: 0.9857 - val_loss: 0.1648 - val_accuracy: 0.9500\n",
      "Epoch 289/500\n",
      "5/5 [==============================] - 0s 19ms/step - loss: 0.0634 - accuracy: 0.9857 - val_loss: 0.1694 - val_accuracy: 0.9500\n",
      "Epoch 290/500\n",
      "5/5 [==============================] - 0s 18ms/step - loss: 0.0615 - accuracy: 0.9786 - val_loss: 0.1749 - val_accuracy: 0.9500\n"
     ]
    },
    {
     "name": "stdout",
     "output_type": "stream",
     "text": [
      "Epoch 291/500\n",
      "5/5 [==============================] - 0s 19ms/step - loss: 0.0622 - accuracy: 0.9786 - val_loss: 0.1693 - val_accuracy: 0.9500\n",
      "Epoch 292/500\n",
      "5/5 [==============================] - 0s 18ms/step - loss: 0.0614 - accuracy: 0.9786 - val_loss: 0.1738 - val_accuracy: 0.9500\n",
      "Epoch 293/500\n",
      "5/5 [==============================] - 0s 18ms/step - loss: 0.0635 - accuracy: 0.9786 - val_loss: 0.1746 - val_accuracy: 0.9500\n",
      "Epoch 294/500\n",
      "5/5 [==============================] - 0s 18ms/step - loss: 0.0602 - accuracy: 0.9929 - val_loss: 0.1653 - val_accuracy: 0.9500\n",
      "Epoch 295/500\n",
      "5/5 [==============================] - 0s 18ms/step - loss: 0.0707 - accuracy: 0.9929 - val_loss: 0.1686 - val_accuracy: 0.9500\n",
      "Epoch 296/500\n",
      "5/5 [==============================] - 0s 19ms/step - loss: 0.0617 - accuracy: 0.9786 - val_loss: 0.1939 - val_accuracy: 0.9500\n",
      "Epoch 297/500\n",
      "5/5 [==============================] - 0s 18ms/step - loss: 0.0618 - accuracy: 0.9786 - val_loss: 0.1718 - val_accuracy: 0.9500\n",
      "Epoch 298/500\n",
      "5/5 [==============================] - 0s 18ms/step - loss: 0.0610 - accuracy: 0.9929 - val_loss: 0.1653 - val_accuracy: 0.9500\n",
      "Epoch 299/500\n",
      "5/5 [==============================] - 0s 19ms/step - loss: 0.0598 - accuracy: 0.9929 - val_loss: 0.1855 - val_accuracy: 0.9500\n",
      "Epoch 300/500\n",
      "5/5 [==============================] - 0s 18ms/step - loss: 0.0613 - accuracy: 0.9786 - val_loss: 0.1796 - val_accuracy: 0.9500\n",
      "Epoch 301/500\n",
      "5/5 [==============================] - 0s 19ms/step - loss: 0.0587 - accuracy: 0.9929 - val_loss: 0.1651 - val_accuracy: 0.9500\n",
      "Epoch 302/500\n",
      "5/5 [==============================] - 0s 18ms/step - loss: 0.0593 - accuracy: 0.9929 - val_loss: 0.1760 - val_accuracy: 0.9500\n",
      "Epoch 303/500\n",
      "5/5 [==============================] - 0s 19ms/step - loss: 0.0608 - accuracy: 0.9786 - val_loss: 0.1881 - val_accuracy: 0.9500\n",
      "Epoch 304/500\n",
      "5/5 [==============================] - 0s 19ms/step - loss: 0.0591 - accuracy: 0.9786 - val_loss: 0.1712 - val_accuracy: 0.9500\n",
      "Epoch 305/500\n",
      "5/5 [==============================] - 0s 18ms/step - loss: 0.0570 - accuracy: 0.9929 - val_loss: 0.1744 - val_accuracy: 0.9500\n",
      "Epoch 306/500\n",
      "5/5 [==============================] - 0s 19ms/step - loss: 0.0571 - accuracy: 0.9857 - val_loss: 0.1794 - val_accuracy: 0.9500\n",
      "Epoch 307/500\n",
      "5/5 [==============================] - 0s 19ms/step - loss: 0.0562 - accuracy: 0.9857 - val_loss: 0.1726 - val_accuracy: 0.9500\n",
      "Epoch 308/500\n",
      "5/5 [==============================] - 0s 18ms/step - loss: 0.0559 - accuracy: 0.9929 - val_loss: 0.1732 - val_accuracy: 0.9500\n",
      "Epoch 309/500\n",
      "5/5 [==============================] - 0s 18ms/step - loss: 0.0557 - accuracy: 0.9857 - val_loss: 0.1760 - val_accuracy: 0.9500\n",
      "Epoch 310/500\n",
      "5/5 [==============================] - 0s 18ms/step - loss: 0.0556 - accuracy: 0.9857 - val_loss: 0.1764 - val_accuracy: 0.9500\n",
      "Epoch 311/500\n",
      "5/5 [==============================] - 0s 19ms/step - loss: 0.0548 - accuracy: 0.9857 - val_loss: 0.1716 - val_accuracy: 0.9500\n",
      "Epoch 312/500\n",
      "5/5 [==============================] - 0s 19ms/step - loss: 0.0554 - accuracy: 0.9929 - val_loss: 0.1700 - val_accuracy: 0.9500\n",
      "Epoch 313/500\n",
      "5/5 [==============================] - 0s 19ms/step - loss: 0.0563 - accuracy: 0.9857 - val_loss: 0.1833 - val_accuracy: 0.9500\n",
      "Epoch 314/500\n",
      "5/5 [==============================] - 0s 19ms/step - loss: 0.0559 - accuracy: 0.9857 - val_loss: 0.1678 - val_accuracy: 0.9500\n",
      "Epoch 315/500\n",
      "5/5 [==============================] - 0s 18ms/step - loss: 0.0561 - accuracy: 0.9929 - val_loss: 0.1750 - val_accuracy: 0.9500\n",
      "Epoch 316/500\n",
      "5/5 [==============================] - 0s 19ms/step - loss: 0.0555 - accuracy: 0.9857 - val_loss: 0.1827 - val_accuracy: 0.9500\n",
      "Epoch 317/500\n",
      "5/5 [==============================] - 0s 18ms/step - loss: 0.0544 - accuracy: 0.9929 - val_loss: 0.1684 - val_accuracy: 0.9500\n",
      "Epoch 318/500\n",
      "5/5 [==============================] - 0s 18ms/step - loss: 0.0540 - accuracy: 0.9929 - val_loss: 0.1785 - val_accuracy: 0.9500\n",
      "Epoch 319/500\n",
      "5/5 [==============================] - 0s 19ms/step - loss: 0.0530 - accuracy: 0.9857 - val_loss: 0.1774 - val_accuracy: 0.9500\n",
      "Epoch 320/500\n",
      "5/5 [==============================] - 0s 18ms/step - loss: 0.0521 - accuracy: 0.9857 - val_loss: 0.1715 - val_accuracy: 0.9500\n",
      "Epoch 321/500\n",
      "5/5 [==============================] - 0s 19ms/step - loss: 0.0530 - accuracy: 0.9857 - val_loss: 0.1762 - val_accuracy: 0.9500\n",
      "Epoch 322/500\n",
      "5/5 [==============================] - 0s 19ms/step - loss: 0.0519 - accuracy: 0.9857 - val_loss: 0.1729 - val_accuracy: 0.9500\n",
      "Epoch 323/500\n",
      "5/5 [==============================] - 0s 19ms/step - loss: 0.0512 - accuracy: 0.9857 - val_loss: 0.1843 - val_accuracy: 0.9500\n",
      "Epoch 324/500\n",
      "5/5 [==============================] - 0s 19ms/step - loss: 0.0520 - accuracy: 0.9857 - val_loss: 0.1782 - val_accuracy: 0.9500\n",
      "Epoch 325/500\n",
      "5/5 [==============================] - 0s 18ms/step - loss: 0.0513 - accuracy: 0.9929 - val_loss: 0.1742 - val_accuracy: 0.9500\n",
      "Epoch 326/500\n",
      "5/5 [==============================] - 0s 18ms/step - loss: 0.0504 - accuracy: 0.9857 - val_loss: 0.1762 - val_accuracy: 0.9500\n",
      "Epoch 327/500\n",
      "5/5 [==============================] - 0s 18ms/step - loss: 0.0501 - accuracy: 0.9857 - val_loss: 0.1744 - val_accuracy: 0.9500\n",
      "Epoch 328/500\n",
      "5/5 [==============================] - 0s 18ms/step - loss: 0.0496 - accuracy: 0.9857 - val_loss: 0.1793 - val_accuracy: 0.9500\n",
      "Epoch 329/500\n",
      "5/5 [==============================] - 0s 19ms/step - loss: 0.0497 - accuracy: 0.9857 - val_loss: 0.1770 - val_accuracy: 0.9500\n",
      "Epoch 330/500\n",
      "5/5 [==============================] - 0s 19ms/step - loss: 0.0497 - accuracy: 0.9857 - val_loss: 0.1721 - val_accuracy: 0.9500\n",
      "Epoch 331/500\n",
      "5/5 [==============================] - 0s 19ms/step - loss: 0.0494 - accuracy: 0.9929 - val_loss: 0.1786 - val_accuracy: 0.9500\n",
      "Epoch 332/500\n",
      "5/5 [==============================] - 0s 19ms/step - loss: 0.0501 - accuracy: 0.9857 - val_loss: 0.1776 - val_accuracy: 0.9500\n",
      "Epoch 333/500\n",
      "5/5 [==============================] - 0s 18ms/step - loss: 0.0489 - accuracy: 0.9929 - val_loss: 0.1701 - val_accuracy: 0.9500\n",
      "Epoch 334/500\n",
      "5/5 [==============================] - 0s 19ms/step - loss: 0.0487 - accuracy: 0.9929 - val_loss: 0.1782 - val_accuracy: 0.9500\n",
      "Epoch 335/500\n",
      "5/5 [==============================] - 0s 19ms/step - loss: 0.0478 - accuracy: 0.9857 - val_loss: 0.1751 - val_accuracy: 0.9500\n",
      "Epoch 336/500\n",
      "5/5 [==============================] - 0s 18ms/step - loss: 0.0476 - accuracy: 0.9929 - val_loss: 0.1718 - val_accuracy: 0.9500\n",
      "Epoch 337/500\n",
      "5/5 [==============================] - 0s 19ms/step - loss: 0.0477 - accuracy: 0.9929 - val_loss: 0.1817 - val_accuracy: 0.9500\n",
      "Epoch 338/500\n",
      "5/5 [==============================] - 0s 19ms/step - loss: 0.0481 - accuracy: 0.9857 - val_loss: 0.1848 - val_accuracy: 0.9500\n",
      "Epoch 339/500\n",
      "5/5 [==============================] - 0s 19ms/step - loss: 0.0471 - accuracy: 0.9857 - val_loss: 0.1720 - val_accuracy: 0.9500\n",
      "Epoch 340/500\n",
      "5/5 [==============================] - 0s 18ms/step - loss: 0.0475 - accuracy: 0.9929 - val_loss: 0.1766 - val_accuracy: 0.9500\n",
      "Epoch 341/500\n",
      "5/5 [==============================] - 0s 19ms/step - loss: 0.0463 - accuracy: 0.9857 - val_loss: 0.1887 - val_accuracy: 0.9500\n",
      "Epoch 342/500\n",
      "5/5 [==============================] - 0s 18ms/step - loss: 0.0461 - accuracy: 0.9857 - val_loss: 0.1794 - val_accuracy: 0.9500\n",
      "Epoch 343/500\n",
      "5/5 [==============================] - 0s 18ms/step - loss: 0.0457 - accuracy: 0.9929 - val_loss: 0.1774 - val_accuracy: 0.9500\n",
      "Epoch 344/500\n",
      "5/5 [==============================] - 0s 19ms/step - loss: 0.0474 - accuracy: 0.9857 - val_loss: 0.1911 - val_accuracy: 0.9500\n",
      "Epoch 345/500\n",
      "5/5 [==============================] - 0s 19ms/step - loss: 0.0467 - accuracy: 0.9929 - val_loss: 0.1793 - val_accuracy: 0.9500\n",
      "Epoch 346/500\n",
      "5/5 [==============================] - 0s 18ms/step - loss: 0.0451 - accuracy: 0.9929 - val_loss: 0.1893 - val_accuracy: 0.9500\n",
      "Epoch 347/500\n",
      "5/5 [==============================] - 0s 19ms/step - loss: 0.0451 - accuracy: 0.9857 - val_loss: 0.1831 - val_accuracy: 0.9500\n",
      "Epoch 348/500\n",
      "5/5 [==============================] - 0s 18ms/step - loss: 0.0446 - accuracy: 0.9929 - val_loss: 0.1741 - val_accuracy: 0.9500\n"
     ]
    },
    {
     "name": "stdout",
     "output_type": "stream",
     "text": [
      "Epoch 349/500\n",
      "5/5 [==============================] - 0s 18ms/step - loss: 0.0441 - accuracy: 0.9929 - val_loss: 0.1858 - val_accuracy: 0.9500\n",
      "Epoch 350/500\n",
      "5/5 [==============================] - 0s 18ms/step - loss: 0.0437 - accuracy: 0.9857 - val_loss: 0.1951 - val_accuracy: 0.9500\n",
      "Epoch 351/500\n",
      "5/5 [==============================] - 0s 19ms/step - loss: 0.0447 - accuracy: 0.9857 - val_loss: 0.1870 - val_accuracy: 0.9500\n",
      "Epoch 352/500\n",
      "5/5 [==============================] - 0s 18ms/step - loss: 0.0433 - accuracy: 0.9929 - val_loss: 0.1787 - val_accuracy: 0.9500\n",
      "Epoch 353/500\n",
      "5/5 [==============================] - 0s 19ms/step - loss: 0.0428 - accuracy: 0.9929 - val_loss: 0.1824 - val_accuracy: 0.9500\n",
      "Epoch 354/500\n",
      "5/5 [==============================] - 0s 18ms/step - loss: 0.0425 - accuracy: 0.9929 - val_loss: 0.1875 - val_accuracy: 0.9500\n",
      "Epoch 355/500\n",
      "5/5 [==============================] - 0s 19ms/step - loss: 0.0424 - accuracy: 0.9929 - val_loss: 0.1851 - val_accuracy: 0.9500\n",
      "Epoch 356/500\n",
      "5/5 [==============================] - 0s 18ms/step - loss: 0.0424 - accuracy: 0.9929 - val_loss: 0.1844 - val_accuracy: 0.9500\n",
      "Epoch 357/500\n",
      "5/5 [==============================] - 0s 18ms/step - loss: 0.0409 - accuracy: 0.9929 - val_loss: 0.1893 - val_accuracy: 0.9500\n",
      "Epoch 358/500\n",
      "5/5 [==============================] - 0s 18ms/step - loss: 0.0419 - accuracy: 0.9857 - val_loss: 0.1864 - val_accuracy: 0.9500\n",
      "Epoch 359/500\n",
      "5/5 [==============================] - 0s 18ms/step - loss: 0.0407 - accuracy: 0.9929 - val_loss: 0.1842 - val_accuracy: 0.9500\n",
      "Epoch 360/500\n",
      "5/5 [==============================] - 0s 18ms/step - loss: 0.0407 - accuracy: 0.9929 - val_loss: 0.1793 - val_accuracy: 0.9500\n",
      "Epoch 361/500\n",
      "5/5 [==============================] - 0s 19ms/step - loss: 0.0402 - accuracy: 0.9929 - val_loss: 0.1919 - val_accuracy: 0.9500\n",
      "Epoch 362/500\n",
      "5/5 [==============================] - 0s 18ms/step - loss: 0.0408 - accuracy: 0.9857 - val_loss: 0.1903 - val_accuracy: 0.9500\n",
      "Epoch 363/500\n",
      "5/5 [==============================] - 0s 19ms/step - loss: 0.0388 - accuracy: 0.9929 - val_loss: 0.1817 - val_accuracy: 0.9500\n",
      "Epoch 364/500\n",
      "5/5 [==============================] - 0s 20ms/step - loss: 0.0417 - accuracy: 0.9929 - val_loss: 0.1831 - val_accuracy: 0.9500\n",
      "Epoch 365/500\n",
      "5/5 [==============================] - 0s 18ms/step - loss: 0.0417 - accuracy: 0.9929 - val_loss: 0.2046 - val_accuracy: 0.9500\n",
      "Epoch 366/500\n",
      "5/5 [==============================] - 0s 19ms/step - loss: 0.0407 - accuracy: 0.9857 - val_loss: 0.1938 - val_accuracy: 0.9500\n",
      "Epoch 367/500\n",
      "5/5 [==============================] - 0s 19ms/step - loss: 0.0384 - accuracy: 0.9929 - val_loss: 0.1976 - val_accuracy: 0.9500\n",
      "Epoch 368/500\n",
      "5/5 [==============================] - 0s 17ms/step - loss: 0.0392 - accuracy: 0.9929 - val_loss: 0.1921 - val_accuracy: 0.9500\n",
      "Epoch 369/500\n",
      "5/5 [==============================] - 0s 19ms/step - loss: 0.0378 - accuracy: 0.9929 - val_loss: 0.1889 - val_accuracy: 0.9500\n",
      "Epoch 370/500\n",
      "5/5 [==============================] - 0s 18ms/step - loss: 0.0374 - accuracy: 0.9929 - val_loss: 0.1853 - val_accuracy: 0.9500\n",
      "Epoch 371/500\n",
      "5/5 [==============================] - 0s 19ms/step - loss: 0.0382 - accuracy: 0.9929 - val_loss: 0.1858 - val_accuracy: 0.9500\n",
      "Epoch 372/500\n",
      "5/5 [==============================] - 0s 18ms/step - loss: 0.0371 - accuracy: 0.9929 - val_loss: 0.1941 - val_accuracy: 0.9500\n",
      "Epoch 373/500\n",
      "5/5 [==============================] - 0s 19ms/step - loss: 0.0389 - accuracy: 0.9929 - val_loss: 0.2043 - val_accuracy: 0.9500\n",
      "Epoch 374/500\n",
      "5/5 [==============================] - 0s 19ms/step - loss: 0.0400 - accuracy: 0.9929 - val_loss: 0.1815 - val_accuracy: 0.9500\n",
      "Epoch 375/500\n",
      "5/5 [==============================] - 0s 18ms/step - loss: 0.0370 - accuracy: 0.9929 - val_loss: 0.1952 - val_accuracy: 0.9500\n",
      "Epoch 376/500\n",
      "5/5 [==============================] - 0s 19ms/step - loss: 0.0366 - accuracy: 1.0000 - val_loss: 0.2116 - val_accuracy: 0.9500\n",
      "Epoch 377/500\n",
      "5/5 [==============================] - 0s 18ms/step - loss: 0.0379 - accuracy: 0.9929 - val_loss: 0.1941 - val_accuracy: 0.9500\n",
      "Epoch 378/500\n",
      "5/5 [==============================] - 0s 21ms/step - loss: 0.0357 - accuracy: 0.9929 - val_loss: 0.1904 - val_accuracy: 0.9500\n",
      "Epoch 379/500\n",
      "5/5 [==============================] - 0s 18ms/step - loss: 0.0355 - accuracy: 0.9929 - val_loss: 0.1903 - val_accuracy: 0.9500\n",
      "Epoch 380/500\n",
      "5/5 [==============================] - 0s 20ms/step - loss: 0.0352 - accuracy: 0.9929 - val_loss: 0.1897 - val_accuracy: 0.9500\n",
      "Epoch 381/500\n",
      "5/5 [==============================] - 0s 19ms/step - loss: 0.0349 - accuracy: 0.9929 - val_loss: 0.1889 - val_accuracy: 0.9500\n",
      "Epoch 382/500\n",
      "5/5 [==============================] - 0s 19ms/step - loss: 0.0350 - accuracy: 0.9929 - val_loss: 0.1892 - val_accuracy: 0.9500\n",
      "Epoch 383/500\n",
      "5/5 [==============================] - 0s 20ms/step - loss: 0.0346 - accuracy: 0.9929 - val_loss: 0.1874 - val_accuracy: 0.9500\n",
      "Epoch 384/500\n",
      "5/5 [==============================] - 0s 19ms/step - loss: 0.0348 - accuracy: 0.9929 - val_loss: 0.1834 - val_accuracy: 0.9500\n",
      "Epoch 385/500\n",
      "5/5 [==============================] - 0s 19ms/step - loss: 0.0337 - accuracy: 0.9929 - val_loss: 0.2017 - val_accuracy: 0.9500\n",
      "Epoch 386/500\n",
      "5/5 [==============================] - 0s 19ms/step - loss: 0.0349 - accuracy: 1.0000 - val_loss: 0.2145 - val_accuracy: 0.9500\n",
      "Epoch 387/500\n",
      "5/5 [==============================] - 0s 18ms/step - loss: 0.0343 - accuracy: 1.0000 - val_loss: 0.1874 - val_accuracy: 0.9500\n",
      "Epoch 388/500\n",
      "5/5 [==============================] - 0s 19ms/step - loss: 0.0343 - accuracy: 0.9929 - val_loss: 0.1878 - val_accuracy: 0.9500\n",
      "Epoch 389/500\n",
      "5/5 [==============================] - 0s 18ms/step - loss: 0.0331 - accuracy: 0.9929 - val_loss: 0.1995 - val_accuracy: 0.9500\n",
      "Epoch 390/500\n",
      "5/5 [==============================] - 0s 18ms/step - loss: 0.0337 - accuracy: 1.0000 - val_loss: 0.1989 - val_accuracy: 0.9500\n",
      "Epoch 391/500\n",
      "5/5 [==============================] - 0s 18ms/step - loss: 0.0325 - accuracy: 1.0000 - val_loss: 0.1888 - val_accuracy: 0.9500\n",
      "Epoch 392/500\n",
      "5/5 [==============================] - 0s 18ms/step - loss: 0.0328 - accuracy: 0.9929 - val_loss: 0.1867 - val_accuracy: 0.9500\n",
      "Epoch 393/500\n",
      "5/5 [==============================] - 0s 18ms/step - loss: 0.0322 - accuracy: 0.9929 - val_loss: 0.1998 - val_accuracy: 0.9500\n",
      "Epoch 394/500\n",
      "5/5 [==============================] - 0s 18ms/step - loss: 0.0320 - accuracy: 1.0000 - val_loss: 0.1944 - val_accuracy: 0.9500\n",
      "Epoch 395/500\n",
      "5/5 [==============================] - 0s 18ms/step - loss: 0.0319 - accuracy: 0.9929 - val_loss: 0.1899 - val_accuracy: 0.9500\n",
      "Epoch 396/500\n",
      "5/5 [==============================] - 0s 18ms/step - loss: 0.0313 - accuracy: 1.0000 - val_loss: 0.1974 - val_accuracy: 0.9500\n",
      "Epoch 397/500\n",
      "5/5 [==============================] - 0s 18ms/step - loss: 0.0312 - accuracy: 1.0000 - val_loss: 0.1965 - val_accuracy: 0.9500\n",
      "Epoch 398/500\n",
      "5/5 [==============================] - 0s 18ms/step - loss: 0.0321 - accuracy: 0.9929 - val_loss: 0.1894 - val_accuracy: 0.9500\n",
      "Epoch 399/500\n",
      "5/5 [==============================] - 0s 19ms/step - loss: 0.0331 - accuracy: 0.9929 - val_loss: 0.2068 - val_accuracy: 0.9500\n",
      "Epoch 400/500\n",
      "5/5 [==============================] - 0s 19ms/step - loss: 0.0314 - accuracy: 1.0000 - val_loss: 0.1910 - val_accuracy: 0.9500\n",
      "Epoch 401/500\n",
      "5/5 [==============================] - 0s 19ms/step - loss: 0.0303 - accuracy: 0.9929 - val_loss: 0.1907 - val_accuracy: 0.9500\n",
      "Epoch 402/500\n",
      "5/5 [==============================] - 0s 18ms/step - loss: 0.0302 - accuracy: 1.0000 - val_loss: 0.1982 - val_accuracy: 0.9500\n",
      "Epoch 403/500\n",
      "5/5 [==============================] - 0s 18ms/step - loss: 0.0300 - accuracy: 1.0000 - val_loss: 0.1955 - val_accuracy: 0.9500\n",
      "Epoch 404/500\n",
      "5/5 [==============================] - 0s 18ms/step - loss: 0.0302 - accuracy: 1.0000 - val_loss: 0.1963 - val_accuracy: 0.9500\n",
      "Epoch 405/500\n",
      "5/5 [==============================] - 0s 18ms/step - loss: 0.0299 - accuracy: 1.0000 - val_loss: 0.1863 - val_accuracy: 0.9500\n",
      "Epoch 406/500\n",
      "5/5 [==============================] - 0s 19ms/step - loss: 0.0300 - accuracy: 0.9929 - val_loss: 0.2019 - val_accuracy: 0.9500\n"
     ]
    },
    {
     "name": "stdout",
     "output_type": "stream",
     "text": [
      "Epoch 407/500\n",
      "5/5 [==============================] - 0s 18ms/step - loss: 0.0289 - accuracy: 1.0000 - val_loss: 0.2038 - val_accuracy: 0.9500\n",
      "Epoch 408/500\n",
      "5/5 [==============================] - 0s 18ms/step - loss: 0.0296 - accuracy: 1.0000 - val_loss: 0.2053 - val_accuracy: 0.9500\n",
      "Epoch 409/500\n",
      "5/5 [==============================] - 0s 22ms/step - loss: 0.0284 - accuracy: 1.0000 - val_loss: 0.1932 - val_accuracy: 0.9500\n",
      "Epoch 410/500\n",
      "5/5 [==============================] - 0s 19ms/step - loss: 0.0288 - accuracy: 1.0000 - val_loss: 0.1980 - val_accuracy: 0.9500\n",
      "Epoch 411/500\n",
      "5/5 [==============================] - 0s 19ms/step - loss: 0.0277 - accuracy: 1.0000 - val_loss: 0.2099 - val_accuracy: 0.9500\n",
      "Epoch 412/500\n",
      "5/5 [==============================] - 0s 19ms/step - loss: 0.0287 - accuracy: 1.0000 - val_loss: 0.2074 - val_accuracy: 0.9500\n",
      "Epoch 413/500\n",
      "5/5 [==============================] - 0s 19ms/step - loss: 0.0299 - accuracy: 1.0000 - val_loss: 0.1960 - val_accuracy: 0.9500\n",
      "Epoch 414/500\n",
      "5/5 [==============================] - 0s 18ms/step - loss: 0.0269 - accuracy: 1.0000 - val_loss: 0.2134 - val_accuracy: 0.9500\n",
      "Epoch 415/500\n",
      "5/5 [==============================] - 0s 19ms/step - loss: 0.0279 - accuracy: 1.0000 - val_loss: 0.2085 - val_accuracy: 0.9500\n",
      "Epoch 416/500\n",
      "5/5 [==============================] - 0s 19ms/step - loss: 0.0275 - accuracy: 1.0000 - val_loss: 0.2089 - val_accuracy: 0.9500\n",
      "Epoch 417/500\n",
      "5/5 [==============================] - 0s 20ms/step - loss: 0.0262 - accuracy: 1.0000 - val_loss: 0.1978 - val_accuracy: 0.9500\n",
      "Epoch 418/500\n",
      "5/5 [==============================] - 0s 19ms/step - loss: 0.0270 - accuracy: 1.0000 - val_loss: 0.1988 - val_accuracy: 0.9500\n",
      "Epoch 419/500\n",
      "5/5 [==============================] - 0s 19ms/step - loss: 0.0252 - accuracy: 1.0000 - val_loss: 0.2165 - val_accuracy: 0.9500\n",
      "Epoch 420/500\n",
      "5/5 [==============================] - 0s 18ms/step - loss: 0.0305 - accuracy: 1.0000 - val_loss: 0.2117 - val_accuracy: 0.9500\n",
      "Epoch 421/500\n",
      "5/5 [==============================] - 0s 19ms/step - loss: 0.0245 - accuracy: 1.0000 - val_loss: 0.1936 - val_accuracy: 0.9333\n",
      "Epoch 422/500\n",
      "5/5 [==============================] - 0s 19ms/step - loss: 0.0330 - accuracy: 0.9929 - val_loss: 0.2032 - val_accuracy: 0.9500\n",
      "Epoch 423/500\n",
      "5/5 [==============================] - 0s 19ms/step - loss: 0.0253 - accuracy: 1.0000 - val_loss: 0.2271 - val_accuracy: 0.9500\n",
      "Epoch 424/500\n",
      "5/5 [==============================] - 0s 20ms/step - loss: 0.0262 - accuracy: 1.0000 - val_loss: 0.2094 - val_accuracy: 0.9500\n",
      "Epoch 425/500\n",
      "5/5 [==============================] - 0s 19ms/step - loss: 0.0250 - accuracy: 1.0000 - val_loss: 0.1991 - val_accuracy: 0.9500\n",
      "Epoch 426/500\n",
      "5/5 [==============================] - 0s 19ms/step - loss: 0.0248 - accuracy: 1.0000 - val_loss: 0.2047 - val_accuracy: 0.9500\n",
      "Epoch 427/500\n",
      "5/5 [==============================] - 0s 19ms/step - loss: 0.0267 - accuracy: 1.0000 - val_loss: 0.2179 - val_accuracy: 0.9500\n",
      "Epoch 428/500\n",
      "5/5 [==============================] - 0s 18ms/step - loss: 0.0240 - accuracy: 1.0000 - val_loss: 0.2006 - val_accuracy: 0.9500\n",
      "Epoch 429/500\n",
      "5/5 [==============================] - 0s 19ms/step - loss: 0.0243 - accuracy: 1.0000 - val_loss: 0.1997 - val_accuracy: 0.9500\n",
      "Epoch 430/500\n",
      "5/5 [==============================] - 0s 18ms/step - loss: 0.0244 - accuracy: 1.0000 - val_loss: 0.2067 - val_accuracy: 0.9500\n",
      "Epoch 431/500\n",
      "5/5 [==============================] - 0s 19ms/step - loss: 0.0243 - accuracy: 1.0000 - val_loss: 0.2058 - val_accuracy: 0.9500\n",
      "Epoch 432/500\n",
      "5/5 [==============================] - 0s 18ms/step - loss: 0.0235 - accuracy: 1.0000 - val_loss: 0.2173 - val_accuracy: 0.9500\n",
      "Epoch 433/500\n",
      "5/5 [==============================] - 0s 18ms/step - loss: 0.0234 - accuracy: 1.0000 - val_loss: 0.2106 - val_accuracy: 0.9500\n",
      "Epoch 434/500\n",
      "5/5 [==============================] - 0s 18ms/step - loss: 0.0228 - accuracy: 1.0000 - val_loss: 0.2100 - val_accuracy: 0.9500\n",
      "Epoch 435/500\n",
      "5/5 [==============================] - 0s 18ms/step - loss: 0.0231 - accuracy: 1.0000 - val_loss: 0.2100 - val_accuracy: 0.9500\n",
      "Epoch 436/500\n",
      "5/5 [==============================] - 0s 18ms/step - loss: 0.0226 - accuracy: 1.0000 - val_loss: 0.2304 - val_accuracy: 0.9500\n",
      "Epoch 437/500\n",
      "5/5 [==============================] - 0s 19ms/step - loss: 0.0241 - accuracy: 1.0000 - val_loss: 0.2185 - val_accuracy: 0.9500\n",
      "Epoch 438/500\n",
      "5/5 [==============================] - 0s 19ms/step - loss: 0.0220 - accuracy: 1.0000 - val_loss: 0.2072 - val_accuracy: 0.9500\n",
      "Epoch 439/500\n",
      "5/5 [==============================] - 0s 20ms/step - loss: 0.0222 - accuracy: 1.0000 - val_loss: 0.2135 - val_accuracy: 0.9500\n",
      "Epoch 440/500\n",
      "5/5 [==============================] - 0s 18ms/step - loss: 0.0221 - accuracy: 1.0000 - val_loss: 0.2109 - val_accuracy: 0.9500\n",
      "Epoch 441/500\n",
      "5/5 [==============================] - 0s 18ms/step - loss: 0.0213 - accuracy: 1.0000 - val_loss: 0.2199 - val_accuracy: 0.9500\n",
      "Epoch 442/500\n",
      "5/5 [==============================] - 0s 18ms/step - loss: 0.0211 - accuracy: 1.0000 - val_loss: 0.2227 - val_accuracy: 0.9500\n",
      "Epoch 443/500\n",
      "5/5 [==============================] - 0s 19ms/step - loss: 0.0209 - accuracy: 1.0000 - val_loss: 0.2195 - val_accuracy: 0.9500\n",
      "Epoch 444/500\n",
      "5/5 [==============================] - 0s 18ms/step - loss: 0.0210 - accuracy: 1.0000 - val_loss: 0.2156 - val_accuracy: 0.9500\n",
      "Epoch 445/500\n",
      "5/5 [==============================] - 0s 19ms/step - loss: 0.0212 - accuracy: 1.0000 - val_loss: 0.2265 - val_accuracy: 0.9500\n",
      "Epoch 446/500\n",
      "5/5 [==============================] - 0s 18ms/step - loss: 0.0205 - accuracy: 1.0000 - val_loss: 0.2251 - val_accuracy: 0.9500\n",
      "Epoch 447/500\n",
      "5/5 [==============================] - 0s 19ms/step - loss: 0.0202 - accuracy: 1.0000 - val_loss: 0.2222 - val_accuracy: 0.9500\n",
      "Epoch 448/500\n",
      "5/5 [==============================] - 0s 18ms/step - loss: 0.0203 - accuracy: 1.0000 - val_loss: 0.2185 - val_accuracy: 0.9500\n",
      "Epoch 449/500\n",
      "5/5 [==============================] - 0s 19ms/step - loss: 0.0200 - accuracy: 1.0000 - val_loss: 0.2276 - val_accuracy: 0.9500\n",
      "Epoch 450/500\n",
      "5/5 [==============================] - 0s 18ms/step - loss: 0.0195 - accuracy: 1.0000 - val_loss: 0.2286 - val_accuracy: 0.9500\n",
      "Epoch 451/500\n",
      "5/5 [==============================] - 0s 18ms/step - loss: 0.0197 - accuracy: 1.0000 - val_loss: 0.2273 - val_accuracy: 0.9500\n",
      "Epoch 452/500\n",
      "5/5 [==============================] - 0s 19ms/step - loss: 0.0191 - accuracy: 1.0000 - val_loss: 0.2354 - val_accuracy: 0.9500\n",
      "Epoch 453/500\n",
      "5/5 [==============================] - 0s 19ms/step - loss: 0.0194 - accuracy: 1.0000 - val_loss: 0.2318 - val_accuracy: 0.9500\n",
      "Epoch 454/500\n",
      "5/5 [==============================] - 0s 18ms/step - loss: 0.0188 - accuracy: 1.0000 - val_loss: 0.2224 - val_accuracy: 0.9500\n",
      "Epoch 455/500\n",
      "5/5 [==============================] - 0s 19ms/step - loss: 0.0184 - accuracy: 1.0000 - val_loss: 0.2292 - val_accuracy: 0.9500\n",
      "Epoch 456/500\n",
      "5/5 [==============================] - 0s 19ms/step - loss: 0.0185 - accuracy: 1.0000 - val_loss: 0.2397 - val_accuracy: 0.9500\n",
      "Epoch 457/500\n",
      "5/5 [==============================] - 0s 18ms/step - loss: 0.0176 - accuracy: 1.0000 - val_loss: 0.2294 - val_accuracy: 0.9500\n",
      "Epoch 458/500\n",
      "5/5 [==============================] - 0s 19ms/step - loss: 0.0171 - accuracy: 1.0000 - val_loss: 0.2228 - val_accuracy: 0.9500\n",
      "Epoch 459/500\n",
      "5/5 [==============================] - 0s 18ms/step - loss: 0.0181 - accuracy: 1.0000 - val_loss: 0.2340 - val_accuracy: 0.9500\n",
      "Epoch 460/500\n",
      "5/5 [==============================] - 0s 18ms/step - loss: 0.0180 - accuracy: 1.0000 - val_loss: 0.2515 - val_accuracy: 0.9500\n",
      "Epoch 461/500\n",
      "5/5 [==============================] - 0s 19ms/step - loss: 0.0174 - accuracy: 1.0000 - val_loss: 0.2373 - val_accuracy: 0.9500\n",
      "Epoch 462/500\n",
      "5/5 [==============================] - 0s 19ms/step - loss: 0.0164 - accuracy: 1.0000 - val_loss: 0.2329 - val_accuracy: 0.9500\n",
      "Epoch 463/500\n",
      "5/5 [==============================] - 0s 20ms/step - loss: 0.0163 - accuracy: 1.0000 - val_loss: 0.2403 - val_accuracy: 0.9500\n",
      "Epoch 464/500\n",
      "5/5 [==============================] - 0s 18ms/step - loss: 0.0164 - accuracy: 1.0000 - val_loss: 0.2438 - val_accuracy: 0.9500\n"
     ]
    },
    {
     "name": "stdout",
     "output_type": "stream",
     "text": [
      "Epoch 465/500\n",
      "5/5 [==============================] - 0s 20ms/step - loss: 0.0155 - accuracy: 1.0000 - val_loss: 0.2324 - val_accuracy: 0.9500\n",
      "Epoch 466/500\n",
      "5/5 [==============================] - 0s 19ms/step - loss: 0.0165 - accuracy: 1.0000 - val_loss: 0.2358 - val_accuracy: 0.9500\n",
      "Epoch 467/500\n",
      "5/5 [==============================] - 0s 19ms/step - loss: 0.0161 - accuracy: 1.0000 - val_loss: 0.2476 - val_accuracy: 0.9500\n",
      "Epoch 468/500\n",
      "5/5 [==============================] - 0s 18ms/step - loss: 0.0160 - accuracy: 1.0000 - val_loss: 0.2385 - val_accuracy: 0.9500\n",
      "Epoch 469/500\n",
      "5/5 [==============================] - 0s 19ms/step - loss: 0.0155 - accuracy: 1.0000 - val_loss: 0.2453 - val_accuracy: 0.9500\n",
      "Epoch 470/500\n",
      "5/5 [==============================] - 0s 19ms/step - loss: 0.0152 - accuracy: 1.0000 - val_loss: 0.2420 - val_accuracy: 0.9500\n",
      "Epoch 471/500\n",
      "5/5 [==============================] - 0s 18ms/step - loss: 0.0154 - accuracy: 1.0000 - val_loss: 0.2413 - val_accuracy: 0.9500\n",
      "Epoch 472/500\n",
      "5/5 [==============================] - 0s 18ms/step - loss: 0.0153 - accuracy: 1.0000 - val_loss: 0.2479 - val_accuracy: 0.9500\n",
      "Epoch 473/500\n",
      "5/5 [==============================] - 0s 20ms/step - loss: 0.0150 - accuracy: 1.0000 - val_loss: 0.2468 - val_accuracy: 0.9500\n",
      "Epoch 474/500\n",
      "5/5 [==============================] - 0s 20ms/step - loss: 0.0160 - accuracy: 1.0000 - val_loss: 0.2590 - val_accuracy: 0.9500\n",
      "Epoch 475/500\n",
      "5/5 [==============================] - 0s 19ms/step - loss: 0.0146 - accuracy: 1.0000 - val_loss: 0.2469 - val_accuracy: 0.9500\n",
      "Epoch 476/500\n",
      "5/5 [==============================] - 0s 18ms/step - loss: 0.0146 - accuracy: 1.0000 - val_loss: 0.2445 - val_accuracy: 0.9500\n",
      "Epoch 477/500\n",
      "5/5 [==============================] - 0s 18ms/step - loss: 0.0146 - accuracy: 1.0000 - val_loss: 0.2567 - val_accuracy: 0.9500\n",
      "Epoch 478/500\n",
      "5/5 [==============================] - 0s 19ms/step - loss: 0.0141 - accuracy: 1.0000 - val_loss: 0.2528 - val_accuracy: 0.9500\n",
      "Epoch 479/500\n",
      "5/5 [==============================] - 0s 19ms/step - loss: 0.0140 - accuracy: 1.0000 - val_loss: 0.2462 - val_accuracy: 0.9500\n",
      "Epoch 480/500\n",
      "5/5 [==============================] - 0s 19ms/step - loss: 0.0138 - accuracy: 1.0000 - val_loss: 0.2558 - val_accuracy: 0.9500\n",
      "Epoch 481/500\n",
      "5/5 [==============================] - 0s 19ms/step - loss: 0.0145 - accuracy: 1.0000 - val_loss: 0.2622 - val_accuracy: 0.9500\n",
      "Epoch 482/500\n",
      "5/5 [==============================] - 0s 18ms/step - loss: 0.0138 - accuracy: 1.0000 - val_loss: 0.2464 - val_accuracy: 0.9500\n",
      "Epoch 483/500\n",
      "5/5 [==============================] - 0s 18ms/step - loss: 0.0139 - accuracy: 1.0000 - val_loss: 0.2487 - val_accuracy: 0.9500\n",
      "Epoch 484/500\n",
      "5/5 [==============================] - 0s 19ms/step - loss: 0.0130 - accuracy: 1.0000 - val_loss: 0.2631 - val_accuracy: 0.9500\n",
      "Epoch 485/500\n",
      "5/5 [==============================] - 0s 19ms/step - loss: 0.0136 - accuracy: 1.0000 - val_loss: 0.2641 - val_accuracy: 0.9500\n",
      "Epoch 486/500\n",
      "5/5 [==============================] - 0s 19ms/step - loss: 0.0134 - accuracy: 1.0000 - val_loss: 0.2513 - val_accuracy: 0.9500\n",
      "Epoch 487/500\n",
      "5/5 [==============================] - 0s 19ms/step - loss: 0.0130 - accuracy: 1.0000 - val_loss: 0.2505 - val_accuracy: 0.9500\n",
      "Epoch 488/500\n",
      "5/5 [==============================] - 0s 18ms/step - loss: 0.0128 - accuracy: 1.0000 - val_loss: 0.2510 - val_accuracy: 0.9500\n",
      "Epoch 489/500\n",
      "5/5 [==============================] - 0s 19ms/step - loss: 0.0127 - accuracy: 1.0000 - val_loss: 0.2549 - val_accuracy: 0.9500\n",
      "Epoch 490/500\n",
      "5/5 [==============================] - 0s 22ms/step - loss: 0.0129 - accuracy: 1.0000 - val_loss: 0.2635 - val_accuracy: 0.9500\n",
      "Epoch 491/500\n",
      "5/5 [==============================] - 0s 21ms/step - loss: 0.0127 - accuracy: 1.0000 - val_loss: 0.2502 - val_accuracy: 0.9500\n",
      "Epoch 492/500\n",
      "5/5 [==============================] - 0s 20ms/step - loss: 0.0127 - accuracy: 1.0000 - val_loss: 0.2503 - val_accuracy: 0.9500\n",
      "Epoch 493/500\n",
      "5/5 [==============================] - 0s 21ms/step - loss: 0.0121 - accuracy: 1.0000 - val_loss: 0.2655 - val_accuracy: 0.9500\n",
      "Epoch 494/500\n",
      "5/5 [==============================] - 0s 21ms/step - loss: 0.0126 - accuracy: 1.0000 - val_loss: 0.2601 - val_accuracy: 0.9500\n",
      "Epoch 495/500\n",
      "5/5 [==============================] - 0s 19ms/step - loss: 0.0122 - accuracy: 1.0000 - val_loss: 0.2491 - val_accuracy: 0.9500\n",
      "Epoch 496/500\n",
      "5/5 [==============================] - 0s 20ms/step - loss: 0.0120 - accuracy: 1.0000 - val_loss: 0.2541 - val_accuracy: 0.9500\n",
      "Epoch 497/500\n",
      "5/5 [==============================] - 0s 19ms/step - loss: 0.0121 - accuracy: 1.0000 - val_loss: 0.2611 - val_accuracy: 0.9500\n",
      "Epoch 498/500\n",
      "5/5 [==============================] - 0s 19ms/step - loss: 0.0119 - accuracy: 1.0000 - val_loss: 0.2552 - val_accuracy: 0.9500\n",
      "Epoch 499/500\n",
      "5/5 [==============================] - 0s 20ms/step - loss: 0.0117 - accuracy: 1.0000 - val_loss: 0.2508 - val_accuracy: 0.9500\n",
      "Epoch 500/500\n",
      "5/5 [==============================] - 0s 19ms/step - loss: 0.0115 - accuracy: 1.0000 - val_loss: 0.2611 - val_accuracy: 0.9500\n"
     ]
    }
   ],
   "source": [
    "history = model.fit(X_train, y1_train_encoded, epochs = 500, batch_size = 32, validation_data = (X_test, y1_test_encoded))"
   ]
  },
  {
   "cell_type": "code",
   "execution_count": 57,
   "id": "5264ddde",
   "metadata": {},
   "outputs": [
    {
     "name": "stderr",
     "output_type": "stream",
     "text": [
      "WARNING:absl:Found untraced functions such as _jit_compiled_convolution_op, _jit_compiled_convolution_op, _jit_compiled_convolution_op, _jit_compiled_convolution_op, _jit_compiled_convolution_op while saving (showing 5 of 5). These functions will not be directly callable after loading.\n"
     ]
    },
    {
     "name": "stdout",
     "output_type": "stream",
     "text": [
      "INFO:tensorflow:Assets written to: model_results/nn_identity_model/assets\n"
     ]
    },
    {
     "name": "stderr",
     "output_type": "stream",
     "text": [
      "INFO:tensorflow:Assets written to: model_results/nn_identity_model/assets\n"
     ]
    }
   ],
   "source": [
    "model.save(\"model_results/nn_identity_model\")"
   ]
  },
  {
   "cell_type": "code",
   "execution_count": 58,
   "id": "049974ad",
   "metadata": {},
   "outputs": [
    {
     "data": {
      "image/png": "[encoded data removed]",
      "text/plain": [
       "<Figure size 640x480 with 1 Axes>"
      ]
     },
     "metadata": {},
     "output_type": "display_data"
    }
   ],
   "source": [
    "import matplotlib.pyplot as plt\n",
    "\n",
    "plt.plot(history.history['accuracy'], color = 'red', label ='accuracy')\n",
    "plt.plot(history.history['val_accuracy'], color = 'blue', label ='val_accuracy')\n",
    "plt.legend()\n",
    "plt.show()"
   ]
  },
  {
   "cell_type": "markdown",
   "id": "a592391b",
   "metadata": {},
   "source": [
    "# Age classifier"
   ]
  },
  {
   "cell_type": "code",
   "execution_count": 59,
   "id": "d9482d46",
   "metadata": {},
   "outputs": [
    {
     "name": "stdout",
     "output_type": "stream",
     "text": [
      "WARNING:tensorflow:Using a while_loop for converting RngReadAndSkip cause there is no registered converter for this op.\n"
     ]
    },
    {
     "name": "stderr",
     "output_type": "stream",
     "text": [
      "WARNING:tensorflow:Using a while_loop for converting RngReadAndSkip cause there is no registered converter for this op.\n"
     ]
    },
    {
     "name": "stdout",
     "output_type": "stream",
     "text": [
      "WARNING:tensorflow:Using a while_loop for converting Bitcast cause there is no registered converter for this op.\n"
     ]
    },
    {
     "name": "stderr",
     "output_type": "stream",
     "text": [
      "WARNING:tensorflow:Using a while_loop for converting Bitcast cause there is no registered converter for this op.\n"
     ]
    },
    {
     "name": "stdout",
     "output_type": "stream",
     "text": [
      "WARNING:tensorflow:Using a while_loop for converting Bitcast cause there is no registered converter for this op.\n"
     ]
    },
    {
     "name": "stderr",
     "output_type": "stream",
     "text": [
      "WARNING:tensorflow:Using a while_loop for converting Bitcast cause there is no registered converter for this op.\n"
     ]
    },
    {
     "name": "stdout",
     "output_type": "stream",
     "text": [
      "WARNING:tensorflow:Using a while_loop for converting StatelessRandomUniformV2 cause there is no registered converter for this op.\n"
     ]
    },
    {
     "name": "stderr",
     "output_type": "stream",
     "text": [
      "WARNING:tensorflow:Using a while_loop for converting StatelessRandomUniformV2 cause there is no registered converter for this op.\n"
     ]
    },
    {
     "name": "stdout",
     "output_type": "stream",
     "text": [
      "WARNING:tensorflow:Using a while_loop for converting ImageProjectiveTransformV3 cause there is no registered converter for this op.\n"
     ]
    },
    {
     "name": "stderr",
     "output_type": "stream",
     "text": [
      "WARNING:tensorflow:Using a while_loop for converting ImageProjectiveTransformV3 cause there is no registered converter for this op.\n"
     ]
    }
   ],
   "source": [
    "inputs = tf.keras.layers.Input(shape = (224,224,3))\n",
    "x = tf.keras.layers.RandomRotation(\n",
    "    (-0.05, 0.05),\n",
    "    fill_mode=\"nearest\",\n",
    "    interpolation=\"bilinear\",\n",
    ")(inputs)\n",
    "x = Conv2D(8, 3, strides = 1,  padding = \"valid\", activation = \"relu\")(x)\n",
    "x = Conv2D(16, 3, strides = 1,  padding = \"valid\", activation = \"relu\")(x)\n",
    "x = MaxPooling2D(2, strides = 2, padding = \"valid\")(x)\n",
    "x = Conv2D(32, 3, strides = 1,  padding = \"valid\", activation = \"relu\")(x)\n",
    "x = Conv2D(64, 3, strides = 2,  padding = \"valid\", activation = \"relu\")(x)\n",
    "x = Conv2D(128, 5, strides = 2,  padding = \"valid\", activation = \"relu\")(x)\n",
    "x = Conv2D(256, 5, strides = 2,  padding = \"valid\", activation = \"relu\")(x)\n",
    "\n",
    "x = tf.keras.layers.Flatten()(x)\n",
    "x = tf.keras.layers.Dense(256, activation = \"relu\")(x)\n",
    "x = tf.keras.layers.Dense(1, activation = \"relu\")(x)\n",
    "model_age = Model(inputs = inputs, outputs = x)"
   ]
  },
  {
   "cell_type": "code",
   "execution_count": 60,
   "id": "c4cf0e91",
   "metadata": {},
   "outputs": [],
   "source": [
    "model_age.compile(optimizer = tf.keras.optimizers.Adam(0.00001), loss = \"mse\")"
   ]
  },
  {
   "cell_type": "code",
   "execution_count": 61,
   "id": "610b2389",
   "metadata": {},
   "outputs": [
    {
     "name": "stdout",
     "output_type": "stream",
     "text": [
      "Epoch 1/250\n",
      "WARNING:tensorflow:Using a while_loop for converting RngReadAndSkip cause there is no registered converter for this op.\n"
     ]
    },
    {
     "name": "stderr",
     "output_type": "stream",
     "text": [
      "WARNING:tensorflow:Using a while_loop for converting RngReadAndSkip cause there is no registered converter for this op.\n"
     ]
    },
    {
     "name": "stdout",
     "output_type": "stream",
     "text": [
      "WARNING:tensorflow:Using a while_loop for converting Bitcast cause there is no registered converter for this op.\n"
     ]
    },
    {
     "name": "stderr",
     "output_type": "stream",
     "text": [
      "WARNING:tensorflow:Using a while_loop for converting Bitcast cause there is no registered converter for this op.\n"
     ]
    },
    {
     "name": "stdout",
     "output_type": "stream",
     "text": [
      "WARNING:tensorflow:Using a while_loop for converting Bitcast cause there is no registered converter for this op.\n"
     ]
    },
    {
     "name": "stderr",
     "output_type": "stream",
     "text": [
      "WARNING:tensorflow:Using a while_loop for converting Bitcast cause there is no registered converter for this op.\n"
     ]
    },
    {
     "name": "stdout",
     "output_type": "stream",
     "text": [
      "WARNING:tensorflow:Using a while_loop for converting StatelessRandomUniformV2 cause there is no registered converter for this op.\n"
     ]
    },
    {
     "name": "stderr",
     "output_type": "stream",
     "text": [
      "WARNING:tensorflow:Using a while_loop for converting StatelessRandomUniformV2 cause there is no registered converter for this op.\n"
     ]
    },
    {
     "name": "stdout",
     "output_type": "stream",
     "text": [
      "WARNING:tensorflow:Using a while_loop for converting ImageProjectiveTransformV3 cause there is no registered converter for this op.\n"
     ]
    },
    {
     "name": "stderr",
     "output_type": "stream",
     "text": [
      "WARNING:tensorflow:Using a while_loop for converting ImageProjectiveTransformV3 cause there is no registered converter for this op.\n"
     ]
    },
    {
     "name": "stdout",
     "output_type": "stream",
     "text": [
      "WARNING:tensorflow:Using a while_loop for converting RngReadAndSkip cause there is no registered converter for this op.\n"
     ]
    },
    {
     "name": "stderr",
     "output_type": "stream",
     "text": [
      "WARNING:tensorflow:Using a while_loop for converting RngReadAndSkip cause there is no registered converter for this op.\n"
     ]
    },
    {
     "name": "stdout",
     "output_type": "stream",
     "text": [
      "WARNING:tensorflow:Using a while_loop for converting Bitcast cause there is no registered converter for this op.\n"
     ]
    },
    {
     "name": "stderr",
     "output_type": "stream",
     "text": [
      "WARNING:tensorflow:Using a while_loop for converting Bitcast cause there is no registered converter for this op.\n"
     ]
    },
    {
     "name": "stdout",
     "output_type": "stream",
     "text": [
      "WARNING:tensorflow:Using a while_loop for converting Bitcast cause there is no registered converter for this op.\n"
     ]
    },
    {
     "name": "stderr",
     "output_type": "stream",
     "text": [
      "WARNING:tensorflow:Using a while_loop for converting Bitcast cause there is no registered converter for this op.\n"
     ]
    },
    {
     "name": "stdout",
     "output_type": "stream",
     "text": [
      "WARNING:tensorflow:Using a while_loop for converting StatelessRandomUniformV2 cause there is no registered converter for this op.\n"
     ]
    },
    {
     "name": "stderr",
     "output_type": "stream",
     "text": [
      "WARNING:tensorflow:Using a while_loop for converting StatelessRandomUniformV2 cause there is no registered converter for this op.\n"
     ]
    },
    {
     "name": "stdout",
     "output_type": "stream",
     "text": [
      "WARNING:tensorflow:Using a while_loop for converting ImageProjectiveTransformV3 cause there is no registered converter for this op.\n"
     ]
    },
    {
     "name": "stderr",
     "output_type": "stream",
     "text": [
      "WARNING:tensorflow:Using a while_loop for converting ImageProjectiveTransformV3 cause there is no registered converter for this op.\n"
     ]
    },
    {
     "name": "stdout",
     "output_type": "stream",
     "text": [
      "5/5 [==============================] - 3s 98ms/step - loss: 1329.8381 - val_loss: 722.3755\n",
      "Epoch 2/250\n",
      "5/5 [==============================] - 0s 75ms/step - loss: 575.9798 - val_loss: 593.3548\n",
      "Epoch 3/250\n",
      "5/5 [==============================] - 0s 76ms/step - loss: 379.7802 - val_loss: 492.3150\n",
      "Epoch 4/250\n",
      "5/5 [==============================] - 0s 76ms/step - loss: 328.4001 - val_loss: 464.4424\n",
      "Epoch 5/250\n",
      "5/5 [==============================] - 0s 74ms/step - loss: 292.6460 - val_loss: 501.4480\n",
      "Epoch 6/250\n",
      "5/5 [==============================] - 0s 76ms/step - loss: 283.4209 - val_loss: 454.3958\n",
      "Epoch 7/250\n",
      "5/5 [==============================] - 0s 77ms/step - loss: 272.4195 - val_loss: 447.4913\n",
      "Epoch 8/250\n",
      "5/5 [==============================] - 0s 75ms/step - loss: 246.7214 - val_loss: 441.8472\n",
      "Epoch 9/250\n",
      "5/5 [==============================] - 0s 75ms/step - loss: 241.4773 - val_loss: 427.3344\n",
      "Epoch 10/250\n",
      "5/5 [==============================] - 0s 76ms/step - loss: 219.5750 - val_loss: 416.1255\n",
      "Epoch 11/250\n",
      "5/5 [==============================] - 0s 76ms/step - loss: 217.0571 - val_loss: 412.0155\n",
      "Epoch 12/250\n",
      "5/5 [==============================] - 0s 76ms/step - loss: 214.5047 - val_loss: 409.4863\n",
      "Epoch 13/250\n",
      "5/5 [==============================] - 0s 76ms/step - loss: 208.0755 - val_loss: 398.9188\n",
      "Epoch 14/250\n",
      "5/5 [==============================] - 0s 76ms/step - loss: 183.2512 - val_loss: 408.3734\n",
      "Epoch 15/250\n",
      "5/5 [==============================] - 0s 78ms/step - loss: 179.9111 - val_loss: 385.9380\n",
      "Epoch 16/250\n",
      "5/5 [==============================] - 0s 74ms/step - loss: 175.0515 - val_loss: 376.0589\n",
      "Epoch 17/250\n",
      "5/5 [==============================] - 0s 75ms/step - loss: 162.3015 - val_loss: 374.2801\n",
      "Epoch 18/250\n",
      "5/5 [==============================] - 0s 77ms/step - loss: 157.4199 - val_loss: 365.9213\n",
      "Epoch 19/250\n",
      "5/5 [==============================] - 0s 76ms/step - loss: 155.5531 - val_loss: 359.9806\n",
      "Epoch 20/250\n",
      "5/5 [==============================] - 0s 76ms/step - loss: 142.8228 - val_loss: 368.4870\n",
      "Epoch 21/250\n",
      "5/5 [==============================] - 0s 77ms/step - loss: 150.9642 - val_loss: 355.8042\n",
      "Epoch 22/250\n",
      "5/5 [==============================] - 0s 76ms/step - loss: 143.8340 - val_loss: 353.0664\n",
      "Epoch 23/250\n",
      "5/5 [==============================] - 0s 76ms/step - loss: 143.1288 - val_loss: 343.9778\n",
      "Epoch 24/250\n",
      "5/5 [==============================] - 0s 77ms/step - loss: 137.0886 - val_loss: 343.9451\n",
      "Epoch 25/250\n",
      "5/5 [==============================] - 0s 75ms/step - loss: 121.4198 - val_loss: 342.8791\n",
      "Epoch 26/250\n",
      "5/5 [==============================] - 0s 76ms/step - loss: 120.8427 - val_loss: 350.0567\n",
      "Epoch 27/250\n",
      "5/5 [==============================] - 0s 76ms/step - loss: 120.1151 - val_loss: 331.7262\n",
      "Epoch 28/250\n",
      "5/5 [==============================] - 0s 76ms/step - loss: 119.3842 - val_loss: 328.4763\n",
      "Epoch 29/250\n",
      "5/5 [==============================] - 0s 78ms/step - loss: 100.5489 - val_loss: 330.6165\n",
      "Epoch 30/250\n",
      "5/5 [==============================] - 0s 76ms/step - loss: 110.5480 - val_loss: 321.6464\n",
      "Epoch 31/250\n",
      "5/5 [==============================] - 0s 77ms/step - loss: 103.7188 - val_loss: 322.0012\n",
      "Epoch 32/250\n",
      "5/5 [==============================] - 0s 75ms/step - loss: 100.8178 - val_loss: 320.6238\n",
      "Epoch 33/250\n",
      "5/5 [==============================] - 0s 77ms/step - loss: 103.6996 - val_loss: 318.7736\n",
      "Epoch 34/250\n",
      "5/5 [==============================] - 0s 77ms/step - loss: 95.1264 - val_loss: 319.4008\n",
      "Epoch 35/250\n",
      "5/5 [==============================] - 0s 76ms/step - loss: 90.3495 - val_loss: 321.6926\n",
      "Epoch 36/250\n",
      "5/5 [==============================] - 0s 76ms/step - loss: 87.4421 - val_loss: 314.4064\n",
      "Epoch 37/250\n",
      "5/5 [==============================] - 0s 76ms/step - loss: 92.6203 - val_loss: 313.5425\n",
      "Epoch 38/250\n",
      "5/5 [==============================] - 0s 77ms/step - loss: 83.1698 - val_loss: 308.6243\n",
      "Epoch 39/250\n",
      "5/5 [==============================] - 0s 76ms/step - loss: 83.7467 - val_loss: 307.6791\n",
      "Epoch 40/250\n",
      "5/5 [==============================] - 0s 77ms/step - loss: 86.9408 - val_loss: 306.9380\n",
      "Epoch 41/250\n",
      "5/5 [==============================] - 0s 76ms/step - loss: 75.7050 - val_loss: 306.4835\n",
      "Epoch 42/250\n",
      "5/5 [==============================] - 0s 76ms/step - loss: 74.6122 - val_loss: 314.7294\n",
      "Epoch 43/250\n",
      "5/5 [==============================] - 0s 74ms/step - loss: 76.9424 - val_loss: 302.0328\n",
      "Epoch 44/250\n",
      "5/5 [==============================] - 0s 76ms/step - loss: 67.8458 - val_loss: 309.5563\n",
      "Epoch 45/250\n",
      "5/5 [==============================] - 0s 77ms/step - loss: 65.5034 - val_loss: 300.8926\n",
      "Epoch 46/250\n",
      "5/5 [==============================] - 0s 77ms/step - loss: 61.0540 - val_loss: 302.5982\n",
      "Epoch 47/250\n",
      "5/5 [==============================] - 0s 77ms/step - loss: 64.1385 - val_loss: 299.7977\n",
      "Epoch 48/250\n",
      "5/5 [==============================] - 0s 76ms/step - loss: 56.9469 - val_loss: 299.0921\n",
      "Epoch 49/250\n",
      "5/5 [==============================] - 0s 76ms/step - loss: 58.6473 - val_loss: 302.9662\n",
      "Epoch 50/250\n",
      "5/5 [==============================] - 0s 77ms/step - loss: 51.3760 - val_loss: 298.5602\n",
      "Epoch 51/250\n",
      "5/5 [==============================] - 0s 77ms/step - loss: 56.1958 - val_loss: 304.9333\n",
      "Epoch 52/250\n",
      "5/5 [==============================] - 0s 77ms/step - loss: 53.6802 - val_loss: 295.9218\n",
      "Epoch 53/250\n",
      "5/5 [==============================] - 0s 76ms/step - loss: 57.8179 - val_loss: 294.7275\n",
      "Epoch 54/250\n",
      "5/5 [==============================] - 0s 76ms/step - loss: 52.6398 - val_loss: 290.6442\n",
      "Epoch 55/250\n",
      "5/5 [==============================] - 0s 75ms/step - loss: 53.6649 - val_loss: 292.2282\n",
      "Epoch 56/250\n",
      "5/5 [==============================] - 0s 77ms/step - loss: 53.8524 - val_loss: 296.6613\n",
      "Epoch 57/250\n",
      "5/5 [==============================] - 0s 77ms/step - loss: 47.1374 - val_loss: 296.3734\n",
      "Epoch 58/250\n",
      "5/5 [==============================] - 0s 77ms/step - loss: 45.7167 - val_loss: 294.9243\n",
      "Epoch 59/250\n",
      "5/5 [==============================] - 0s 77ms/step - loss: 43.7369 - val_loss: 294.8183\n",
      "Epoch 60/250\n",
      "5/5 [==============================] - 0s 77ms/step - loss: 40.7934 - val_loss: 293.2623\n",
      "Epoch 61/250\n",
      "5/5 [==============================] - 0s 76ms/step - loss: 33.3905 - val_loss: 291.8350\n",
      "Epoch 62/250\n",
      "5/5 [==============================] - 0s 77ms/step - loss: 35.0067 - val_loss: 298.9508\n",
      "Epoch 63/250\n",
      "5/5 [==============================] - 0s 76ms/step - loss: 37.2376 - val_loss: 294.2363\n",
      "Epoch 64/250\n",
      "5/5 [==============================] - 0s 77ms/step - loss: 41.7009 - val_loss: 300.1903\n",
      "Epoch 65/250\n",
      "5/5 [==============================] - 0s 76ms/step - loss: 37.1559 - val_loss: 299.4024\n",
      "Epoch 66/250\n",
      "5/5 [==============================] - 0s 77ms/step - loss: 38.7192 - val_loss: 301.7837\n",
      "Epoch 67/250\n",
      "5/5 [==============================] - 0s 77ms/step - loss: 42.3273 - val_loss: 310.9146\n",
      "Epoch 68/250\n",
      "5/5 [==============================] - 0s 76ms/step - loss: 35.7136 - val_loss: 299.8399\n",
      "Epoch 69/250\n",
      "5/5 [==============================] - 0s 76ms/step - loss: 35.2361 - val_loss: 301.0936\n",
      "Epoch 70/250\n",
      "5/5 [==============================] - 0s 77ms/step - loss: 27.3326 - val_loss: 291.0383\n",
      "Epoch 71/250\n",
      "5/5 [==============================] - 0s 77ms/step - loss: 35.2162 - val_loss: 292.6148\n",
      "Epoch 72/250\n",
      "5/5 [==============================] - 0s 76ms/step - loss: 30.0586 - val_loss: 286.3192\n",
      "Epoch 73/250\n",
      "5/5 [==============================] - 0s 76ms/step - loss: 22.5174 - val_loss: 289.6117\n",
      "Epoch 74/250\n",
      "5/5 [==============================] - 0s 77ms/step - loss: 23.4479 - val_loss: 290.4953\n",
      "Epoch 75/250\n",
      "5/5 [==============================] - 0s 77ms/step - loss: 21.9037 - val_loss: 290.7928\n",
      "Epoch 76/250\n",
      "5/5 [==============================] - 0s 78ms/step - loss: 19.9717 - val_loss: 290.5093\n",
      "Epoch 77/250\n",
      "5/5 [==============================] - 0s 78ms/step - loss: 26.7476 - val_loss: 287.0178\n",
      "Epoch 78/250\n",
      "5/5 [==============================] - 0s 78ms/step - loss: 23.4691 - val_loss: 284.4717\n",
      "Epoch 79/250\n",
      "5/5 [==============================] - 0s 78ms/step - loss: 22.8570 - val_loss: 284.7355\n",
      "Epoch 80/250\n",
      "5/5 [==============================] - 0s 76ms/step - loss: 26.4865 - val_loss: 282.1940\n",
      "Epoch 81/250\n"
     ]
    },
    {
     "name": "stdout",
     "output_type": "stream",
     "text": [
      "5/5 [==============================] - 0s 78ms/step - loss: 19.6748 - val_loss: 278.7993\n",
      "Epoch 82/250\n",
      "5/5 [==============================] - 0s 76ms/step - loss: 20.8862 - val_loss: 293.8343\n",
      "Epoch 83/250\n",
      "5/5 [==============================] - 0s 78ms/step - loss: 27.7602 - val_loss: 289.6197\n",
      "Epoch 84/250\n",
      "5/5 [==============================] - 0s 76ms/step - loss: 25.2109 - val_loss: 289.1450\n",
      "Epoch 85/250\n",
      "5/5 [==============================] - 0s 76ms/step - loss: 28.8355 - val_loss: 288.5353\n",
      "Epoch 86/250\n",
      "5/5 [==============================] - 0s 78ms/step - loss: 23.1143 - val_loss: 284.0180\n",
      "Epoch 87/250\n",
      "5/5 [==============================] - 0s 77ms/step - loss: 20.7291 - val_loss: 298.8373\n",
      "Epoch 88/250\n",
      "5/5 [==============================] - 0s 76ms/step - loss: 19.4441 - val_loss: 283.4618\n",
      "Epoch 89/250\n",
      "5/5 [==============================] - 0s 77ms/step - loss: 20.5366 - val_loss: 284.4391\n",
      "Epoch 90/250\n",
      "5/5 [==============================] - 0s 76ms/step - loss: 15.2235 - val_loss: 292.9467\n",
      "Epoch 91/250\n",
      "5/5 [==============================] - 0s 76ms/step - loss: 13.1065 - val_loss: 286.3159\n",
      "Epoch 92/250\n",
      "5/5 [==============================] - 0s 77ms/step - loss: 17.5862 - val_loss: 294.8613\n",
      "Epoch 93/250\n",
      "5/5 [==============================] - 0s 77ms/step - loss: 12.5404 - val_loss: 283.3112\n",
      "Epoch 94/250\n",
      "5/5 [==============================] - 0s 76ms/step - loss: 12.2691 - val_loss: 284.1127\n",
      "Epoch 95/250\n",
      "5/5 [==============================] - 0s 78ms/step - loss: 13.7214 - val_loss: 282.0156\n",
      "Epoch 96/250\n",
      "5/5 [==============================] - 0s 76ms/step - loss: 14.1455 - val_loss: 289.8155\n",
      "Epoch 97/250\n",
      "5/5 [==============================] - 0s 76ms/step - loss: 10.7119 - val_loss: 283.9103\n",
      "Epoch 98/250\n",
      "5/5 [==============================] - 0s 77ms/step - loss: 13.2691 - val_loss: 284.4721\n",
      "Epoch 99/250\n",
      "5/5 [==============================] - 0s 77ms/step - loss: 12.5452 - val_loss: 301.2574\n",
      "Epoch 100/250\n",
      "5/5 [==============================] - 0s 78ms/step - loss: 14.9841 - val_loss: 284.8875\n",
      "Epoch 101/250\n",
      "5/5 [==============================] - 0s 77ms/step - loss: 13.1697 - val_loss: 280.9793\n",
      "Epoch 102/250\n",
      "5/5 [==============================] - 0s 78ms/step - loss: 9.5615 - val_loss: 278.5633\n",
      "Epoch 103/250\n",
      "5/5 [==============================] - 0s 76ms/step - loss: 11.6853 - val_loss: 275.2871\n",
      "Epoch 104/250\n",
      "5/5 [==============================] - 0s 77ms/step - loss: 10.7025 - val_loss: 278.0059\n",
      "Epoch 105/250\n",
      "5/5 [==============================] - 0s 79ms/step - loss: 12.5738 - val_loss: 277.5854\n",
      "Epoch 106/250\n",
      "5/5 [==============================] - 0s 77ms/step - loss: 11.6762 - val_loss: 275.8496\n",
      "Epoch 107/250\n",
      "5/5 [==============================] - 0s 77ms/step - loss: 11.8593 - val_loss: 278.2871\n",
      "Epoch 108/250\n",
      "5/5 [==============================] - 0s 77ms/step - loss: 10.0042 - val_loss: 276.1881\n",
      "Epoch 109/250\n",
      "5/5 [==============================] - 0s 77ms/step - loss: 7.7431 - val_loss: 276.9754\n",
      "Epoch 110/250\n",
      "5/5 [==============================] - 0s 76ms/step - loss: 7.2497 - val_loss: 284.2834\n",
      "Epoch 111/250\n",
      "5/5 [==============================] - 0s 76ms/step - loss: 12.4030 - val_loss: 277.6566\n",
      "Epoch 112/250\n",
      "5/5 [==============================] - 0s 77ms/step - loss: 5.0002 - val_loss: 278.9881\n",
      "Epoch 113/250\n",
      "5/5 [==============================] - 0s 77ms/step - loss: 5.9342 - val_loss: 279.5206\n",
      "Epoch 114/250\n",
      "5/5 [==============================] - 0s 77ms/step - loss: 7.5847 - val_loss: 279.4114\n",
      "Epoch 115/250\n",
      "5/5 [==============================] - 0s 77ms/step - loss: 7.9749 - val_loss: 277.0406\n",
      "Epoch 116/250\n",
      "5/5 [==============================] - 0s 77ms/step - loss: 6.6401 - val_loss: 277.6659\n",
      "Epoch 117/250\n",
      "5/5 [==============================] - 0s 78ms/step - loss: 7.0858 - val_loss: 280.3267\n",
      "Epoch 118/250\n",
      "5/5 [==============================] - 0s 76ms/step - loss: 5.7400 - val_loss: 281.7895\n",
      "Epoch 119/250\n",
      "5/5 [==============================] - 0s 78ms/step - loss: 5.9990 - val_loss: 279.2672\n",
      "Epoch 120/250\n",
      "5/5 [==============================] - 0s 78ms/step - loss: 6.3806 - val_loss: 281.5990\n",
      "Epoch 121/250\n",
      "5/5 [==============================] - 0s 77ms/step - loss: 6.0966 - val_loss: 276.8203\n",
      "Epoch 122/250\n",
      "5/5 [==============================] - 0s 77ms/step - loss: 4.7099 - val_loss: 278.5645\n",
      "Epoch 123/250\n",
      "5/5 [==============================] - 0s 77ms/step - loss: 4.1003 - val_loss: 279.1063\n",
      "Epoch 124/250\n",
      "5/5 [==============================] - 0s 77ms/step - loss: 5.0385 - val_loss: 280.3748\n",
      "Epoch 125/250\n",
      "5/5 [==============================] - 0s 78ms/step - loss: 4.6731 - val_loss: 280.9861\n",
      "Epoch 126/250\n",
      "5/5 [==============================] - 0s 78ms/step - loss: 5.4876 - val_loss: 277.2792\n",
      "Epoch 127/250\n",
      "5/5 [==============================] - 0s 76ms/step - loss: 5.8504 - val_loss: 277.9240\n",
      "Epoch 128/250\n",
      "5/5 [==============================] - 0s 78ms/step - loss: 6.3569 - val_loss: 283.0517\n",
      "Epoch 129/250\n",
      "5/5 [==============================] - 0s 79ms/step - loss: 3.8947 - val_loss: 283.6797\n",
      "Epoch 130/250\n",
      "5/5 [==============================] - 0s 78ms/step - loss: 4.6324 - val_loss: 283.0181\n",
      "Epoch 131/250\n",
      "5/5 [==============================] - 0s 77ms/step - loss: 4.7062 - val_loss: 285.7307\n",
      "Epoch 132/250\n",
      "5/5 [==============================] - 0s 78ms/step - loss: 5.5765 - val_loss: 282.2823\n",
      "Epoch 133/250\n",
      "5/5 [==============================] - 0s 76ms/step - loss: 4.4523 - val_loss: 282.2121\n",
      "Epoch 134/250\n",
      "5/5 [==============================] - 0s 78ms/step - loss: 6.5348 - val_loss: 284.1735\n",
      "Epoch 135/250\n",
      "5/5 [==============================] - 0s 78ms/step - loss: 3.6795 - val_loss: 293.0923\n",
      "Epoch 136/250\n",
      "5/5 [==============================] - 0s 77ms/step - loss: 6.6837 - val_loss: 287.2827\n",
      "Epoch 137/250\n",
      "5/5 [==============================] - 0s 77ms/step - loss: 4.2851 - val_loss: 287.9677\n",
      "Epoch 138/250\n",
      "5/5 [==============================] - 0s 77ms/step - loss: 5.5197 - val_loss: 294.3216\n",
      "Epoch 139/250\n",
      "5/5 [==============================] - 0s 79ms/step - loss: 4.6956 - val_loss: 284.4353\n",
      "Epoch 140/250\n",
      "5/5 [==============================] - 0s 77ms/step - loss: 4.0045 - val_loss: 282.6726\n",
      "Epoch 141/250\n",
      "5/5 [==============================] - 0s 77ms/step - loss: 3.7041 - val_loss: 280.3636\n",
      "Epoch 142/250\n",
      "5/5 [==============================] - 0s 77ms/step - loss: 4.8399 - val_loss: 282.1593\n",
      "Epoch 143/250\n",
      "5/5 [==============================] - 0s 76ms/step - loss: 3.9692 - val_loss: 286.8561\n",
      "Epoch 144/250\n",
      "5/5 [==============================] - 0s 78ms/step - loss: 4.5348 - val_loss: 288.6255\n",
      "Epoch 145/250\n",
      "5/5 [==============================] - 0s 78ms/step - loss: 3.9943 - val_loss: 285.5988\n",
      "Epoch 146/250\n",
      "5/5 [==============================] - 0s 77ms/step - loss: 6.2684 - val_loss: 284.5328\n",
      "Epoch 147/250\n",
      "5/5 [==============================] - 0s 76ms/step - loss: 5.7168 - val_loss: 286.4505\n",
      "Epoch 148/250\n",
      "5/5 [==============================] - 0s 76ms/step - loss: 3.3743 - val_loss: 286.9556\n",
      "Epoch 149/250\n",
      "5/5 [==============================] - 0s 76ms/step - loss: 3.5034 - val_loss: 285.7914\n",
      "Epoch 150/250\n",
      "5/5 [==============================] - 0s 77ms/step - loss: 3.0850 - val_loss: 285.1952\n",
      "Epoch 151/250\n",
      "5/5 [==============================] - 0s 80ms/step - loss: 3.1328 - val_loss: 286.2051\n",
      "Epoch 152/250\n",
      "5/5 [==============================] - 0s 79ms/step - loss: 4.5967 - val_loss: 288.0890\n",
      "Epoch 153/250\n",
      "5/5 [==============================] - 0s 79ms/step - loss: 3.4996 - val_loss: 286.1771\n",
      "Epoch 154/250\n",
      "5/5 [==============================] - 0s 78ms/step - loss: 3.8781 - val_loss: 288.1570\n",
      "Epoch 155/250\n",
      "5/5 [==============================] - 0s 78ms/step - loss: 3.7440 - val_loss: 290.0826\n",
      "Epoch 156/250\n",
      "5/5 [==============================] - 0s 76ms/step - loss: 3.5961 - val_loss: 284.9930\n",
      "Epoch 157/250\n",
      "5/5 [==============================] - 0s 77ms/step - loss: 3.5689 - val_loss: 284.1126\n",
      "Epoch 158/250\n",
      "5/5 [==============================] - 0s 77ms/step - loss: 2.4904 - val_loss: 287.0294\n",
      "Epoch 159/250\n",
      "5/5 [==============================] - 0s 77ms/step - loss: 2.3874 - val_loss: 290.2784\n",
      "Epoch 160/250\n",
      "5/5 [==============================] - 0s 78ms/step - loss: 2.3817 - val_loss: 287.5302\n",
      "Epoch 161/250\n"
     ]
    },
    {
     "name": "stdout",
     "output_type": "stream",
     "text": [
      "5/5 [==============================] - 0s 78ms/step - loss: 3.3070 - val_loss: 286.4593\n",
      "Epoch 162/250\n",
      "5/5 [==============================] - 0s 79ms/step - loss: 2.8644 - val_loss: 286.7682\n",
      "Epoch 163/250\n",
      "5/5 [==============================] - 0s 77ms/step - loss: 2.1439 - val_loss: 288.2387\n",
      "Epoch 164/250\n",
      "5/5 [==============================] - 0s 77ms/step - loss: 3.2362 - val_loss: 284.7130\n",
      "Epoch 165/250\n",
      "5/5 [==============================] - 0s 79ms/step - loss: 2.7773 - val_loss: 285.6741\n",
      "Epoch 166/250\n",
      "5/5 [==============================] - 0s 77ms/step - loss: 2.2684 - val_loss: 287.0675\n",
      "Epoch 167/250\n",
      "5/5 [==============================] - 0s 77ms/step - loss: 2.9104 - val_loss: 286.8921\n",
      "Epoch 168/250\n",
      "5/5 [==============================] - 0s 76ms/step - loss: 5.1802 - val_loss: 281.4643\n",
      "Epoch 169/250\n",
      "5/5 [==============================] - 0s 78ms/step - loss: 3.9127 - val_loss: 279.8318\n",
      "Epoch 170/250\n",
      "5/5 [==============================] - 0s 78ms/step - loss: 3.2089 - val_loss: 280.6566\n",
      "Epoch 171/250\n",
      "5/5 [==============================] - 0s 78ms/step - loss: 3.8488 - val_loss: 285.3421\n",
      "Epoch 172/250\n",
      "5/5 [==============================] - 0s 77ms/step - loss: 3.2836 - val_loss: 282.0078\n",
      "Epoch 173/250\n",
      "5/5 [==============================] - 0s 76ms/step - loss: 3.2199 - val_loss: 282.9454\n",
      "Epoch 174/250\n",
      "5/5 [==============================] - 0s 77ms/step - loss: 2.7299 - val_loss: 287.9038\n",
      "Epoch 175/250\n",
      "5/5 [==============================] - 0s 76ms/step - loss: 4.3948 - val_loss: 287.6296\n",
      "Epoch 176/250\n",
      "5/5 [==============================] - 0s 77ms/step - loss: 3.8957 - val_loss: 282.7325\n",
      "Epoch 177/250\n",
      "5/5 [==============================] - 0s 77ms/step - loss: 2.9425 - val_loss: 282.5074\n",
      "Epoch 178/250\n",
      "5/5 [==============================] - 0s 78ms/step - loss: 2.8284 - val_loss: 287.7148\n",
      "Epoch 179/250\n",
      "5/5 [==============================] - 0s 77ms/step - loss: 2.6567 - val_loss: 285.2528\n",
      "Epoch 180/250\n",
      "5/5 [==============================] - 0s 77ms/step - loss: 1.8570 - val_loss: 285.4315\n",
      "Epoch 181/250\n",
      "5/5 [==============================] - 0s 77ms/step - loss: 1.6859 - val_loss: 287.6833\n",
      "Epoch 182/250\n",
      "5/5 [==============================] - 0s 78ms/step - loss: 2.6876 - val_loss: 285.6827\n",
      "Epoch 183/250\n",
      "5/5 [==============================] - 0s 77ms/step - loss: 2.4136 - val_loss: 287.2989\n",
      "Epoch 184/250\n",
      "5/5 [==============================] - 0s 79ms/step - loss: 2.3234 - val_loss: 286.3501\n",
      "Epoch 185/250\n",
      "5/5 [==============================] - 0s 76ms/step - loss: 2.3738 - val_loss: 288.5268\n",
      "Epoch 186/250\n",
      "5/5 [==============================] - 0s 77ms/step - loss: 1.6697 - val_loss: 290.1705\n",
      "Epoch 187/250\n",
      "5/5 [==============================] - 0s 78ms/step - loss: 1.8060 - val_loss: 287.7532\n",
      "Epoch 188/250\n",
      "5/5 [==============================] - 0s 78ms/step - loss: 1.4992 - val_loss: 287.2538\n",
      "Epoch 189/250\n",
      "5/5 [==============================] - 0s 77ms/step - loss: 1.3892 - val_loss: 287.5085\n",
      "Epoch 190/250\n",
      "5/5 [==============================] - 0s 76ms/step - loss: 1.4026 - val_loss: 286.2567\n",
      "Epoch 191/250\n",
      "5/5 [==============================] - 0s 78ms/step - loss: 1.7960 - val_loss: 284.8022\n",
      "Epoch 192/250\n",
      "5/5 [==============================] - 0s 78ms/step - loss: 1.0712 - val_loss: 286.9325\n",
      "Epoch 193/250\n",
      "5/5 [==============================] - 0s 78ms/step - loss: 1.9344 - val_loss: 288.0858\n",
      "Epoch 194/250\n",
      "5/5 [==============================] - 0s 77ms/step - loss: 2.7607 - val_loss: 285.4108\n",
      "Epoch 195/250\n",
      "5/5 [==============================] - 0s 78ms/step - loss: 3.6892 - val_loss: 283.8917\n",
      "Epoch 196/250\n",
      "5/5 [==============================] - 0s 79ms/step - loss: 3.1346 - val_loss: 281.9018\n",
      "Epoch 197/250\n",
      "5/5 [==============================] - 0s 77ms/step - loss: 3.0885 - val_loss: 283.5583\n",
      "Epoch 198/250\n",
      "5/5 [==============================] - 0s 78ms/step - loss: 2.6670 - val_loss: 285.2832\n",
      "Epoch 199/250\n",
      "5/5 [==============================] - 0s 79ms/step - loss: 1.8558 - val_loss: 284.3996\n",
      "Epoch 200/250\n",
      "5/5 [==============================] - 0s 76ms/step - loss: 2.4040 - val_loss: 284.8501\n",
      "Epoch 201/250\n",
      "5/5 [==============================] - 0s 78ms/step - loss: 1.6431 - val_loss: 283.4366\n",
      "Epoch 202/250\n",
      "5/5 [==============================] - 0s 77ms/step - loss: 2.0911 - val_loss: 284.0587\n",
      "Epoch 203/250\n",
      "5/5 [==============================] - 0s 77ms/step - loss: 1.8137 - val_loss: 285.1415\n",
      "Epoch 204/250\n",
      "5/5 [==============================] - 0s 77ms/step - loss: 1.5719 - val_loss: 285.6456\n",
      "Epoch 205/250\n",
      "5/5 [==============================] - 0s 77ms/step - loss: 1.8871 - val_loss: 284.6057\n",
      "Epoch 206/250\n",
      "5/5 [==============================] - 0s 77ms/step - loss: 2.5654 - val_loss: 286.6933\n",
      "Epoch 207/250\n",
      "5/5 [==============================] - 0s 79ms/step - loss: 2.1321 - val_loss: 286.8292\n",
      "Epoch 208/250\n",
      "5/5 [==============================] - 0s 77ms/step - loss: 2.8927 - val_loss: 283.4622\n",
      "Epoch 209/250\n",
      "5/5 [==============================] - 0s 77ms/step - loss: 1.2976 - val_loss: 283.6871\n",
      "Epoch 210/250\n",
      "5/5 [==============================] - 0s 78ms/step - loss: 1.2692 - val_loss: 285.4203\n",
      "Epoch 211/250\n",
      "5/5 [==============================] - 0s 77ms/step - loss: 1.9908 - val_loss: 289.2523\n",
      "Epoch 212/250\n",
      "5/5 [==============================] - 0s 77ms/step - loss: 2.2013 - val_loss: 284.7412\n",
      "Epoch 213/250\n",
      "5/5 [==============================] - 0s 79ms/step - loss: 2.2307 - val_loss: 282.2999\n",
      "Epoch 214/250\n",
      "5/5 [==============================] - 0s 77ms/step - loss: 1.5126 - val_loss: 282.6606\n",
      "Epoch 215/250\n",
      "5/5 [==============================] - 0s 77ms/step - loss: 1.2532 - val_loss: 285.4942\n",
      "Epoch 216/250\n",
      "5/5 [==============================] - 0s 77ms/step - loss: 2.0832 - val_loss: 286.8727\n",
      "Epoch 217/250\n",
      "5/5 [==============================] - 0s 77ms/step - loss: 1.3737 - val_loss: 287.2863\n",
      "Epoch 218/250\n",
      "5/5 [==============================] - 0s 78ms/step - loss: 1.4443 - val_loss: 286.3730\n",
      "Epoch 219/250\n",
      "5/5 [==============================] - 0s 78ms/step - loss: 2.1487 - val_loss: 285.8204\n",
      "Epoch 220/250\n",
      "5/5 [==============================] - 0s 78ms/step - loss: 1.3650 - val_loss: 284.2947\n",
      "Epoch 221/250\n",
      "5/5 [==============================] - 0s 80ms/step - loss: 1.1065 - val_loss: 287.3536\n",
      "Epoch 222/250\n",
      "5/5 [==============================] - 0s 77ms/step - loss: 1.9416 - val_loss: 288.2802\n",
      "Epoch 223/250\n",
      "5/5 [==============================] - 0s 76ms/step - loss: 1.6894 - val_loss: 287.5799\n",
      "Epoch 224/250\n",
      "5/5 [==============================] - 0s 79ms/step - loss: 1.5739 - val_loss: 283.8112\n",
      "Epoch 225/250\n",
      "5/5 [==============================] - 0s 78ms/step - loss: 1.3119 - val_loss: 284.6113\n",
      "Epoch 226/250\n",
      "5/5 [==============================] - 0s 77ms/step - loss: 1.0558 - val_loss: 285.5711\n",
      "Epoch 227/250\n",
      "5/5 [==============================] - 0s 77ms/step - loss: 1.2073 - val_loss: 285.1110\n",
      "Epoch 228/250\n",
      "5/5 [==============================] - 0s 76ms/step - loss: 1.1166 - val_loss: 285.5985\n",
      "Epoch 229/250\n",
      "5/5 [==============================] - 0s 78ms/step - loss: 1.5482 - val_loss: 283.9565\n",
      "Epoch 230/250\n",
      "5/5 [==============================] - 0s 79ms/step - loss: 1.3450 - val_loss: 284.7217\n",
      "Epoch 231/250\n",
      "5/5 [==============================] - 0s 78ms/step - loss: 1.3933 - val_loss: 286.0613\n",
      "Epoch 232/250\n",
      "5/5 [==============================] - 0s 78ms/step - loss: 1.0789 - val_loss: 288.0668\n",
      "Epoch 233/250\n",
      "5/5 [==============================] - 0s 77ms/step - loss: 1.2532 - val_loss: 288.4873\n",
      "Epoch 234/250\n",
      "5/5 [==============================] - 0s 79ms/step - loss: 1.4468 - val_loss: 288.0102\n",
      "Epoch 235/250\n",
      "5/5 [==============================] - 0s 78ms/step - loss: 1.0818 - val_loss: 289.1510\n",
      "Epoch 236/250\n",
      "5/5 [==============================] - 0s 77ms/step - loss: 1.4960 - val_loss: 289.5731\n",
      "Epoch 237/250\n",
      "5/5 [==============================] - 0s 78ms/step - loss: 2.0335 - val_loss: 289.8777\n",
      "Epoch 238/250\n",
      "5/5 [==============================] - 0s 78ms/step - loss: 1.4805 - val_loss: 287.6800\n",
      "Epoch 239/250\n",
      "5/5 [==============================] - 0s 77ms/step - loss: 1.9644 - val_loss: 287.1420\n",
      "Epoch 240/250\n",
      "5/5 [==============================] - 0s 79ms/step - loss: 1.3707 - val_loss: 287.1103\n",
      "Epoch 241/250\n"
     ]
    },
    {
     "name": "stdout",
     "output_type": "stream",
     "text": [
      "5/5 [==============================] - 0s 77ms/step - loss: 1.6778 - val_loss: 288.5788\n",
      "Epoch 242/250\n",
      "5/5 [==============================] - 0s 77ms/step - loss: 1.1857 - val_loss: 288.1480\n",
      "Epoch 243/250\n",
      "5/5 [==============================] - 0s 79ms/step - loss: 1.4455 - val_loss: 288.6842\n",
      "Epoch 244/250\n",
      "5/5 [==============================] - 0s 78ms/step - loss: 0.9324 - val_loss: 287.9655\n",
      "Epoch 245/250\n",
      "5/5 [==============================] - 0s 77ms/step - loss: 1.7343 - val_loss: 286.2178\n",
      "Epoch 246/250\n",
      "5/5 [==============================] - 0s 77ms/step - loss: 1.0801 - val_loss: 284.4346\n",
      "Epoch 247/250\n",
      "5/5 [==============================] - 0s 78ms/step - loss: 1.3774 - val_loss: 287.3799\n",
      "Epoch 248/250\n",
      "5/5 [==============================] - 0s 78ms/step - loss: 1.3007 - val_loss: 287.6403\n",
      "Epoch 249/250\n",
      "5/5 [==============================] - 0s 78ms/step - loss: 1.4760 - val_loss: 285.9500\n",
      "Epoch 250/250\n",
      "5/5 [==============================] - 0s 78ms/step - loss: 1.1442 - val_loss: 284.8315\n"
     ]
    }
   ],
   "source": [
    "history = model_age.fit(X_train, y3_train, epochs = 250, batch_size = 32, validation_data = (X_test, y3_test))"
   ]
  },
  {
   "cell_type": "code",
   "execution_count": 62,
   "id": "7ecd87a2",
   "metadata": {},
   "outputs": [
    {
     "name": "stdout",
     "output_type": "stream",
     "text": [
      "WARNING:tensorflow:Using a while_loop for converting RngReadAndSkip cause there is no registered converter for this op.\n"
     ]
    },
    {
     "name": "stderr",
     "output_type": "stream",
     "text": [
      "WARNING:tensorflow:Using a while_loop for converting RngReadAndSkip cause there is no registered converter for this op.\n"
     ]
    },
    {
     "name": "stdout",
     "output_type": "stream",
     "text": [
      "WARNING:tensorflow:Using a while_loop for converting Bitcast cause there is no registered converter for this op.\n"
     ]
    },
    {
     "name": "stderr",
     "output_type": "stream",
     "text": [
      "WARNING:tensorflow:Using a while_loop for converting Bitcast cause there is no registered converter for this op.\n"
     ]
    },
    {
     "name": "stdout",
     "output_type": "stream",
     "text": [
      "WARNING:tensorflow:Using a while_loop for converting Bitcast cause there is no registered converter for this op.\n"
     ]
    },
    {
     "name": "stderr",
     "output_type": "stream",
     "text": [
      "WARNING:tensorflow:Using a while_loop for converting Bitcast cause there is no registered converter for this op.\n"
     ]
    },
    {
     "name": "stdout",
     "output_type": "stream",
     "text": [
      "WARNING:tensorflow:Using a while_loop for converting StatelessRandomUniformV2 cause there is no registered converter for this op.\n"
     ]
    },
    {
     "name": "stderr",
     "output_type": "stream",
     "text": [
      "WARNING:tensorflow:Using a while_loop for converting StatelessRandomUniformV2 cause there is no registered converter for this op.\n"
     ]
    },
    {
     "name": "stdout",
     "output_type": "stream",
     "text": [
      "WARNING:tensorflow:Using a while_loop for converting ImageProjectiveTransformV3 cause there is no registered converter for this op.\n"
     ]
    },
    {
     "name": "stderr",
     "output_type": "stream",
     "text": [
      "WARNING:tensorflow:Using a while_loop for converting ImageProjectiveTransformV3 cause there is no registered converter for this op.\n"
     ]
    },
    {
     "name": "stdout",
     "output_type": "stream",
     "text": [
      "WARNING:tensorflow:Using a while_loop for converting RngReadAndSkip cause there is no registered converter for this op.\n"
     ]
    },
    {
     "name": "stderr",
     "output_type": "stream",
     "text": [
      "WARNING:tensorflow:Using a while_loop for converting RngReadAndSkip cause there is no registered converter for this op.\n"
     ]
    },
    {
     "name": "stdout",
     "output_type": "stream",
     "text": [
      "WARNING:tensorflow:Using a while_loop for converting Bitcast cause there is no registered converter for this op.\n"
     ]
    },
    {
     "name": "stderr",
     "output_type": "stream",
     "text": [
      "WARNING:tensorflow:Using a while_loop for converting Bitcast cause there is no registered converter for this op.\n"
     ]
    },
    {
     "name": "stdout",
     "output_type": "stream",
     "text": [
      "WARNING:tensorflow:Using a while_loop for converting Bitcast cause there is no registered converter for this op.\n"
     ]
    },
    {
     "name": "stderr",
     "output_type": "stream",
     "text": [
      "WARNING:tensorflow:Using a while_loop for converting Bitcast cause there is no registered converter for this op.\n"
     ]
    },
    {
     "name": "stdout",
     "output_type": "stream",
     "text": [
      "WARNING:tensorflow:Using a while_loop for converting StatelessRandomUniformV2 cause there is no registered converter for this op.\n"
     ]
    },
    {
     "name": "stderr",
     "output_type": "stream",
     "text": [
      "WARNING:tensorflow:Using a while_loop for converting StatelessRandomUniformV2 cause there is no registered converter for this op.\n"
     ]
    },
    {
     "name": "stdout",
     "output_type": "stream",
     "text": [
      "WARNING:tensorflow:Using a while_loop for converting ImageProjectiveTransformV3 cause there is no registered converter for this op.\n"
     ]
    },
    {
     "name": "stderr",
     "output_type": "stream",
     "text": [
      "WARNING:tensorflow:Using a while_loop for converting ImageProjectiveTransformV3 cause there is no registered converter for this op.\n"
     ]
    },
    {
     "name": "stdout",
     "output_type": "stream",
     "text": [
      "WARNING:tensorflow:Using a while_loop for converting RngReadAndSkip cause there is no registered converter for this op.\n"
     ]
    },
    {
     "name": "stderr",
     "output_type": "stream",
     "text": [
      "WARNING:tensorflow:Using a while_loop for converting RngReadAndSkip cause there is no registered converter for this op.\n"
     ]
    },
    {
     "name": "stdout",
     "output_type": "stream",
     "text": [
      "WARNING:tensorflow:Using a while_loop for converting Bitcast cause there is no registered converter for this op.\n"
     ]
    },
    {
     "name": "stderr",
     "output_type": "stream",
     "text": [
      "WARNING:tensorflow:Using a while_loop for converting Bitcast cause there is no registered converter for this op.\n"
     ]
    },
    {
     "name": "stdout",
     "output_type": "stream",
     "text": [
      "WARNING:tensorflow:Using a while_loop for converting Bitcast cause there is no registered converter for this op.\n"
     ]
    },
    {
     "name": "stderr",
     "output_type": "stream",
     "text": [
      "WARNING:tensorflow:Using a while_loop for converting Bitcast cause there is no registered converter for this op.\n"
     ]
    },
    {
     "name": "stdout",
     "output_type": "stream",
     "text": [
      "WARNING:tensorflow:Using a while_loop for converting StatelessRandomUniformV2 cause there is no registered converter for this op.\n"
     ]
    },
    {
     "name": "stderr",
     "output_type": "stream",
     "text": [
      "WARNING:tensorflow:Using a while_loop for converting StatelessRandomUniformV2 cause there is no registered converter for this op.\n"
     ]
    },
    {
     "name": "stdout",
     "output_type": "stream",
     "text": [
      "WARNING:tensorflow:Using a while_loop for converting ImageProjectiveTransformV3 cause there is no registered converter for this op.\n"
     ]
    },
    {
     "name": "stderr",
     "output_type": "stream",
     "text": [
      "WARNING:tensorflow:Using a while_loop for converting ImageProjectiveTransformV3 cause there is no registered converter for this op.\n",
      "WARNING:absl:Found untraced functions such as _jit_compiled_convolution_op, _jit_compiled_convolution_op, _jit_compiled_convolution_op, _jit_compiled_convolution_op, _jit_compiled_convolution_op while saving (showing 5 of 6). These functions will not be directly callable after loading.\n"
     ]
    },
    {
     "name": "stdout",
     "output_type": "stream",
     "text": [
      "INFO:tensorflow:Assets written to: model_results/nn_age_model/assets\n"
     ]
    },
    {
     "name": "stderr",
     "output_type": "stream",
     "text": [
      "INFO:tensorflow:Assets written to: model_results/nn_age_model/assets\n"
     ]
    }
   ],
   "source": [
    "model_age.save(\"model_results/nn_age_model\")"
   ]
  },
  {
   "cell_type": "code",
   "execution_count": 63,
   "id": "86c94c9f",
   "metadata": {},
   "outputs": [
    {
     "data": {
      "image/png": "[encoded data removed]",
      "text/plain": [
       "<Figure size 640x480 with 1 Axes>"
      ]
     },
     "metadata": {},
     "output_type": "display_data"
    }
   ],
   "source": [
    "import matplotlib.pyplot as plt\n",
    "\n",
    "plt.plot(history.history['loss'], color = 'red', label ='train')\n",
    "plt.plot(history.history['val_loss'], color = 'blue', label ='validation')\n",
    "plt.legend()\n",
    "plt.show()"
   ]
  },
  {
   "cell_type": "markdown",
   "id": "b12ae891",
   "metadata": {},
   "source": [
    "# Expression classifier"
   ]
  },
  {
   "cell_type": "code",
   "execution_count": 64,
   "id": "ab52bb09",
   "metadata": {},
   "outputs": [],
   "source": [
    "inputs = tf.keras.layers.Input(shape = (224,224,3))\n",
    "\n",
    "x = Conv2D(8, 3, strides = 1,  padding = \"valid\", activation = \"relu\")(inputs)\n",
    "x = MaxPooling2D(2, strides = 2, padding = \"valid\")(x)\n",
    "x = Conv2D(16, 3, strides = 2,  padding = \"valid\", activation = \"relu\")(x)\n",
    "x = MaxPooling2D(2, strides = 2, padding = \"valid\")(x)\n",
    "x = Conv2D(32, 3, strides = 2,  padding = \"valid\", activation = \"relu\")(x)\n",
    "x = Conv2D(64, 3, strides = 1,  padding = \"valid\", activation = \"relu\")(x)\n",
    "x = Conv2D(128, 3, strides = 1,  padding = \"valid\", activation = \"relu\")(x)\n",
    "\n",
    "x = GlobalAveragePooling2D()(x)\n",
    "x = tf.keras.layers.Dense(256, activation = \"relu\")(x)\n",
    "x = tf.keras.layers.Dense(128, activation = \"relu\")(x)\n",
    "x = tf.keras.layers.Dense(3, activation = \"softmax\")(x)\n",
    "model_expression = Model(inputs = inputs, outputs = x)"
   ]
  },
  {
   "cell_type": "code",
   "execution_count": 65,
   "id": "0822518d",
   "metadata": {},
   "outputs": [],
   "source": [
    "model_expression.compile(optimizer = tf.keras.optimizers.Adam(0.00001), loss =  \"sparse_categorical_crossentropy\", metrics = [\"accuracy\"])"
   ]
  },
  {
   "cell_type": "code",
   "execution_count": 66,
   "id": "074c3a9e",
   "metadata": {},
   "outputs": [],
   "source": [
    "my_callback = tf.keras.callbacks.ModelCheckpoint(\n",
    "    \"model_results/nn_expression_model\",\n",
    "    monitor= \"val_accuracy\",\n",
    "    verbose = 0,\n",
    "    save_best_only =  True,\n",
    "    save_weights_only = False,\n",
    "    mode = \"auto\",\n",
    "    save_freq=\"epoch\"\n",
    ")\n",
    "\n",
    "\n",
    "cbacks = [my_callback]"
   ]
  },
  {
   "cell_type": "code",
   "execution_count": 68,
   "id": "9c55dd47",
   "metadata": {},
   "outputs": [
    {
     "name": "stdout",
     "output_type": "stream",
     "text": [
      "Epoch 1/100\n",
      "5/5 [==============================] - 0s 27ms/step - loss: 0.4908 - accuracy: 0.7857 - val_loss: 0.6904 - val_accuracy: 0.6667\n",
      "Epoch 2/100\n",
      "5/5 [==============================] - 0s 20ms/step - loss: 0.4876 - accuracy: 0.8143 - val_loss: 0.6960 - val_accuracy: 0.6167\n",
      "Epoch 3/100\n",
      "5/5 [==============================] - 0s 19ms/step - loss: 0.4940 - accuracy: 0.8143 - val_loss: 0.6966 - val_accuracy: 0.6167\n",
      "Epoch 4/100\n",
      "5/5 [==============================] - 0s 19ms/step - loss: 0.5112 - accuracy: 0.7643 - val_loss: 0.6905 - val_accuracy: 0.6500\n",
      "Epoch 5/100\n",
      "5/5 [==============================] - 0s 19ms/step - loss: 0.5017 - accuracy: 0.7929 - val_loss: 0.7317 - val_accuracy: 0.5500\n",
      "Epoch 6/100\n",
      "5/5 [==============================] - 0s 19ms/step - loss: 0.4962 - accuracy: 0.8429 - val_loss: 0.6864 - val_accuracy: 0.6500\n",
      "Epoch 7/100\n",
      "5/5 [==============================] - 0s 19ms/step - loss: 0.4898 - accuracy: 0.7571 - val_loss: 0.6873 - val_accuracy: 0.6500\n",
      "Epoch 8/100\n",
      "5/5 [==============================] - 0s 19ms/step - loss: 0.4852 - accuracy: 0.7929 - val_loss: 0.7046 - val_accuracy: 0.6167\n",
      "Epoch 9/100\n",
      "5/5 [==============================] - 0s 20ms/step - loss: 0.4877 - accuracy: 0.8214 - val_loss: 0.6873 - val_accuracy: 0.6667\n",
      "Epoch 10/100\n",
      "5/5 [==============================] - 0s 21ms/step - loss: 0.4797 - accuracy: 0.8357 - val_loss: 0.6980 - val_accuracy: 0.6167\n",
      "Epoch 11/100\n",
      "5/5 [==============================] - 0s 19ms/step - loss: 0.4891 - accuracy: 0.8357 - val_loss: 0.6950 - val_accuracy: 0.6333\n",
      "Epoch 12/100\n",
      "5/5 [==============================] - 0s 20ms/step - loss: 0.4785 - accuracy: 0.8357 - val_loss: 0.6859 - val_accuracy: 0.6500\n",
      "Epoch 13/100\n",
      "5/5 [==============================] - 0s 19ms/step - loss: 0.4794 - accuracy: 0.8214 - val_loss: 0.6878 - val_accuracy: 0.6333\n",
      "Epoch 14/100\n",
      "5/5 [==============================] - 0s 19ms/step - loss: 0.4788 - accuracy: 0.8214 - val_loss: 0.6888 - val_accuracy: 0.6500\n",
      "Epoch 15/100\n",
      "5/5 [==============================] - 0s 19ms/step - loss: 0.4837 - accuracy: 0.8214 - val_loss: 0.6996 - val_accuracy: 0.6167\n",
      "Epoch 16/100\n",
      "5/5 [==============================] - 0s 20ms/step - loss: 0.4722 - accuracy: 0.8500 - val_loss: 0.6865 - val_accuracy: 0.6667\n",
      "Epoch 17/100\n",
      "5/5 [==============================] - 0s 20ms/step - loss: 0.4796 - accuracy: 0.7857 - val_loss: 0.6881 - val_accuracy: 0.6500\n",
      "Epoch 18/100\n",
      "5/5 [==============================] - 0s 19ms/step - loss: 0.4833 - accuracy: 0.8214 - val_loss: 0.7024 - val_accuracy: 0.6167\n",
      "Epoch 19/100\n",
      "5/5 [==============================] - 0s 19ms/step - loss: 0.4805 - accuracy: 0.8000 - val_loss: 0.6857 - val_accuracy: 0.6667\n",
      "Epoch 20/100\n",
      "5/5 [==============================] - 0s 19ms/step - loss: 0.4772 - accuracy: 0.8000 - val_loss: 0.6884 - val_accuracy: 0.6667\n",
      "Epoch 21/100\n",
      "5/5 [==============================] - 0s 20ms/step - loss: 0.4708 - accuracy: 0.8000 - val_loss: 0.6862 - val_accuracy: 0.6500\n",
      "Epoch 22/100\n",
      "5/5 [==============================] - 0s 18ms/step - loss: 0.4724 - accuracy: 0.8357 - val_loss: 0.6888 - val_accuracy: 0.6667\n",
      "Epoch 23/100\n",
      "5/5 [==============================] - 0s 19ms/step - loss: 0.4722 - accuracy: 0.8000 - val_loss: 0.6881 - val_accuracy: 0.6667\n",
      "Epoch 24/100\n",
      "5/5 [==============================] - 0s 19ms/step - loss: 0.4761 - accuracy: 0.8571 - val_loss: 0.7088 - val_accuracy: 0.6167\n",
      "Epoch 25/100\n",
      "5/5 [==============================] - 0s 19ms/step - loss: 0.4690 - accuracy: 0.8357 - val_loss: 0.6875 - val_accuracy: 0.6667\n",
      "Epoch 26/100\n",
      "5/5 [==============================] - 0s 19ms/step - loss: 0.4706 - accuracy: 0.7929 - val_loss: 0.6898 - val_accuracy: 0.6833\n",
      "Epoch 27/100\n",
      "5/5 [==============================] - 0s 20ms/step - loss: 0.4834 - accuracy: 0.8429 - val_loss: 0.6893 - val_accuracy: 0.6333\n",
      "Epoch 28/100\n",
      "5/5 [==============================] - 0s 19ms/step - loss: 0.4622 - accuracy: 0.7786 - val_loss: 0.6898 - val_accuracy: 0.6667\n",
      "Epoch 29/100\n",
      "5/5 [==============================] - 0s 19ms/step - loss: 0.4785 - accuracy: 0.7786 - val_loss: 0.6941 - val_accuracy: 0.6333\n",
      "Epoch 30/100\n",
      "5/5 [==============================] - 0s 19ms/step - loss: 0.4651 - accuracy: 0.8643 - val_loss: 0.6922 - val_accuracy: 0.6167\n",
      "Epoch 31/100\n",
      "5/5 [==============================] - 0s 18ms/step - loss: 0.4638 - accuracy: 0.8286 - val_loss: 0.6816 - val_accuracy: 0.6333\n",
      "Epoch 32/100\n",
      "5/5 [==============================] - 0s 18ms/step - loss: 0.4673 - accuracy: 0.8143 - val_loss: 0.6851 - val_accuracy: 0.6833\n",
      "Epoch 33/100\n",
      "5/5 [==============================] - 0s 19ms/step - loss: 0.4692 - accuracy: 0.7786 - val_loss: 0.6820 - val_accuracy: 0.6333\n",
      "Epoch 34/100\n",
      "5/5 [==============================] - 0s 20ms/step - loss: 0.4631 - accuracy: 0.8357 - val_loss: 0.7017 - val_accuracy: 0.6167\n",
      "Epoch 35/100\n",
      "5/5 [==============================] - 0s 19ms/step - loss: 0.4634 - accuracy: 0.8643 - val_loss: 0.6819 - val_accuracy: 0.6667\n",
      "Epoch 36/100\n",
      "5/5 [==============================] - 0s 20ms/step - loss: 0.4575 - accuracy: 0.8286 - val_loss: 0.6868 - val_accuracy: 0.6667\n",
      "Epoch 37/100\n",
      "5/5 [==============================] - 0s 18ms/step - loss: 0.4693 - accuracy: 0.8571 - val_loss: 0.6850 - val_accuracy: 0.6667\n",
      "Epoch 38/100\n",
      "5/5 [==============================] - 0s 19ms/step - loss: 0.4773 - accuracy: 0.7857 - val_loss: 0.6862 - val_accuracy: 0.6833\n",
      "Epoch 39/100\n",
      "5/5 [==============================] - 0s 19ms/step - loss: 0.4513 - accuracy: 0.8214 - val_loss: 0.7221 - val_accuracy: 0.5667\n",
      "Epoch 40/100\n",
      "5/5 [==============================] - 0s 19ms/step - loss: 0.4747 - accuracy: 0.8643 - val_loss: 0.6961 - val_accuracy: 0.6167\n",
      "Epoch 41/100\n",
      "5/5 [==============================] - 0s 19ms/step - loss: 0.4561 - accuracy: 0.8714 - val_loss: 0.6846 - val_accuracy: 0.6833\n",
      "Epoch 42/100\n",
      "5/5 [==============================] - 0s 19ms/step - loss: 0.4593 - accuracy: 0.7929 - val_loss: 0.6853 - val_accuracy: 0.6833\n",
      "Epoch 43/100\n",
      "5/5 [==============================] - 0s 19ms/step - loss: 0.4542 - accuracy: 0.8571 - val_loss: 0.7032 - val_accuracy: 0.6167\n",
      "Epoch 44/100\n",
      "5/5 [==============================] - 0s 20ms/step - loss: 0.4499 - accuracy: 0.8786 - val_loss: 0.6809 - val_accuracy: 0.6667\n",
      "Epoch 45/100\n",
      "5/5 [==============================] - 0s 20ms/step - loss: 0.4542 - accuracy: 0.8000 - val_loss: 0.6824 - val_accuracy: 0.6833\n",
      "Epoch 46/100\n",
      "5/5 [==============================] - 0s 18ms/step - loss: 0.4563 - accuracy: 0.8500 - val_loss: 0.7057 - val_accuracy: 0.6167\n",
      "Epoch 47/100\n",
      "5/5 [==============================] - 0s 19ms/step - loss: 0.4506 - accuracy: 0.8714 - val_loss: 0.6914 - val_accuracy: 0.6667\n",
      "Epoch 48/100\n",
      "5/5 [==============================] - 0s 20ms/step - loss: 0.4490 - accuracy: 0.8429 - val_loss: 0.6919 - val_accuracy: 0.6833\n",
      "Epoch 49/100\n",
      "5/5 [==============================] - 0s 19ms/step - loss: 0.4553 - accuracy: 0.8643 - val_loss: 0.7027 - val_accuracy: 0.6333\n",
      "Epoch 50/100\n",
      "5/5 [==============================] - 0s 19ms/step - loss: 0.4414 - accuracy: 0.8571 - val_loss: 0.6893 - val_accuracy: 0.7000\n",
      "Epoch 51/100\n",
      "5/5 [==============================] - 0s 20ms/step - loss: 0.4539 - accuracy: 0.7857 - val_loss: 0.6890 - val_accuracy: 0.6500\n",
      "Epoch 52/100\n",
      "5/5 [==============================] - 0s 18ms/step - loss: 0.4522 - accuracy: 0.8714 - val_loss: 0.7253 - val_accuracy: 0.5833\n",
      "Epoch 53/100\n",
      "5/5 [==============================] - 0s 20ms/step - loss: 0.4521 - accuracy: 0.8571 - val_loss: 0.6926 - val_accuracy: 0.6500\n",
      "Epoch 54/100\n",
      "5/5 [==============================] - 0s 19ms/step - loss: 0.4410 - accuracy: 0.8286 - val_loss: 0.6955 - val_accuracy: 0.6500\n",
      "Epoch 55/100\n",
      "5/5 [==============================] - 0s 20ms/step - loss: 0.4388 - accuracy: 0.8429 - val_loss: 0.7029 - val_accuracy: 0.6333\n",
      "Epoch 56/100\n",
      "5/5 [==============================] - 0s 18ms/step - loss: 0.4474 - accuracy: 0.8929 - val_loss: 0.7091 - val_accuracy: 0.6167\n",
      "Epoch 57/100\n",
      "5/5 [==============================] - 0s 19ms/step - loss: 0.4370 - accuracy: 0.8643 - val_loss: 0.6962 - val_accuracy: 0.6500\n",
      "Epoch 58/100\n",
      "5/5 [==============================] - 0s 18ms/step - loss: 0.4439 - accuracy: 0.7857 - val_loss: 0.6977 - val_accuracy: 0.6333\n",
      "Epoch 59/100\n"
     ]
    },
    {
     "name": "stdout",
     "output_type": "stream",
     "text": [
      "5/5 [==============================] - 0s 19ms/step - loss: 0.4530 - accuracy: 0.8643 - val_loss: 0.7120 - val_accuracy: 0.6167\n",
      "Epoch 60/100\n",
      "5/5 [==============================] - 0s 19ms/step - loss: 0.4404 - accuracy: 0.8214 - val_loss: 0.6978 - val_accuracy: 0.6833\n",
      "Epoch 61/100\n",
      "5/5 [==============================] - 0s 19ms/step - loss: 0.4444 - accuracy: 0.8500 - val_loss: 0.7037 - val_accuracy: 0.6333\n",
      "Epoch 62/100\n",
      "5/5 [==============================] - 0s 18ms/step - loss: 0.4359 - accuracy: 0.8714 - val_loss: 0.6953 - val_accuracy: 0.6500\n",
      "Epoch 63/100\n",
      "5/5 [==============================] - 0s 19ms/step - loss: 0.4349 - accuracy: 0.8571 - val_loss: 0.6954 - val_accuracy: 0.6667\n",
      "Epoch 64/100\n",
      "5/5 [==============================] - 0s 18ms/step - loss: 0.4344 - accuracy: 0.8786 - val_loss: 0.6980 - val_accuracy: 0.6500\n",
      "Epoch 65/100\n",
      "5/5 [==============================] - 0s 19ms/step - loss: 0.4287 - accuracy: 0.8571 - val_loss: 0.6923 - val_accuracy: 0.6500\n",
      "Epoch 66/100\n",
      "5/5 [==============================] - 0s 20ms/step - loss: 0.4312 - accuracy: 0.8357 - val_loss: 0.7051 - val_accuracy: 0.6167\n",
      "Epoch 67/100\n",
      "5/5 [==============================] - 0s 18ms/step - loss: 0.4309 - accuracy: 0.8857 - val_loss: 0.7000 - val_accuracy: 0.6667\n",
      "Epoch 68/100\n",
      "5/5 [==============================] - 0s 18ms/step - loss: 0.4320 - accuracy: 0.8500 - val_loss: 0.6945 - val_accuracy: 0.6667\n",
      "Epoch 69/100\n",
      "5/5 [==============================] - 0s 20ms/step - loss: 0.4467 - accuracy: 0.8786 - val_loss: 0.7126 - val_accuracy: 0.6167\n",
      "Epoch 70/100\n",
      "5/5 [==============================] - 0s 20ms/step - loss: 0.4230 - accuracy: 0.8929 - val_loss: 0.6991 - val_accuracy: 0.6833\n",
      "Epoch 71/100\n",
      "5/5 [==============================] - 0s 19ms/step - loss: 0.4317 - accuracy: 0.8214 - val_loss: 0.7002 - val_accuracy: 0.6333\n",
      "Epoch 72/100\n",
      "5/5 [==============================] - 0s 19ms/step - loss: 0.4221 - accuracy: 0.8714 - val_loss: 0.7151 - val_accuracy: 0.6167\n",
      "Epoch 73/100\n",
      "5/5 [==============================] - 0s 19ms/step - loss: 0.4260 - accuracy: 0.8929 - val_loss: 0.7013 - val_accuracy: 0.6500\n",
      "Epoch 74/100\n",
      "5/5 [==============================] - 0s 19ms/step - loss: 0.4375 - accuracy: 0.7714 - val_loss: 0.7024 - val_accuracy: 0.6667\n",
      "Epoch 75/100\n",
      "5/5 [==============================] - 0s 20ms/step - loss: 0.4429 - accuracy: 0.8571 - val_loss: 0.7540 - val_accuracy: 0.5333\n",
      "Epoch 76/100\n",
      "5/5 [==============================] - 0s 19ms/step - loss: 0.4389 - accuracy: 0.8571 - val_loss: 0.7110 - val_accuracy: 0.6667\n",
      "Epoch 77/100\n",
      "5/5 [==============================] - 0s 20ms/step - loss: 0.4403 - accuracy: 0.7714 - val_loss: 0.7029 - val_accuracy: 0.6500\n",
      "Epoch 78/100\n",
      "5/5 [==============================] - 0s 19ms/step - loss: 0.4266 - accuracy: 0.8714 - val_loss: 0.7110 - val_accuracy: 0.6333\n",
      "Epoch 79/100\n",
      "5/5 [==============================] - 0s 19ms/step - loss: 0.4348 - accuracy: 0.8214 - val_loss: 0.6967 - val_accuracy: 0.7000\n",
      "Epoch 80/100\n",
      "5/5 [==============================] - 0s 19ms/step - loss: 0.4316 - accuracy: 0.8500 - val_loss: 0.7171 - val_accuracy: 0.6000\n",
      "Epoch 81/100\n",
      "5/5 [==============================] - 0s 20ms/step - loss: 0.4204 - accuracy: 0.8786 - val_loss: 0.6921 - val_accuracy: 0.6833\n",
      "Epoch 82/100\n",
      "5/5 [==============================] - 0s 21ms/step - loss: 0.4255 - accuracy: 0.8071 - val_loss: 0.6949 - val_accuracy: 0.6500\n",
      "Epoch 83/100\n",
      "5/5 [==============================] - 0s 19ms/step - loss: 0.4125 - accuracy: 0.8571 - val_loss: 0.7178 - val_accuracy: 0.5833\n",
      "Epoch 84/100\n",
      "5/5 [==============================] - 0s 18ms/step - loss: 0.4326 - accuracy: 0.8857 - val_loss: 0.7183 - val_accuracy: 0.6000\n",
      "Epoch 85/100\n",
      "5/5 [==============================] - 0s 19ms/step - loss: 0.4143 - accuracy: 0.8857 - val_loss: 0.7024 - val_accuracy: 0.6667\n",
      "Epoch 86/100\n",
      "5/5 [==============================] - 0s 19ms/step - loss: 0.4113 - accuracy: 0.8571 - val_loss: 0.7111 - val_accuracy: 0.6500\n",
      "Epoch 87/100\n",
      "5/5 [==============================] - 0s 18ms/step - loss: 0.4130 - accuracy: 0.9000 - val_loss: 0.7150 - val_accuracy: 0.6333\n",
      "Epoch 88/100\n",
      "5/5 [==============================] - 0s 19ms/step - loss: 0.4132 - accuracy: 0.9000 - val_loss: 0.7078 - val_accuracy: 0.6333\n",
      "Epoch 89/100\n",
      "5/5 [==============================] - 0s 19ms/step - loss: 0.4087 - accuracy: 0.8929 - val_loss: 0.7035 - val_accuracy: 0.6333\n",
      "Epoch 90/100\n",
      "5/5 [==============================] - 0s 19ms/step - loss: 0.4177 - accuracy: 0.8571 - val_loss: 0.7056 - val_accuracy: 0.6333\n",
      "Epoch 91/100\n",
      "5/5 [==============================] - 0s 19ms/step - loss: 0.4151 - accuracy: 0.8786 - val_loss: 0.7206 - val_accuracy: 0.6000\n",
      "Epoch 92/100\n",
      "5/5 [==============================] - 0s 19ms/step - loss: 0.4097 - accuracy: 0.8857 - val_loss: 0.7057 - val_accuracy: 0.6667\n",
      "Epoch 93/100\n",
      "5/5 [==============================] - 0s 21ms/step - loss: 0.4109 - accuracy: 0.8500 - val_loss: 0.7146 - val_accuracy: 0.6500\n",
      "Epoch 94/100\n",
      "5/5 [==============================] - 0s 19ms/step - loss: 0.4058 - accuracy: 0.9000 - val_loss: 0.7137 - val_accuracy: 0.6333\n",
      "Epoch 95/100\n",
      "5/5 [==============================] - 0s 19ms/step - loss: 0.4055 - accuracy: 0.9000 - val_loss: 0.7126 - val_accuracy: 0.6333\n",
      "Epoch 96/100\n",
      "5/5 [==============================] - 0s 19ms/step - loss: 0.4036 - accuracy: 0.8929 - val_loss: 0.7153 - val_accuracy: 0.6333\n",
      "Epoch 97/100\n",
      "5/5 [==============================] - 0s 19ms/step - loss: 0.4082 - accuracy: 0.9000 - val_loss: 0.7058 - val_accuracy: 0.6500\n",
      "Epoch 98/100\n",
      "5/5 [==============================] - 0s 18ms/step - loss: 0.4156 - accuracy: 0.8571 - val_loss: 0.7035 - val_accuracy: 0.6500\n",
      "Epoch 99/100\n",
      "5/5 [==============================] - 0s 19ms/step - loss: 0.4030 - accuracy: 0.9000 - val_loss: 0.7365 - val_accuracy: 0.5667\n",
      "Epoch 100/100\n",
      "5/5 [==============================] - 0s 17ms/step - loss: 0.4072 - accuracy: 0.9000 - val_loss: 0.7070 - val_accuracy: 0.6667\n"
     ]
    }
   ],
   "source": [
    "history = model_expression.fit(X_train, y2_train_encoded, epochs = 100, batch_size = 32, validation_data = (X_test, y2_test_encoded), callbacks = cbacks)"
   ]
  },
  {
   "cell_type": "code",
   "execution_count": 69,
   "id": "5d7303d4",
   "metadata": {},
   "outputs": [
    {
     "name": "stderr",
     "output_type": "stream",
     "text": [
      "2023-06-22 12:13:34.643544: W tensorflow/core/util/tensor_slice_reader.cc:96] Could not open model_results/nn_expression_model: FAILED_PRECONDITION: model_results/nn_expression_model; Is a directory: perhaps your file is in a different file format and you need to use a different restore operator?\n"
     ]
    },
    {
     "data": {
      "text/plain": [
       "<tensorflow.python.checkpoint.checkpoint.CheckpointLoadStatus at 0x7fa41040e880>"
      ]
     },
     "execution_count": 69,
     "metadata": {},
     "output_type": "execute_result"
    }
   ],
   "source": [
    "model_expression.load_weights(\"model_results/nn_expression_model\")"
   ]
  },
  {
   "cell_type": "code",
   "execution_count": 70,
   "id": "3f5b6fa7",
   "metadata": {},
   "outputs": [
    {
     "data": {
      "image/png": "[encoded data removed]",
      "text/plain": [
       "<Figure size 640x480 with 1 Axes>"
      ]
     },
     "metadata": {},
     "output_type": "display_data"
    }
   ],
   "source": [
    "import matplotlib.pyplot as plt\n",
    "\n",
    "plt.plot(history.history['accuracy'], color = 'red', label ='accuracy')\n",
    "plt.plot(history.history['val_accuracy'], color = 'blue', label ='val_accuracy')\n",
    "plt.legend()\n",
    "plt.show()"
   ]
  },
  {
   "cell_type": "markdown",
   "id": "8aab67b9",
   "metadata": {},
   "source": [
    "# SVM "
   ]
  },
  {
   "cell_type": "markdown",
   "id": "d24c5b1c",
   "metadata": {},
   "source": [
    "# Data loading Flattened for SVM"
   ]
  },
  {
   "cell_type": "code",
   "execution_count": 71,
   "id": "4c945948",
   "metadata": {},
   "outputs": [],
   "source": [
    "celebDf  = pd.read_csv(\"Celeb.csv\")\n",
    "usDf = pd.read_csv(\"Hamza.csv\")\n",
    "\n",
    "#Get Celeb data and then your image data\n",
    "#Concatnate the two dataframes to get a joint train, test split\n",
    "celeb_train, celeb_test = train_test_split(celebDf, test_size=0.3, random_state = 8)\n",
    "us_train, us_test = train_test_split(usDf, test_size=0.3, random_state = 8)\n",
    "\n",
    "frames = [celeb_train, us_train]\n",
    "train = pd.concat(frames)\n",
    "\n",
    "frames = [celeb_test, us_test]\n",
    "test = pd.concat(frames)\n",
    "\n",
    "#Seperate the y_train and y_test. \n",
    "#We can have different objectives/y\n",
    "y1_train = train[\"Identity\"].to_numpy()\n",
    "y2_train = train[\"Expression\"].to_numpy()\n",
    "y3_train = train[\"Age\"].to_numpy()\n",
    "y1_test = test[\"Identity\"].to_numpy()\n",
    "y2_test = test[\"Expression\"].to_numpy()\n",
    "y3_test = test[\"Age\"].to_numpy()"
   ]
  },
  {
   "cell_type": "code",
   "execution_count": 72,
   "id": "16a977d5",
   "metadata": {},
   "outputs": [],
   "source": [
    "train_paths = train[\"Path\"]\n",
    "X_train = []\n",
    "for path in train_paths:\n",
    "    image = cv2.imread(path)\n",
    "    new_image = cv2.resize(image, (224, 224)) \n",
    "    rows, columns, channels = new_image.shape\n",
    "    new_image = new_image.reshape(rows * columns * channels)\n",
    "    X_train.append(new_image)\n",
    "    \n",
    "X_train = np.array(X_train)"
   ]
  },
  {
   "cell_type": "code",
   "execution_count": 73,
   "id": "0d3ad795",
   "metadata": {},
   "outputs": [],
   "source": [
    "#Do the same as the train split path\n",
    "test_paths = test[\"Path\"].to_numpy()\n",
    "\n",
    "X_test = []\n",
    "for path in test_paths:\n",
    "    image = cv2.imread(path)\n",
    "    new_image = cv2.resize(image, (224, 224)) \n",
    "    rows, columns, channels = new_image.shape\n",
    "    new_image = new_image.reshape(rows * columns * channels)\n",
    "    \n",
    "    X_test.append(new_image)\n",
    "        \n",
    "X_test = np.array(X_test)"
   ]
  },
  {
   "cell_type": "markdown",
   "id": "e6f14c2a",
   "metadata": {},
   "source": [
    "# SVM on Identity"
   ]
  },
  {
   "cell_type": "code",
   "execution_count": 74,
   "id": "f19ce9b9",
   "metadata": {},
   "outputs": [],
   "source": [
    "from sklearn.svm import SVC"
   ]
  },
  {
   "cell_type": "code",
   "execution_count": 75,
   "id": "750e9090",
   "metadata": {},
   "outputs": [
    {
     "data": {
      "text/html": [
       "<style>#sk-container-id-1 {color: black;background-color: white;}#sk-container-id-1 pre{padding: 0;}#sk-container-id-1 div.sk-toggleable {background-color: white;}#sk-container-id-1 label.sk-toggleable__label {cursor: pointer;display: block;width: 100%;margin-bottom: 0;padding: 0.3em;box-sizing: border-box;text-align: center;}#sk-container-id-1 label.sk-toggleable__label-arrow:before {content: \"▸\";float: left;margin-right: 0.25em;color: #696969;}#sk-container-id-1 label.sk-toggleable__label-arrow:hover:before {color: black;}#sk-container-id-1 div.sk-estimator:hover label.sk-toggleable__label-arrow:before {color: black;}#sk-container-id-1 div.sk-toggleable__content {max-height: 0;max-width: 0;overflow: hidden;text-align: left;background-color: #f0f8ff;}#sk-container-id-1 div.sk-toggleable__content pre {margin: 0.2em;color: black;border-radius: 0.25em;background-color: #f0f8ff;}#sk-container-id-1 input.sk-toggleable__control:checked~div.sk-toggleable__content {max-height: 200px;max-width: 100%;overflow: auto;}#sk-container-id-1 input.sk-toggleable__control:checked~label.sk-toggleable__label-arrow:before {content: \"▾\";}#sk-container-id-1 div.sk-estimator input.sk-toggleable__control:checked~label.sk-toggleable__label {background-color: #d4ebff;}#sk-container-id-1 div.sk-label input.sk-toggleable__control:checked~label.sk-toggleable__label {background-color: #d4ebff;}#sk-container-id-1 input.sk-hidden--visually {border: 0;clip: rect(1px 1px 1px 1px);clip: rect(1px, 1px, 1px, 1px);height: 1px;margin: -1px;overflow: hidden;padding: 0;position: absolute;width: 1px;}#sk-container-id-1 div.sk-estimator {font-family: monospace;background-color: #f0f8ff;border: 1px dotted black;border-radius: 0.25em;box-sizing: border-box;margin-bottom: 0.5em;}#sk-container-id-1 div.sk-estimator:hover {background-color: #d4ebff;}#sk-container-id-1 div.sk-parallel-item::after {content: \"\";width: 100%;border-bottom: 1px solid gray;flex-grow: 1;}#sk-container-id-1 div.sk-label:hover label.sk-toggleable__label {background-color: #d4ebff;}#sk-container-id-1 div.sk-serial::before {content: \"\";position: absolute;border-left: 1px solid gray;box-sizing: border-box;top: 0;bottom: 0;left: 50%;z-index: 0;}#sk-container-id-1 div.sk-serial {display: flex;flex-direction: column;align-items: center;background-color: white;padding-right: 0.2em;padding-left: 0.2em;position: relative;}#sk-container-id-1 div.sk-item {position: relative;z-index: 1;}#sk-container-id-1 div.sk-parallel {display: flex;align-items: stretch;justify-content: center;background-color: white;position: relative;}#sk-container-id-1 div.sk-item::before, #sk-container-id-1 div.sk-parallel-item::before {content: \"\";position: absolute;border-left: 1px solid gray;box-sizing: border-box;top: 0;bottom: 0;left: 50%;z-index: -1;}#sk-container-id-1 div.sk-parallel-item {display: flex;flex-direction: column;z-index: 1;position: relative;background-color: white;}#sk-container-id-1 div.sk-parallel-item:first-child::after {align-self: flex-end;width: 50%;}#sk-container-id-1 div.sk-parallel-item:last-child::after {align-self: flex-start;width: 50%;}#sk-container-id-1 div.sk-parallel-item:only-child::after {width: 0;}#sk-container-id-1 div.sk-dashed-wrapped {border: 1px dashed gray;margin: 0 0.4em 0.5em 0.4em;box-sizing: border-box;padding-bottom: 0.4em;background-color: white;}#sk-container-id-1 div.sk-label label {font-family: monospace;font-weight: bold;display: inline-block;line-height: 1.2em;}#sk-container-id-1 div.sk-label-container {text-align: center;}#sk-container-id-1 div.sk-container {/* jupyter's `normalize.less` sets `[hidden] { display: none; }` but bootstrap.min.css set `[hidden] { display: none !important; }` so we also need the `!important` here to be able to override the default hidden behavior on the sphinx rendered scikit-learn.org. See: https://github.com/scikit-learn/scikit-learn/issues/21755 */display: inline-block !important;position: relative;}#sk-container-id-1 div.sk-text-repr-fallback {display: none;}</style><div id=\"sk-container-id-1\" class=\"sk-top-container\"><div class=\"sk-text-repr-fallback\"><pre>SVC(C=2, max_iter=1000, random_state=8, tol=1e-05)</pre><b>In a Jupyter environment, please rerun this cell to show the HTML representation or trust the notebook. <br />On GitHub, the HTML representation is unable to render, please try loading this page with nbviewer.org.</b></div><div class=\"sk-container\" hidden><div class=\"sk-item\"><div class=\"sk-estimator sk-toggleable\"><input class=\"sk-toggleable__control sk-hidden--visually\" id=\"sk-estimator-id-1\" type=\"checkbox\" checked><label for=\"sk-estimator-id-1\" class=\"sk-toggleable__label sk-toggleable__label-arrow\">SVC</label><div class=\"sk-toggleable__content\"><pre>SVC(C=2, max_iter=1000, random_state=8, tol=1e-05)</pre></div></div></div></div></div>"
      ],
      "text/plain": [
       "SVC(C=2, max_iter=1000, random_state=8, tol=1e-05)"
      ]
     },
     "execution_count": 75,
     "metadata": {},
     "output_type": "execute_result"
    }
   ],
   "source": [
    "svm_identity = SVC(kernel = \"rbf\", random_state=8, tol=1e-5, C = 2, max_iter = 1000)\n",
    "svm_identity.fit(X_train, y1_train)"
   ]
  },
  {
   "cell_type": "code",
   "execution_count": 76,
   "id": "118bb15a",
   "metadata": {},
   "outputs": [],
   "source": [
    "preds = svm_identity.predict(X_test)"
   ]
  },
  {
   "cell_type": "code",
   "execution_count": 77,
   "id": "55591ef6",
   "metadata": {},
   "outputs": [
    {
     "name": "stdout",
     "output_type": "stream",
     "text": [
      "Accuracy: 0.8833333333333333\n",
      "F1 Score: 0.8771929824561403\n"
     ]
    }
   ],
   "source": [
    "ac_score = accuracy_score(preds, y1_test)\n",
    "f1 = f1_score(preds, y1_test, pos_label='Hamza Ahmad')\n",
    "print(\"Accuracy:\", ac_score)\n",
    "print(\"F1 Score:\", f1)"
   ]
  },
  {
   "cell_type": "markdown",
   "id": "60a32e14",
   "metadata": {},
   "source": [
    "# Expression on SVM"
   ]
  },
  {
   "cell_type": "code",
   "execution_count": 78,
   "id": "a02e6789",
   "metadata": {},
   "outputs": [
    {
     "data": {
      "text/html": [
       "<style>#sk-container-id-2 {color: black;background-color: white;}#sk-container-id-2 pre{padding: 0;}#sk-container-id-2 div.sk-toggleable {background-color: white;}#sk-container-id-2 label.sk-toggleable__label {cursor: pointer;display: block;width: 100%;margin-bottom: 0;padding: 0.3em;box-sizing: border-box;text-align: center;}#sk-container-id-2 label.sk-toggleable__label-arrow:before {content: \"▸\";float: left;margin-right: 0.25em;color: #696969;}#sk-container-id-2 label.sk-toggleable__label-arrow:hover:before {color: black;}#sk-container-id-2 div.sk-estimator:hover label.sk-toggleable__label-arrow:before {color: black;}#sk-container-id-2 div.sk-toggleable__content {max-height: 0;max-width: 0;overflow: hidden;text-align: left;background-color: #f0f8ff;}#sk-container-id-2 div.sk-toggleable__content pre {margin: 0.2em;color: black;border-radius: 0.25em;background-color: #f0f8ff;}#sk-container-id-2 input.sk-toggleable__control:checked~div.sk-toggleable__content {max-height: 200px;max-width: 100%;overflow: auto;}#sk-container-id-2 input.sk-toggleable__control:checked~label.sk-toggleable__label-arrow:before {content: \"▾\";}#sk-container-id-2 div.sk-estimator input.sk-toggleable__control:checked~label.sk-toggleable__label {background-color: #d4ebff;}#sk-container-id-2 div.sk-label input.sk-toggleable__control:checked~label.sk-toggleable__label {background-color: #d4ebff;}#sk-container-id-2 input.sk-hidden--visually {border: 0;clip: rect(1px 1px 1px 1px);clip: rect(1px, 1px, 1px, 1px);height: 1px;margin: -1px;overflow: hidden;padding: 0;position: absolute;width: 1px;}#sk-container-id-2 div.sk-estimator {font-family: monospace;background-color: #f0f8ff;border: 1px dotted black;border-radius: 0.25em;box-sizing: border-box;margin-bottom: 0.5em;}#sk-container-id-2 div.sk-estimator:hover {background-color: #d4ebff;}#sk-container-id-2 div.sk-parallel-item::after {content: \"\";width: 100%;border-bottom: 1px solid gray;flex-grow: 1;}#sk-container-id-2 div.sk-label:hover label.sk-toggleable__label {background-color: #d4ebff;}#sk-container-id-2 div.sk-serial::before {content: \"\";position: absolute;border-left: 1px solid gray;box-sizing: border-box;top: 0;bottom: 0;left: 50%;z-index: 0;}#sk-container-id-2 div.sk-serial {display: flex;flex-direction: column;align-items: center;background-color: white;padding-right: 0.2em;padding-left: 0.2em;position: relative;}#sk-container-id-2 div.sk-item {position: relative;z-index: 1;}#sk-container-id-2 div.sk-parallel {display: flex;align-items: stretch;justify-content: center;background-color: white;position: relative;}#sk-container-id-2 div.sk-item::before, #sk-container-id-2 div.sk-parallel-item::before {content: \"\";position: absolute;border-left: 1px solid gray;box-sizing: border-box;top: 0;bottom: 0;left: 50%;z-index: -1;}#sk-container-id-2 div.sk-parallel-item {display: flex;flex-direction: column;z-index: 1;position: relative;background-color: white;}#sk-container-id-2 div.sk-parallel-item:first-child::after {align-self: flex-end;width: 50%;}#sk-container-id-2 div.sk-parallel-item:last-child::after {align-self: flex-start;width: 50%;}#sk-container-id-2 div.sk-parallel-item:only-child::after {width: 0;}#sk-container-id-2 div.sk-dashed-wrapped {border: 1px dashed gray;margin: 0 0.4em 0.5em 0.4em;box-sizing: border-box;padding-bottom: 0.4em;background-color: white;}#sk-container-id-2 div.sk-label label {font-family: monospace;font-weight: bold;display: inline-block;line-height: 1.2em;}#sk-container-id-2 div.sk-label-container {text-align: center;}#sk-container-id-2 div.sk-container {/* jupyter's `normalize.less` sets `[hidden] { display: none; }` but bootstrap.min.css set `[hidden] { display: none !important; }` so we also need the `!important` here to be able to override the default hidden behavior on the sphinx rendered scikit-learn.org. See: https://github.com/scikit-learn/scikit-learn/issues/21755 */display: inline-block !important;position: relative;}#sk-container-id-2 div.sk-text-repr-fallback {display: none;}</style><div id=\"sk-container-id-2\" class=\"sk-top-container\"><div class=\"sk-text-repr-fallback\"><pre>SVC(C=3, max_iter=1000, random_state=8)</pre><b>In a Jupyter environment, please rerun this cell to show the HTML representation or trust the notebook. <br />On GitHub, the HTML representation is unable to render, please try loading this page with nbviewer.org.</b></div><div class=\"sk-container\" hidden><div class=\"sk-item\"><div class=\"sk-estimator sk-toggleable\"><input class=\"sk-toggleable__control sk-hidden--visually\" id=\"sk-estimator-id-2\" type=\"checkbox\" checked><label for=\"sk-estimator-id-2\" class=\"sk-toggleable__label sk-toggleable__label-arrow\">SVC</label><div class=\"sk-toggleable__content\"><pre>SVC(C=3, max_iter=1000, random_state=8)</pre></div></div></div></div></div>"
      ],
      "text/plain": [
       "SVC(C=3, max_iter=1000, random_state=8)"
      ]
     },
     "execution_count": 78,
     "metadata": {},
     "output_type": "execute_result"
    }
   ],
   "source": [
    "svm_expression = SVC(kernel = \"rbf\", decision_function_shape = \"ovr\", tol=1e-3, C = 3, max_iter = 1000, random_state = 8)\n",
    "svm_expression.fit(X_train, y2_train)"
   ]
  },
  {
   "cell_type": "code",
   "execution_count": 79,
   "id": "92c015a6",
   "metadata": {},
   "outputs": [],
   "source": [
    "preds = svm_expression.predict(X_test)"
   ]
  },
  {
   "cell_type": "code",
   "execution_count": 80,
   "id": "7db0e380",
   "metadata": {},
   "outputs": [
    {
     "name": "stdout",
     "output_type": "stream",
     "text": [
      "Accuracy: 0.7\n",
      "F1 Score: 0.7\n"
     ]
    }
   ],
   "source": [
    "ac_score = accuracy_score(preds, y2_test)\n",
    "f1 = f1_score(preds, y2_test, average = \"micro\")\n",
    "print(\"Accuracy:\", ac_score)\n",
    "print(\"F1 Score:\", f1)"
   ]
  },
  {
   "cell_type": "code",
   "execution_count": 81,
   "id": "4a0e9b03",
   "metadata": {},
   "outputs": [],
   "source": [
    "pickle.dump(svm_identity, open(\"model_results/svm_identity_model\", \"wb\")) \n",
    "pickle.dump(svm_expression, open(\"model_results/svm_expression_model\", \"wb\")) "
   ]
  },
  {
   "cell_type": "markdown",
   "id": "db9eb594",
   "metadata": {},
   "source": [
    "# Best hyperparameters for Identity SVM"
   ]
  },
  {
   "cell_type": "markdown",
   "id": "27fff0b4",
   "metadata": {},
   "source": [
    "## Kernel: rbf and C = 2"
   ]
  },
  {
   "cell_type": "markdown",
   "id": "1bca6b84",
   "metadata": {},
   "source": [
    "# Best hyperparameters for Expression SVM"
   ]
  },
  {
   "cell_type": "markdown",
   "id": "ceb77864",
   "metadata": {},
   "source": [
    "## Kernel: rbf and C = 3"
   ]
  }
 ],
 "metadata": {
  "kernelspec": {
   "display_name": "Python 3 (ipykernel)",
   "language": "python",
   "name": "python3"
  },
  "language_info": {
   "codemirror_mode": {
    "name": "ipython",
    "version": 3
   },
   "file_extension": ".py",
   "mimetype": "text/x-python",
   "name": "python",
   "nbconvert_exporter": "python",
   "pygments_lexer": "ipython3",
   "version": "3.9.16"
  }
 },
 "nbformat": 4,
 "nbformat_minor": 5
}
