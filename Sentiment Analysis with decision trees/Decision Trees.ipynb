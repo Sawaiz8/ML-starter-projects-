{
 "cells": [
  {
   "cell_type": "code",
   "execution_count": 206,
   "id": "6989f9ca",
   "metadata": {},
   "outputs": [],
   "source": [
    "import pandas as pd\n",
    "import numpy as np\n",
    "import re \n",
    "from sklearn import preprocessing\n",
    "from sklearn.feature_extraction.text import CountVectorizer"
   ]
  },
  {
   "cell_type": "code",
   "execution_count": 207,
   "id": "21c8d917",
   "metadata": {},
   "outputs": [],
   "source": [
    "trainDataframe = pd.read_csv(\"train.csv\")\n",
    "testDataframe = pd.read_csv(\"test.csv\")"
   ]
  },
  {
   "cell_type": "markdown",
   "id": "23f50a7a",
   "metadata": {},
   "source": [
    "# X_train, Y_train extraction"
   ]
  },
  {
   "cell_type": "code",
   "execution_count": 208,
   "id": "3174fda4",
   "metadata": {},
   "outputs": [],
   "source": [
    "df = trainDataframe\n",
    "df = df[\"review\"]\n",
    "#Preprocess the data. Remove the regular expression term from each example and replace it.\n",
    "for i, row in enumerate(df):\n",
    "    trainDataframe.iloc[i , 0] = re.sub(\"<br />\", \" \", row)"
   ]
  },
  {
   "cell_type": "code",
   "execution_count": 209,
   "id": "1abdd3f0",
   "metadata": {},
   "outputs": [],
   "source": [
    "#Use label encoder to change the reviews to numeric values\n",
    "labeler = preprocessing.LabelEncoder()\n",
    "labeler.fit(trainDataframe[\"sentiment\"])\n",
    "labeled_column = labeler.transform(trainDataframe[\"sentiment\"].to_numpy())\n",
    "trainDataframe[\"sentiment\"] = labeled_column\n",
    "y_trainTextdf = labeled_column"
   ]
  },
  {
   "cell_type": "code",
   "execution_count": 210,
   "id": "673cb1d8",
   "metadata": {},
   "outputs": [],
   "source": [
    "vectorizer = CountVectorizer(binary=True)\n",
    "vectorizer.fit(trainDataframe[\"review\"]) \n",
    "X_train = vectorizer.transform(trainDataframe[\"review\"])\n",
    "feature_names_test = vectorizer.get_feature_names_out()\n",
    "X_trainTextdf = pd.DataFrame.sparse.from_spmatrix(X_train, columns=feature_names_test)"
   ]
  },
  {
   "cell_type": "code",
   "execution_count": 211,
   "id": "42a5d0a1",
   "metadata": {},
   "outputs": [
    {
     "data": {
      "text/plain": [
       "(2000, 25135)"
      ]
     },
     "execution_count": 211,
     "metadata": {},
     "output_type": "execute_result"
    }
   ],
   "source": [
    "X_trainTextdf.shape"
   ]
  },
  {
   "cell_type": "code",
   "execution_count": 212,
   "id": "fc24bf1b",
   "metadata": {},
   "outputs": [
    {
     "data": {
      "text/plain": [
       "(2000,)"
      ]
     },
     "execution_count": 212,
     "metadata": {},
     "output_type": "execute_result"
    }
   ],
   "source": [
    "y_trainTextdf.shape"
   ]
  },
  {
   "cell_type": "code",
   "execution_count": 213,
   "id": "88571d96",
   "metadata": {},
   "outputs": [
    {
     "data": {
      "text/html": [
       "<div>\n",
       "<style scoped>\n",
       "    .dataframe tbody tr th:only-of-type {\n",
       "        vertical-align: middle;\n",
       "    }\n",
       "\n",
       "    .dataframe tbody tr th {\n",
       "        vertical-align: top;\n",
       "    }\n",
       "\n",
       "    .dataframe thead th {\n",
       "        text-align: right;\n",
       "    }\n",
       "</style>\n",
       "<table border=\"1\" class=\"dataframe\">\n",
       "  <thead>\n",
       "    <tr style=\"text-align: right;\">\n",
       "      <th></th>\n",
       "      <th>00</th>\n",
       "      <th>000</th>\n",
       "      <th>007</th>\n",
       "      <th>00am</th>\n",
       "      <th>01pm</th>\n",
       "      <th>02</th>\n",
       "      <th>04</th>\n",
       "      <th>06</th>\n",
       "      <th>07</th>\n",
       "      <th>08</th>\n",
       "      <th>...</th>\n",
       "      <th>zwick</th>\n",
       "      <th>zzzzzzzzzzzzzzzzzz</th>\n",
       "      <th>álvaro</th>\n",
       "      <th>ángel</th>\n",
       "      <th>æon</th>\n",
       "      <th>élan</th>\n",
       "      <th>être</th>\n",
       "      <th>ís</th>\n",
       "      <th>ísnt</th>\n",
       "      <th>île</th>\n",
       "    </tr>\n",
       "  </thead>\n",
       "  <tbody>\n",
       "    <tr>\n",
       "      <th>0</th>\n",
       "      <td>0</td>\n",
       "      <td>0</td>\n",
       "      <td>0</td>\n",
       "      <td>0</td>\n",
       "      <td>0</td>\n",
       "      <td>0</td>\n",
       "      <td>0</td>\n",
       "      <td>0</td>\n",
       "      <td>0</td>\n",
       "      <td>0</td>\n",
       "      <td>...</td>\n",
       "      <td>0</td>\n",
       "      <td>0</td>\n",
       "      <td>0</td>\n",
       "      <td>0</td>\n",
       "      <td>0</td>\n",
       "      <td>0</td>\n",
       "      <td>0</td>\n",
       "      <td>0</td>\n",
       "      <td>0</td>\n",
       "      <td>0</td>\n",
       "    </tr>\n",
       "    <tr>\n",
       "      <th>1</th>\n",
       "      <td>0</td>\n",
       "      <td>0</td>\n",
       "      <td>0</td>\n",
       "      <td>0</td>\n",
       "      <td>0</td>\n",
       "      <td>0</td>\n",
       "      <td>0</td>\n",
       "      <td>0</td>\n",
       "      <td>0</td>\n",
       "      <td>0</td>\n",
       "      <td>...</td>\n",
       "      <td>0</td>\n",
       "      <td>0</td>\n",
       "      <td>0</td>\n",
       "      <td>0</td>\n",
       "      <td>0</td>\n",
       "      <td>0</td>\n",
       "      <td>0</td>\n",
       "      <td>0</td>\n",
       "      <td>0</td>\n",
       "      <td>0</td>\n",
       "    </tr>\n",
       "    <tr>\n",
       "      <th>2</th>\n",
       "      <td>0</td>\n",
       "      <td>0</td>\n",
       "      <td>0</td>\n",
       "      <td>0</td>\n",
       "      <td>0</td>\n",
       "      <td>0</td>\n",
       "      <td>0</td>\n",
       "      <td>0</td>\n",
       "      <td>0</td>\n",
       "      <td>0</td>\n",
       "      <td>...</td>\n",
       "      <td>0</td>\n",
       "      <td>0</td>\n",
       "      <td>0</td>\n",
       "      <td>0</td>\n",
       "      <td>0</td>\n",
       "      <td>0</td>\n",
       "      <td>0</td>\n",
       "      <td>0</td>\n",
       "      <td>0</td>\n",
       "      <td>0</td>\n",
       "    </tr>\n",
       "    <tr>\n",
       "      <th>3</th>\n",
       "      <td>0</td>\n",
       "      <td>0</td>\n",
       "      <td>0</td>\n",
       "      <td>0</td>\n",
       "      <td>0</td>\n",
       "      <td>0</td>\n",
       "      <td>0</td>\n",
       "      <td>0</td>\n",
       "      <td>0</td>\n",
       "      <td>0</td>\n",
       "      <td>...</td>\n",
       "      <td>0</td>\n",
       "      <td>0</td>\n",
       "      <td>0</td>\n",
       "      <td>0</td>\n",
       "      <td>0</td>\n",
       "      <td>0</td>\n",
       "      <td>0</td>\n",
       "      <td>0</td>\n",
       "      <td>0</td>\n",
       "      <td>0</td>\n",
       "    </tr>\n",
       "    <tr>\n",
       "      <th>4</th>\n",
       "      <td>0</td>\n",
       "      <td>0</td>\n",
       "      <td>0</td>\n",
       "      <td>0</td>\n",
       "      <td>0</td>\n",
       "      <td>0</td>\n",
       "      <td>0</td>\n",
       "      <td>0</td>\n",
       "      <td>0</td>\n",
       "      <td>0</td>\n",
       "      <td>...</td>\n",
       "      <td>0</td>\n",
       "      <td>0</td>\n",
       "      <td>0</td>\n",
       "      <td>0</td>\n",
       "      <td>0</td>\n",
       "      <td>0</td>\n",
       "      <td>0</td>\n",
       "      <td>0</td>\n",
       "      <td>0</td>\n",
       "      <td>0</td>\n",
       "    </tr>\n",
       "  </tbody>\n",
       "</table>\n",
       "<p>5 rows × 25135 columns</p>\n",
       "</div>"
      ],
      "text/plain": [
       "   00  000  007  00am  01pm  02  04  06  07  08  ...  zwick  \\\n",
       "0   0    0    0     0     0   0   0   0   0   0  ...      0   \n",
       "1   0    0    0     0     0   0   0   0   0   0  ...      0   \n",
       "2   0    0    0     0     0   0   0   0   0   0  ...      0   \n",
       "3   0    0    0     0     0   0   0   0   0   0  ...      0   \n",
       "4   0    0    0     0     0   0   0   0   0   0  ...      0   \n",
       "\n",
       "   zzzzzzzzzzzzzzzzzz  álvaro  ángel  æon  élan  être  ís  ísnt  île  \n",
       "0                   0       0      0    0     0     0   0     0    0  \n",
       "1                   0       0      0    0     0     0   0     0    0  \n",
       "2                   0       0      0    0     0     0   0     0    0  \n",
       "3                   0       0      0    0     0     0   0     0    0  \n",
       "4                   0       0      0    0     0     0   0     0    0  \n",
       "\n",
       "[5 rows x 25135 columns]"
      ]
     },
     "execution_count": 213,
     "metadata": {},
     "output_type": "execute_result"
    }
   ],
   "source": [
    "X_trainTextdf.head()"
   ]
  },
  {
   "cell_type": "markdown",
   "id": "e3f52081",
   "metadata": {},
   "source": [
    "# X_test and Y_test extraction: Use the vocabulary of the train set"
   ]
  },
  {
   "cell_type": "code",
   "execution_count": 214,
   "id": "662933f3",
   "metadata": {},
   "outputs": [],
   "source": [
    "df = testDataframe\n",
    "df = df[\"review\"]\n",
    "\n",
    "for i, row in enumerate(df):\n",
    "    testDataframe.iloc[i , 0] = re.sub(\"<br />\", \" \", row)"
   ]
  },
  {
   "cell_type": "code",
   "execution_count": 215,
   "id": "aa5cd99c",
   "metadata": {},
   "outputs": [],
   "source": [
    "labeler.fit(testDataframe[\"sentiment\"])\n",
    "labeled_column = labeler.transform(testDataframe[\"sentiment\"].to_numpy())\n",
    "testDataframe[\"sentiment\"] = labeled_column\n",
    "y_testTextdf = labeled_column\n",
    "\n",
    "X_test = vectorizer.transform(testDataframe[\"review\"])\n",
    "feature_names_test = vectorizer.get_feature_names_out()\n",
    "X_testTextdf = pd.DataFrame.sparse.from_spmatrix(X_test, columns=feature_names_test)\n"
   ]
  },
  {
   "cell_type": "code",
   "execution_count": 216,
   "id": "f94184dc",
   "metadata": {},
   "outputs": [
    {
     "data": {
      "text/html": [
       "<div>\n",
       "<style scoped>\n",
       "    .dataframe tbody tr th:only-of-type {\n",
       "        vertical-align: middle;\n",
       "    }\n",
       "\n",
       "    .dataframe tbody tr th {\n",
       "        vertical-align: top;\n",
       "    }\n",
       "\n",
       "    .dataframe thead th {\n",
       "        text-align: right;\n",
       "    }\n",
       "</style>\n",
       "<table border=\"1\" class=\"dataframe\">\n",
       "  <thead>\n",
       "    <tr style=\"text-align: right;\">\n",
       "      <th></th>\n",
       "      <th>00</th>\n",
       "      <th>000</th>\n",
       "      <th>007</th>\n",
       "      <th>00am</th>\n",
       "      <th>01pm</th>\n",
       "      <th>02</th>\n",
       "      <th>04</th>\n",
       "      <th>06</th>\n",
       "      <th>07</th>\n",
       "      <th>08</th>\n",
       "      <th>...</th>\n",
       "      <th>zwick</th>\n",
       "      <th>zzzzzzzzzzzzzzzzzz</th>\n",
       "      <th>álvaro</th>\n",
       "      <th>ángel</th>\n",
       "      <th>æon</th>\n",
       "      <th>élan</th>\n",
       "      <th>être</th>\n",
       "      <th>ís</th>\n",
       "      <th>ísnt</th>\n",
       "      <th>île</th>\n",
       "    </tr>\n",
       "  </thead>\n",
       "  <tbody>\n",
       "    <tr>\n",
       "      <th>0</th>\n",
       "      <td>0</td>\n",
       "      <td>1</td>\n",
       "      <td>0</td>\n",
       "      <td>0</td>\n",
       "      <td>0</td>\n",
       "      <td>0</td>\n",
       "      <td>0</td>\n",
       "      <td>0</td>\n",
       "      <td>0</td>\n",
       "      <td>0</td>\n",
       "      <td>...</td>\n",
       "      <td>0</td>\n",
       "      <td>0</td>\n",
       "      <td>0</td>\n",
       "      <td>0</td>\n",
       "      <td>0</td>\n",
       "      <td>0</td>\n",
       "      <td>0</td>\n",
       "      <td>0</td>\n",
       "      <td>0</td>\n",
       "      <td>0</td>\n",
       "    </tr>\n",
       "    <tr>\n",
       "      <th>1</th>\n",
       "      <td>0</td>\n",
       "      <td>0</td>\n",
       "      <td>0</td>\n",
       "      <td>0</td>\n",
       "      <td>0</td>\n",
       "      <td>0</td>\n",
       "      <td>0</td>\n",
       "      <td>0</td>\n",
       "      <td>0</td>\n",
       "      <td>0</td>\n",
       "      <td>...</td>\n",
       "      <td>0</td>\n",
       "      <td>0</td>\n",
       "      <td>0</td>\n",
       "      <td>0</td>\n",
       "      <td>0</td>\n",
       "      <td>0</td>\n",
       "      <td>0</td>\n",
       "      <td>0</td>\n",
       "      <td>0</td>\n",
       "      <td>0</td>\n",
       "    </tr>\n",
       "    <tr>\n",
       "      <th>2</th>\n",
       "      <td>0</td>\n",
       "      <td>0</td>\n",
       "      <td>0</td>\n",
       "      <td>0</td>\n",
       "      <td>0</td>\n",
       "      <td>0</td>\n",
       "      <td>0</td>\n",
       "      <td>0</td>\n",
       "      <td>0</td>\n",
       "      <td>0</td>\n",
       "      <td>...</td>\n",
       "      <td>0</td>\n",
       "      <td>0</td>\n",
       "      <td>0</td>\n",
       "      <td>0</td>\n",
       "      <td>0</td>\n",
       "      <td>0</td>\n",
       "      <td>0</td>\n",
       "      <td>0</td>\n",
       "      <td>0</td>\n",
       "      <td>0</td>\n",
       "    </tr>\n",
       "    <tr>\n",
       "      <th>3</th>\n",
       "      <td>0</td>\n",
       "      <td>0</td>\n",
       "      <td>0</td>\n",
       "      <td>0</td>\n",
       "      <td>0</td>\n",
       "      <td>0</td>\n",
       "      <td>0</td>\n",
       "      <td>0</td>\n",
       "      <td>0</td>\n",
       "      <td>0</td>\n",
       "      <td>...</td>\n",
       "      <td>0</td>\n",
       "      <td>0</td>\n",
       "      <td>0</td>\n",
       "      <td>0</td>\n",
       "      <td>0</td>\n",
       "      <td>0</td>\n",
       "      <td>0</td>\n",
       "      <td>0</td>\n",
       "      <td>0</td>\n",
       "      <td>0</td>\n",
       "    </tr>\n",
       "    <tr>\n",
       "      <th>4</th>\n",
       "      <td>0</td>\n",
       "      <td>0</td>\n",
       "      <td>0</td>\n",
       "      <td>0</td>\n",
       "      <td>0</td>\n",
       "      <td>0</td>\n",
       "      <td>0</td>\n",
       "      <td>0</td>\n",
       "      <td>0</td>\n",
       "      <td>0</td>\n",
       "      <td>...</td>\n",
       "      <td>0</td>\n",
       "      <td>0</td>\n",
       "      <td>0</td>\n",
       "      <td>0</td>\n",
       "      <td>0</td>\n",
       "      <td>0</td>\n",
       "      <td>0</td>\n",
       "      <td>0</td>\n",
       "      <td>0</td>\n",
       "      <td>0</td>\n",
       "    </tr>\n",
       "    <tr>\n",
       "      <th>5</th>\n",
       "      <td>0</td>\n",
       "      <td>0</td>\n",
       "      <td>0</td>\n",
       "      <td>0</td>\n",
       "      <td>0</td>\n",
       "      <td>0</td>\n",
       "      <td>0</td>\n",
       "      <td>0</td>\n",
       "      <td>0</td>\n",
       "      <td>0</td>\n",
       "      <td>...</td>\n",
       "      <td>0</td>\n",
       "      <td>0</td>\n",
       "      <td>0</td>\n",
       "      <td>0</td>\n",
       "      <td>0</td>\n",
       "      <td>0</td>\n",
       "      <td>0</td>\n",
       "      <td>0</td>\n",
       "      <td>0</td>\n",
       "      <td>0</td>\n",
       "    </tr>\n",
       "    <tr>\n",
       "      <th>6</th>\n",
       "      <td>0</td>\n",
       "      <td>0</td>\n",
       "      <td>0</td>\n",
       "      <td>0</td>\n",
       "      <td>0</td>\n",
       "      <td>0</td>\n",
       "      <td>0</td>\n",
       "      <td>0</td>\n",
       "      <td>0</td>\n",
       "      <td>0</td>\n",
       "      <td>...</td>\n",
       "      <td>0</td>\n",
       "      <td>0</td>\n",
       "      <td>0</td>\n",
       "      <td>0</td>\n",
       "      <td>0</td>\n",
       "      <td>0</td>\n",
       "      <td>0</td>\n",
       "      <td>0</td>\n",
       "      <td>0</td>\n",
       "      <td>0</td>\n",
       "    </tr>\n",
       "    <tr>\n",
       "      <th>7</th>\n",
       "      <td>0</td>\n",
       "      <td>0</td>\n",
       "      <td>0</td>\n",
       "      <td>0</td>\n",
       "      <td>0</td>\n",
       "      <td>0</td>\n",
       "      <td>0</td>\n",
       "      <td>0</td>\n",
       "      <td>0</td>\n",
       "      <td>0</td>\n",
       "      <td>...</td>\n",
       "      <td>0</td>\n",
       "      <td>0</td>\n",
       "      <td>0</td>\n",
       "      <td>0</td>\n",
       "      <td>0</td>\n",
       "      <td>0</td>\n",
       "      <td>0</td>\n",
       "      <td>0</td>\n",
       "      <td>0</td>\n",
       "      <td>0</td>\n",
       "    </tr>\n",
       "    <tr>\n",
       "      <th>8</th>\n",
       "      <td>0</td>\n",
       "      <td>0</td>\n",
       "      <td>0</td>\n",
       "      <td>0</td>\n",
       "      <td>0</td>\n",
       "      <td>0</td>\n",
       "      <td>0</td>\n",
       "      <td>0</td>\n",
       "      <td>0</td>\n",
       "      <td>0</td>\n",
       "      <td>...</td>\n",
       "      <td>0</td>\n",
       "      <td>0</td>\n",
       "      <td>0</td>\n",
       "      <td>0</td>\n",
       "      <td>0</td>\n",
       "      <td>0</td>\n",
       "      <td>0</td>\n",
       "      <td>0</td>\n",
       "      <td>0</td>\n",
       "      <td>0</td>\n",
       "    </tr>\n",
       "    <tr>\n",
       "      <th>9</th>\n",
       "      <td>0</td>\n",
       "      <td>1</td>\n",
       "      <td>0</td>\n",
       "      <td>0</td>\n",
       "      <td>0</td>\n",
       "      <td>0</td>\n",
       "      <td>0</td>\n",
       "      <td>0</td>\n",
       "      <td>0</td>\n",
       "      <td>0</td>\n",
       "      <td>...</td>\n",
       "      <td>0</td>\n",
       "      <td>0</td>\n",
       "      <td>0</td>\n",
       "      <td>0</td>\n",
       "      <td>0</td>\n",
       "      <td>0</td>\n",
       "      <td>0</td>\n",
       "      <td>0</td>\n",
       "      <td>0</td>\n",
       "      <td>0</td>\n",
       "    </tr>\n",
       "  </tbody>\n",
       "</table>\n",
       "<p>10 rows × 25135 columns</p>\n",
       "</div>"
      ],
      "text/plain": [
       "   00  000  007  00am  01pm  02  04  06  07  08  ...  zwick  \\\n",
       "0   0    1    0     0     0   0   0   0   0   0  ...      0   \n",
       "1   0    0    0     0     0   0   0   0   0   0  ...      0   \n",
       "2   0    0    0     0     0   0   0   0   0   0  ...      0   \n",
       "3   0    0    0     0     0   0   0   0   0   0  ...      0   \n",
       "4   0    0    0     0     0   0   0   0   0   0  ...      0   \n",
       "5   0    0    0     0     0   0   0   0   0   0  ...      0   \n",
       "6   0    0    0     0     0   0   0   0   0   0  ...      0   \n",
       "7   0    0    0     0     0   0   0   0   0   0  ...      0   \n",
       "8   0    0    0     0     0   0   0   0   0   0  ...      0   \n",
       "9   0    1    0     0     0   0   0   0   0   0  ...      0   \n",
       "\n",
       "   zzzzzzzzzzzzzzzzzz  álvaro  ángel  æon  élan  être  ís  ísnt  île  \n",
       "0                   0       0      0    0     0     0   0     0    0  \n",
       "1                   0       0      0    0     0     0   0     0    0  \n",
       "2                   0       0      0    0     0     0   0     0    0  \n",
       "3                   0       0      0    0     0     0   0     0    0  \n",
       "4                   0       0      0    0     0     0   0     0    0  \n",
       "5                   0       0      0    0     0     0   0     0    0  \n",
       "6                   0       0      0    0     0     0   0     0    0  \n",
       "7                   0       0      0    0     0     0   0     0    0  \n",
       "8                   0       0      0    0     0     0   0     0    0  \n",
       "9                   0       0      0    0     0     0   0     0    0  \n",
       "\n",
       "[10 rows x 25135 columns]"
      ]
     },
     "execution_count": 216,
     "metadata": {},
     "output_type": "execute_result"
    }
   ],
   "source": [
    "X_testTextdf.head(10)"
   ]
  },
  {
   "cell_type": "markdown",
   "id": "5f4bd655",
   "metadata": {},
   "source": [
    "# Calculate information gain for each feature wrt \"sentiment\""
   ]
  },
  {
   "cell_type": "code",
   "execution_count": 217,
   "id": "cb111cb4",
   "metadata": {},
   "outputs": [],
   "source": [
    "from sklearn.feature_selection import mutual_info_classif"
   ]
  },
  {
   "cell_type": "code",
   "execution_count": 203,
   "id": "044dfd38",
   "metadata": {},
   "outputs": [],
   "source": [
    "informationGain = mutual_info_classif(X_trainTextdf, trainDataframe[\"sentiment\"], random_state = 8)"
   ]
  },
  {
   "cell_type": "code",
   "execution_count": 204,
   "id": "42b6c378",
   "metadata": {},
   "outputs": [],
   "source": [
    "column_names = X_trainTextdf.columns\n",
    "gainDf = pd.DataFrame(columns = column_names)\n",
    "gainDf.loc[\"gain\"] = informationGain"
   ]
  },
  {
   "cell_type": "code",
   "execution_count": 205,
   "id": "40bdfa24",
   "metadata": {},
   "outputs": [
    {
     "data": {
      "text/html": [
       "<div>\n",
       "<style scoped>\n",
       "    .dataframe tbody tr th:only-of-type {\n",
       "        vertical-align: middle;\n",
       "    }\n",
       "\n",
       "    .dataframe tbody tr th {\n",
       "        vertical-align: top;\n",
       "    }\n",
       "\n",
       "    .dataframe thead th {\n",
       "        text-align: right;\n",
       "    }\n",
       "</style>\n",
       "<table border=\"1\" class=\"dataframe\">\n",
       "  <thead>\n",
       "    <tr style=\"text-align: right;\">\n",
       "      <th></th>\n",
       "      <th>00</th>\n",
       "      <th>000</th>\n",
       "      <th>007</th>\n",
       "      <th>00am</th>\n",
       "      <th>01pm</th>\n",
       "      <th>02</th>\n",
       "      <th>04</th>\n",
       "      <th>06</th>\n",
       "      <th>07</th>\n",
       "      <th>08</th>\n",
       "      <th>...</th>\n",
       "      <th>zwick</th>\n",
       "      <th>zzzzzzzzzzzzzzzzzz</th>\n",
       "      <th>álvaro</th>\n",
       "      <th>ángel</th>\n",
       "      <th>æon</th>\n",
       "      <th>élan</th>\n",
       "      <th>être</th>\n",
       "      <th>ís</th>\n",
       "      <th>ísnt</th>\n",
       "      <th>île</th>\n",
       "    </tr>\n",
       "  </thead>\n",
       "  <tbody>\n",
       "    <tr>\n",
       "      <th>gain</th>\n",
       "      <td>2.505041e-08</td>\n",
       "      <td>0.000216</td>\n",
       "      <td>0.000689</td>\n",
       "      <td>0.000344</td>\n",
       "      <td>0.000349</td>\n",
       "      <td>0.000349</td>\n",
       "      <td>0.000349</td>\n",
       "      <td>0.000344</td>\n",
       "      <td>0.000344</td>\n",
       "      <td>0.000344</td>\n",
       "      <td>...</td>\n",
       "      <td>0.000344</td>\n",
       "      <td>0.000349</td>\n",
       "      <td>0.000344</td>\n",
       "      <td>0.000344</td>\n",
       "      <td>0.000349</td>\n",
       "      <td>0.000349</td>\n",
       "      <td>0.000349</td>\n",
       "      <td>0.000344</td>\n",
       "      <td>0.000349</td>\n",
       "      <td>0.000349</td>\n",
       "    </tr>\n",
       "  </tbody>\n",
       "</table>\n",
       "<p>1 rows × 25135 columns</p>\n",
       "</div>"
      ],
      "text/plain": [
       "                00       000       007      00am      01pm        02  \\\n",
       "gain  2.505041e-08  0.000216  0.000689  0.000344  0.000349  0.000349   \n",
       "\n",
       "            04        06        07        08  ...     zwick  \\\n",
       "gain  0.000349  0.000344  0.000344  0.000344  ...  0.000344   \n",
       "\n",
       "      zzzzzzzzzzzzzzzzzz    álvaro     ángel       æon      élan      être  \\\n",
       "gain            0.000349  0.000344  0.000344  0.000349  0.000349  0.000349   \n",
       "\n",
       "            ís      ísnt       île  \n",
       "gain  0.000344  0.000349  0.000349  \n",
       "\n",
       "[1 rows x 25135 columns]"
      ]
     },
     "execution_count": 205,
     "metadata": {},
     "output_type": "execute_result"
    }
   ],
   "source": [
    "gainDf.head()"
   ]
  },
  {
   "cell_type": "markdown",
   "id": "b5555b8e",
   "metadata": {},
   "source": [
    "# Sort the information Gain columns based on gain value."
   ]
  },
  {
   "cell_type": "code",
   "execution_count": 234,
   "id": "6168d8a0",
   "metadata": {},
   "outputs": [
    {
     "data": {
      "text/html": [
       "<div>\n",
       "<style scoped>\n",
       "    .dataframe tbody tr th:only-of-type {\n",
       "        vertical-align: middle;\n",
       "    }\n",
       "\n",
       "    .dataframe tbody tr th {\n",
       "        vertical-align: top;\n",
       "    }\n",
       "\n",
       "    .dataframe thead th {\n",
       "        text-align: right;\n",
       "    }\n",
       "</style>\n",
       "<table border=\"1\" class=\"dataframe\">\n",
       "  <thead>\n",
       "    <tr style=\"text-align: right;\">\n",
       "      <th></th>\n",
       "      <th>seen</th>\n",
       "      <th>100th</th>\n",
       "      <th>105</th>\n",
       "      <th>1794</th>\n",
       "      <th>1800</th>\n",
       "      <th>1800s</th>\n",
       "      <th>1840</th>\n",
       "      <th>1914</th>\n",
       "      <th>1934</th>\n",
       "      <th>1963</th>\n",
       "      <th>...</th>\n",
       "      <th>no</th>\n",
       "      <th>boring</th>\n",
       "      <th>stupid</th>\n",
       "      <th>terrible</th>\n",
       "      <th>great</th>\n",
       "      <th>excellent</th>\n",
       "      <th>awful</th>\n",
       "      <th>waste</th>\n",
       "      <th>worst</th>\n",
       "      <th>bad</th>\n",
       "    </tr>\n",
       "  </thead>\n",
       "  <tbody>\n",
       "    <tr>\n",
       "      <th>gain</th>\n",
       "      <td>7.534844e-09</td>\n",
       "      <td>1.251267e-08</td>\n",
       "      <td>1.251267e-08</td>\n",
       "      <td>1.251267e-08</td>\n",
       "      <td>1.251267e-08</td>\n",
       "      <td>1.251267e-08</td>\n",
       "      <td>1.251267e-08</td>\n",
       "      <td>1.251267e-08</td>\n",
       "      <td>1.251267e-08</td>\n",
       "      <td>1.251267e-08</td>\n",
       "      <td>...</td>\n",
       "      <td>0.015746</td>\n",
       "      <td>0.015948</td>\n",
       "      <td>0.016204</td>\n",
       "      <td>0.016234</td>\n",
       "      <td>0.020785</td>\n",
       "      <td>0.02297</td>\n",
       "      <td>0.02389</td>\n",
       "      <td>0.025341</td>\n",
       "      <td>0.035207</td>\n",
       "      <td>0.043831</td>\n",
       "    </tr>\n",
       "  </tbody>\n",
       "</table>\n",
       "<p>1 rows × 25135 columns</p>\n",
       "</div>"
      ],
      "text/plain": [
       "              seen         100th           105          1794          1800  \\\n",
       "gain  7.534844e-09  1.251267e-08  1.251267e-08  1.251267e-08  1.251267e-08   \n",
       "\n",
       "             1800s          1840          1914          1934          1963  \\\n",
       "gain  1.251267e-08  1.251267e-08  1.251267e-08  1.251267e-08  1.251267e-08   \n",
       "\n",
       "      ...        no    boring    stupid  terrible     great  excellent  \\\n",
       "gain  ...  0.015746  0.015948  0.016204  0.016234  0.020785    0.02297   \n",
       "\n",
       "        awful     waste     worst       bad  \n",
       "gain  0.02389  0.025341  0.035207  0.043831  \n",
       "\n",
       "[1 rows x 25135 columns]"
      ]
     },
     "execution_count": 234,
     "metadata": {},
     "output_type": "execute_result"
    }
   ],
   "source": [
    "sorted_gainDf = gainDf.sort_values(by = 'gain', axis = 1, kind = 'stable')\n",
    "sorted_gainDf.head()"
   ]
  },
  {
   "cell_type": "code",
   "execution_count": 156,
   "id": "b1f9ca71",
   "metadata": {},
   "outputs": [],
   "source": [
    "leastImportant = sorted_gainDf.columns[0:10]\n",
    "mostImportant = sorted_gainDf.columns[-11:]"
   ]
  },
  {
   "cell_type": "code",
   "execution_count": 157,
   "id": "ed29e3ea",
   "metadata": {},
   "outputs": [
    {
     "name": "stdout",
     "output_type": "stream",
     "text": [
      "Index(['seen', '100th', '105', '1794', '1800', '1800s', '1840', '1914', '1934',\n",
      "       '1963'],\n",
      "      dtype='object')\n"
     ]
    }
   ],
   "source": [
    "print(leastImportant)"
   ]
  },
  {
   "cell_type": "code",
   "execution_count": 158,
   "id": "af52ce62",
   "metadata": {},
   "outputs": [
    {
     "name": "stdout",
     "output_type": "stream",
     "text": [
      "Index(['wonderful', 'no', 'boring', 'stupid', 'terrible', 'great', 'excellent',\n",
      "       'awful', 'waste', 'worst', 'bad'],\n",
      "      dtype='object')\n"
     ]
    }
   ],
   "source": [
    "print(mostImportant)"
   ]
  },
  {
   "cell_type": "markdown",
   "id": "872873af",
   "metadata": {},
   "source": [
    "# First Trial without feature selection"
   ]
  },
  {
   "cell_type": "code",
   "execution_count": 253,
   "id": "fcc1e4ef",
   "metadata": {},
   "outputs": [],
   "source": [
    "from sklearn import tree\n",
    "from sklearn.metrics import confusion_matrix, accuracy_score,f1_score, recall_score, precision_score"
   ]
  },
  {
   "cell_type": "code",
   "execution_count": 254,
   "id": "c061b48f",
   "metadata": {},
   "outputs": [],
   "source": [
    "X_train = X_trainTextdf.to_numpy()\n",
    "y_train = y_trainTextdf\n",
    "clf = tree.DecisionTreeClassifier(criterion = \"entropy\", random_state = 8)\n",
    "clf = clf.fit(X_train, y_train)"
   ]
  },
  {
   "cell_type": "code",
   "execution_count": 255,
   "id": "fa563f0a",
   "metadata": {},
   "outputs": [
    {
     "data": {
      "text/plain": [
       "(2000, 25135)"
      ]
     },
     "execution_count": 255,
     "metadata": {},
     "output_type": "execute_result"
    }
   ],
   "source": [
    "X_train.shape"
   ]
  },
  {
   "cell_type": "code",
   "execution_count": 256,
   "id": "64cf99a7",
   "metadata": {},
   "outputs": [],
   "source": [
    "X_test = X_testTextdf.to_numpy()\n",
    "y_test = y_testTextdf"
   ]
  },
  {
   "cell_type": "code",
   "execution_count": 257,
   "id": "d1dbd034",
   "metadata": {},
   "outputs": [
    {
     "name": "stderr",
     "output_type": "stream",
     "text": [
      "/home/sawaiz/anaconda3/lib/python3.9/site-packages/sklearn/base.py:450: UserWarning: X does not have valid feature names, but DecisionTreeClassifier was fitted with feature names\n",
      "  warnings.warn(\n"
     ]
    }
   ],
   "source": [
    "preds = clf.predict(X_test)"
   ]
  },
  {
   "cell_type": "code",
   "execution_count": 258,
   "id": "0f0db9f3",
   "metadata": {},
   "outputs": [
    {
     "data": {
      "text/plain": [
       "(500,)"
      ]
     },
     "execution_count": 258,
     "metadata": {},
     "output_type": "execute_result"
    }
   ],
   "source": [
    "preds.shape"
   ]
  },
  {
   "cell_type": "code",
   "execution_count": 259,
   "id": "c5f2768c",
   "metadata": {},
   "outputs": [
    {
     "data": {
      "text/plain": [
       "array([[151,  82],\n",
       "       [ 88, 179]])"
      ]
     },
     "execution_count": 259,
     "metadata": {},
     "output_type": "execute_result"
    }
   ],
   "source": [
    "confusion_matrix(preds, y_test)"
   ]
  },
  {
   "cell_type": "code",
   "execution_count": 260,
   "id": "29e3f393",
   "metadata": {},
   "outputs": [
    {
     "data": {
      "text/plain": [
       "0.66"
      ]
     },
     "execution_count": 260,
     "metadata": {},
     "output_type": "execute_result"
    }
   ],
   "source": [
    "accuracy_score(preds, y_test)"
   ]
  },
  {
   "cell_type": "code",
   "execution_count": 261,
   "id": "69202915",
   "metadata": {},
   "outputs": [
    {
     "data": {
      "text/plain": [
       "0.678030303030303"
      ]
     },
     "execution_count": 261,
     "metadata": {},
     "output_type": "execute_result"
    }
   ],
   "source": [
    "f1_score(preds, y_test)"
   ]
  },
  {
   "cell_type": "code",
   "execution_count": 244,
   "id": "3272bcd9",
   "metadata": {},
   "outputs": [
    {
     "data": {
      "text/plain": [
       "0.685823754789272"
      ]
     },
     "execution_count": 244,
     "metadata": {},
     "output_type": "execute_result"
    }
   ],
   "source": [
    "precision_score(preds, y_test)\n"
   ]
  },
  {
   "cell_type": "code",
   "execution_count": 245,
   "id": "37b39a2b",
   "metadata": {},
   "outputs": [
    {
     "data": {
      "text/plain": [
       "0.6704119850187266"
      ]
     },
     "execution_count": 245,
     "metadata": {},
     "output_type": "execute_result"
    }
   ],
   "source": [
    "recall_score(preds, y_test)"
   ]
  },
  {
   "cell_type": "markdown",
   "id": "3e17002b",
   "metadata": {},
   "source": [
    "# Second trial: With feature selection best 90 percent "
   ]
  },
  {
   "cell_type": "code",
   "execution_count": 229,
   "id": "05daa3cc",
   "metadata": {},
   "outputs": [],
   "source": [
    "columns_needed = -1 *sorted_gainDf.shape[1] * 0.9\n",
    "mostImportantColumns = sorted_gainDf.columns[int(columns_needed):] "
   ]
  },
  {
   "cell_type": "code",
   "execution_count": 230,
   "id": "7fdcb11f",
   "metadata": {},
   "outputs": [],
   "source": [
    "bestGainDf = gainDf.loc[:, mostImportantColumns]"
   ]
  },
  {
   "cell_type": "code",
   "execution_count": 231,
   "id": "4bb45e84",
   "metadata": {},
   "outputs": [
    {
     "data": {
      "text/plain": [
       "(1, 22621)"
      ]
     },
     "execution_count": 231,
     "metadata": {},
     "output_type": "execute_result"
    }
   ],
   "source": [
    "bestGainDf.shape"
   ]
  },
  {
   "cell_type": "markdown",
   "id": "a98657e1",
   "metadata": {},
   "source": [
    "# Second Trial "
   ]
  },
  {
   "cell_type": "code",
   "execution_count": 232,
   "id": "4fdab4ca",
   "metadata": {},
   "outputs": [],
   "source": [
    "X_train = X_trainTextdf[bestGainDf.columns]\n",
    "y_train = y_trainTextdf\n",
    "clf = tree.DecisionTreeClassifier(criterion = \"entropy\", random_state = 8)\n",
    "clf = clf.fit(X_train, y_train)"
   ]
  },
  {
   "cell_type": "code",
   "execution_count": 174,
   "id": "749ea364",
   "metadata": {},
   "outputs": [],
   "source": [
    "X_test = X_testTextdf[bestGainDf.columns]\n",
    "preds = clf.predict(X_test)"
   ]
  },
  {
   "cell_type": "code",
   "execution_count": 175,
   "id": "8d7bc502",
   "metadata": {},
   "outputs": [
    {
     "data": {
      "text/plain": [
       "array([[151,  84],\n",
       "       [ 88, 177]])"
      ]
     },
     "execution_count": 175,
     "metadata": {},
     "output_type": "execute_result"
    }
   ],
   "source": [
    "confusion_matrix(preds, y_testTextdf)"
   ]
  },
  {
   "cell_type": "code",
   "execution_count": 176,
   "id": "8843a69b",
   "metadata": {},
   "outputs": [
    {
     "data": {
      "text/plain": [
       "0.656"
      ]
     },
     "execution_count": 176,
     "metadata": {},
     "output_type": "execute_result"
    }
   ],
   "source": [
    "accuracy_score(preds, y_testTextdf)"
   ]
  },
  {
   "cell_type": "code",
   "execution_count": 177,
   "id": "0665fc18",
   "metadata": {},
   "outputs": [
    {
     "data": {
      "text/plain": [
       "0.6730038022813687"
      ]
     },
     "execution_count": 177,
     "metadata": {},
     "output_type": "execute_result"
    }
   ],
   "source": [
    "f1_score(preds, y_testTextdf)"
   ]
  },
  {
   "cell_type": "code",
   "execution_count": 178,
   "id": "9276a4cd",
   "metadata": {},
   "outputs": [
    {
     "data": {
      "text/plain": [
       "0.6679245283018868"
      ]
     },
     "execution_count": 178,
     "metadata": {},
     "output_type": "execute_result"
    }
   ],
   "source": [
    "recall_score(preds, y_testTextdf)"
   ]
  },
  {
   "cell_type": "code",
   "execution_count": 179,
   "id": "e864e7fd",
   "metadata": {},
   "outputs": [
    {
     "data": {
      "text/plain": [
       "0.6781609195402298"
      ]
     },
     "execution_count": 179,
     "metadata": {},
     "output_type": "execute_result"
    }
   ],
   "source": [
    "precision_score(preds, y_testTextdf)"
   ]
  },
  {
   "cell_type": "markdown",
   "id": "27489c0b",
   "metadata": {},
   "source": [
    "# Third trial: Remove columns that have 0 gain then try different percentages for removal of data"
   ]
  },
  {
   "cell_type": "code",
   "execution_count": 262,
   "id": "0e65fc9f",
   "metadata": {},
   "outputs": [],
   "source": [
    "df = sorted_gainDf.loc[:, (sorted_gainDf > 0).any(axis=0)]"
   ]
  },
  {
   "cell_type": "code",
   "execution_count": 263,
   "id": "9a0392fd",
   "metadata": {},
   "outputs": [
    {
     "data": {
      "text/html": [
       "<div>\n",
       "<style scoped>\n",
       "    .dataframe tbody tr th:only-of-type {\n",
       "        vertical-align: middle;\n",
       "    }\n",
       "\n",
       "    .dataframe tbody tr th {\n",
       "        vertical-align: top;\n",
       "    }\n",
       "\n",
       "    .dataframe thead th {\n",
       "        text-align: right;\n",
       "    }\n",
       "</style>\n",
       "<table border=\"1\" class=\"dataframe\">\n",
       "  <thead>\n",
       "    <tr style=\"text-align: right;\">\n",
       "      <th></th>\n",
       "      <th>seen</th>\n",
       "      <th>100th</th>\n",
       "      <th>105</th>\n",
       "      <th>1794</th>\n",
       "      <th>1800</th>\n",
       "      <th>1800s</th>\n",
       "      <th>1840</th>\n",
       "      <th>1914</th>\n",
       "      <th>1934</th>\n",
       "      <th>1963</th>\n",
       "      <th>...</th>\n",
       "      <th>no</th>\n",
       "      <th>boring</th>\n",
       "      <th>stupid</th>\n",
       "      <th>terrible</th>\n",
       "      <th>great</th>\n",
       "      <th>excellent</th>\n",
       "      <th>awful</th>\n",
       "      <th>waste</th>\n",
       "      <th>worst</th>\n",
       "      <th>bad</th>\n",
       "    </tr>\n",
       "  </thead>\n",
       "  <tbody>\n",
       "    <tr>\n",
       "      <th>gain</th>\n",
       "      <td>7.534844e-09</td>\n",
       "      <td>1.251267e-08</td>\n",
       "      <td>1.251267e-08</td>\n",
       "      <td>1.251267e-08</td>\n",
       "      <td>1.251267e-08</td>\n",
       "      <td>1.251267e-08</td>\n",
       "      <td>1.251267e-08</td>\n",
       "      <td>1.251267e-08</td>\n",
       "      <td>1.251267e-08</td>\n",
       "      <td>1.251267e-08</td>\n",
       "      <td>...</td>\n",
       "      <td>0.015746</td>\n",
       "      <td>0.015948</td>\n",
       "      <td>0.016204</td>\n",
       "      <td>0.016234</td>\n",
       "      <td>0.020785</td>\n",
       "      <td>0.02297</td>\n",
       "      <td>0.02389</td>\n",
       "      <td>0.025341</td>\n",
       "      <td>0.035207</td>\n",
       "      <td>0.043831</td>\n",
       "    </tr>\n",
       "  </tbody>\n",
       "</table>\n",
       "<p>1 rows × 25135 columns</p>\n",
       "</div>"
      ],
      "text/plain": [
       "              seen         100th           105          1794          1800  \\\n",
       "gain  7.534844e-09  1.251267e-08  1.251267e-08  1.251267e-08  1.251267e-08   \n",
       "\n",
       "             1800s          1840          1914          1934          1963  \\\n",
       "gain  1.251267e-08  1.251267e-08  1.251267e-08  1.251267e-08  1.251267e-08   \n",
       "\n",
       "      ...        no    boring    stupid  terrible     great  excellent  \\\n",
       "gain  ...  0.015746  0.015948  0.016204  0.016234  0.020785    0.02297   \n",
       "\n",
       "        awful     waste     worst       bad  \n",
       "gain  0.02389  0.025341  0.035207  0.043831  \n",
       "\n",
       "[1 rows x 25135 columns]"
      ]
     },
     "execution_count": 263,
     "metadata": {},
     "output_type": "execute_result"
    }
   ],
   "source": [
    "df.head()"
   ]
  },
  {
   "cell_type": "code",
   "execution_count": 264,
   "id": "87899511",
   "metadata": {},
   "outputs": [],
   "source": [
    "percentage_selected = 0.4\n",
    "columns_needed = -1 *df.shape[1] * percentage_selected\n",
    "mostImportantColumns = df.columns[int(columns_needed):]\n",
    "bestGainDf = df.loc[:, mostImportantColumns]"
   ]
  },
  {
   "cell_type": "code",
   "execution_count": 183,
   "id": "2ca38be5",
   "metadata": {},
   "outputs": [
    {
     "data": {
      "text/html": [
       "<div>\n",
       "<style scoped>\n",
       "    .dataframe tbody tr th:only-of-type {\n",
       "        vertical-align: middle;\n",
       "    }\n",
       "\n",
       "    .dataframe tbody tr th {\n",
       "        vertical-align: top;\n",
       "    }\n",
       "\n",
       "    .dataframe thead th {\n",
       "        text-align: right;\n",
       "    }\n",
       "</style>\n",
       "<table border=\"1\" class=\"dataframe\">\n",
       "  <thead>\n",
       "    <tr style=\"text-align: right;\">\n",
       "      <th></th>\n",
       "      <th>sabotage</th>\n",
       "      <th>sabrina</th>\n",
       "      <th>sacha</th>\n",
       "      <th>sacks</th>\n",
       "      <th>sacrifices</th>\n",
       "      <th>sadden</th>\n",
       "      <th>saddle</th>\n",
       "      <th>sadhu</th>\n",
       "      <th>sadist</th>\n",
       "      <th>sagacious</th>\n",
       "      <th>...</th>\n",
       "      <th>no</th>\n",
       "      <th>boring</th>\n",
       "      <th>stupid</th>\n",
       "      <th>terrible</th>\n",
       "      <th>great</th>\n",
       "      <th>excellent</th>\n",
       "      <th>awful</th>\n",
       "      <th>waste</th>\n",
       "      <th>worst</th>\n",
       "      <th>bad</th>\n",
       "    </tr>\n",
       "  </thead>\n",
       "  <tbody>\n",
       "    <tr>\n",
       "      <th>gain</th>\n",
       "      <td>0.000344</td>\n",
       "      <td>0.000344</td>\n",
       "      <td>0.000344</td>\n",
       "      <td>0.000344</td>\n",
       "      <td>0.000344</td>\n",
       "      <td>0.000344</td>\n",
       "      <td>0.000344</td>\n",
       "      <td>0.000344</td>\n",
       "      <td>0.000344</td>\n",
       "      <td>0.000344</td>\n",
       "      <td>...</td>\n",
       "      <td>0.015746</td>\n",
       "      <td>0.015948</td>\n",
       "      <td>0.016204</td>\n",
       "      <td>0.016234</td>\n",
       "      <td>0.020785</td>\n",
       "      <td>0.02297</td>\n",
       "      <td>0.02389</td>\n",
       "      <td>0.025341</td>\n",
       "      <td>0.035207</td>\n",
       "      <td>0.043831</td>\n",
       "    </tr>\n",
       "  </tbody>\n",
       "</table>\n",
       "<p>1 rows × 12567 columns</p>\n",
       "</div>"
      ],
      "text/plain": [
       "      sabotage   sabrina     sacha     sacks  sacrifices    sadden    saddle  \\\n",
       "gain  0.000344  0.000344  0.000344  0.000344    0.000344  0.000344  0.000344   \n",
       "\n",
       "         sadhu    sadist  sagacious  ...        no    boring    stupid  \\\n",
       "gain  0.000344  0.000344   0.000344  ...  0.015746  0.015948  0.016204   \n",
       "\n",
       "      terrible     great  excellent    awful     waste     worst       bad  \n",
       "gain  0.016234  0.020785    0.02297  0.02389  0.025341  0.035207  0.043831  \n",
       "\n",
       "[1 rows x 12567 columns]"
      ]
     },
     "execution_count": 183,
     "metadata": {},
     "output_type": "execute_result"
    }
   ],
   "source": [
    "bestGainDf.head()"
   ]
  },
  {
   "cell_type": "markdown",
   "id": "aaec451b",
   "metadata": {},
   "source": [
    "# Third Trial \n"
   ]
  },
  {
   "cell_type": "code",
   "execution_count": 246,
   "id": "4fbe6481",
   "metadata": {},
   "outputs": [],
   "source": [
    "X_train = X_trainTextdf[bestGainDf.columns]\n",
    "y_train = y_trainTextdf\n",
    "clf = tree.DecisionTreeClassifier(criterion = \"entropy\", random_state = 8)\n",
    "clf = clf.fit(X_train, y_train)"
   ]
  },
  {
   "cell_type": "code",
   "execution_count": 247,
   "id": "250e62bb",
   "metadata": {},
   "outputs": [],
   "source": [
    "X_test = X_testTextdf[bestGainDf.columns]\n",
    "preds = clf.predict(X_test)"
   ]
  },
  {
   "cell_type": "code",
   "execution_count": 248,
   "id": "b0d51eea",
   "metadata": {},
   "outputs": [
    {
     "data": {
      "text/plain": [
       "array([[151,  84],\n",
       "       [ 88, 177]])"
      ]
     },
     "execution_count": 248,
     "metadata": {},
     "output_type": "execute_result"
    }
   ],
   "source": [
    "confusion_matrix(preds, y_testTextdf)"
   ]
  },
  {
   "cell_type": "code",
   "execution_count": 249,
   "id": "22c01ac6",
   "metadata": {},
   "outputs": [
    {
     "data": {
      "text/plain": [
       "0.656"
      ]
     },
     "execution_count": 249,
     "metadata": {},
     "output_type": "execute_result"
    }
   ],
   "source": [
    "accuracy_score(preds, y_testTextdf)"
   ]
  },
  {
   "cell_type": "code",
   "execution_count": 250,
   "id": "5d248e58",
   "metadata": {},
   "outputs": [
    {
     "data": {
      "text/plain": [
       "0.6730038022813687"
      ]
     },
     "execution_count": 250,
     "metadata": {},
     "output_type": "execute_result"
    }
   ],
   "source": [
    "f1_score(preds, y_testTextdf)"
   ]
  },
  {
   "cell_type": "code",
   "execution_count": 251,
   "id": "8015ef53",
   "metadata": {},
   "outputs": [
    {
     "data": {
      "text/plain": [
       "0.6679245283018868"
      ]
     },
     "execution_count": 251,
     "metadata": {},
     "output_type": "execute_result"
    }
   ],
   "source": [
    "recall_score(preds, y_testTextdf)"
   ]
  },
  {
   "cell_type": "code",
   "execution_count": 252,
   "id": "82506c97",
   "metadata": {},
   "outputs": [
    {
     "data": {
      "text/plain": [
       "0.6781609195402298"
      ]
     },
     "execution_count": 252,
     "metadata": {},
     "output_type": "execute_result"
    }
   ],
   "source": [
    "precision_score(preds, y_testTextdf)"
   ]
  },
  {
   "cell_type": "code",
   "execution_count": null,
   "id": "576e7736",
   "metadata": {},
   "outputs": [],
   "source": []
  }
 ],
 "metadata": {
  "kernelspec": {
   "display_name": "Python 3 (ipykernel)",
   "language": "python",
   "name": "python3"
  },
  "language_info": {
   "codemirror_mode": {
    "name": "ipython",
    "version": 3
   },
   "file_extension": ".py",
   "mimetype": "text/x-python",
   "name": "python",
   "nbconvert_exporter": "python",
   "pygments_lexer": "ipython3",
   "version": "3.9.16"
  }
 },
 "nbformat": 4,
 "nbformat_minor": 5
}
